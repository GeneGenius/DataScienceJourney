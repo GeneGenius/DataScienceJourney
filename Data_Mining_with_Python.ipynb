{
  "nbformat": 4,
  "nbformat_minor": 0,
  "metadata": {
    "colab": {
      "provenance": [],
      "toc_visible": true,
      "authorship_tag": "ABX9TyNW61L6mCZgnWM7FmfYITrg",
      "include_colab_link": true
    },
    "kernelspec": {
      "name": "python3",
      "display_name": "Python 3"
    },
    "language_info": {
      "name": "python"
    }
  },
  "cells": [
    {
      "cell_type": "markdown",
      "metadata": {
        "id": "view-in-github",
        "colab_type": "text"
      },
      "source": [
        "<a href=\"https://colab.research.google.com/github/GeneGenius/DataScienceJourney/blob/main/Data_Mining_with_Python.ipynb\" target=\"_parent\"><img src=\"https://colab.research.google.com/assets/colab-badge.svg\" alt=\"Open In Colab\"/></a>"
      ]
    },
    {
      "cell_type": "markdown",
      "source": [
        "# Data Mining with Python"
      ],
      "metadata": {
        "id": "rgIto3Qhp_hx"
      }
    },
    {
      "cell_type": "code",
      "execution_count": null,
      "metadata": {
        "id": "SF7Zk0tXMQuA"
      },
      "outputs": [],
      "source": [
        "import pandas as pd\n",
        "import seaborn as sns\n",
        "import numpy as np\n",
        "import matplotlib.pyplot as plt\n",
        "\n",
        "%matplotlib inline"
      ]
    },
    {
      "cell_type": "code",
      "source": [
        "from google.colab import drive\n",
        "drive.mount(\"/content/drive\")\n",
        "#uploaded = files.upload()\n",
        "# %cd /Colab_Notebooks"
      ],
      "metadata": {
        "colab": {
          "base_uri": "https://localhost:8080/"
        },
        "id": "tI8YwrenIM8_",
        "outputId": "304f3612-4bf9-4f12-8a00-6442c50cf2a1"
      },
      "execution_count": null,
      "outputs": [
        {
          "output_type": "stream",
          "name": "stdout",
          "text": [
            "Mounted at /content/drive\n"
          ]
        }
      ]
    },
    {
      "cell_type": "code",
      "source": [
        "file = r'/content/drive/MyDrive/Colab_Notebooks/Machine_Learning/single_family_home_values.csv'\n",
        "df = pd.read_csv(file)"
      ],
      "metadata": {
        "id": "QPP_Sycos2Ai"
      },
      "execution_count": null,
      "outputs": []
    },
    {
      "cell_type": "code",
      "source": [
        "df.head(10)"
      ],
      "metadata": {
        "colab": {
          "base_uri": "https://localhost:8080/",
          "height": 687
        },
        "id": "5ESeZzg8M9Vu",
        "outputId": "a264f906-40a9-464e-df2b-3aded41ef21b"
      },
      "execution_count": null,
      "outputs": [
        {
          "output_type": "execute_result",
          "data": {
            "text/plain": [
              "          id                address    city state  zipcode   latitude  \\\n",
              "0   39525749        8171 E 84th Ave  Denver    CO    80022  39.849160   \n",
              "1  184578398      10556 Wheeling St  Denver    CO    80022  39.888020   \n",
              "2  184430015    3190 Wadsworth Blvd  Denver    CO    80033  39.761710   \n",
              "3  155129946    3040 Wadsworth Blvd  Denver    CO    80033  39.760780   \n",
              "4     245107        5615 S Eaton St  Denver    CO    80123  39.616181   \n",
              "5    3523925       6535 W Sumac Ave  Denver    CO    80123  39.615136   \n",
              "6   30560679       6673 W Berry Ave  Denver    CO    80123  39.616350   \n",
              "7   39623928         5640 S Otis St  Denver    CO    80123  39.615213   \n",
              "8  148975825         5342 S Gray St  Denver    CO    80123  39.620158   \n",
              "9  184623176  4967 S Wadsworth Blvd  Denver    CO    80123  39.626770   \n",
              "\n",
              "    longitude  bedrooms  bathrooms  rooms  squareFootage  lotSize  yearBuilt  \\\n",
              "0 -104.893468         3        2.0      6           1378     9968     2003.0   \n",
              "1 -104.830930         2        2.0      6           1653     6970     2004.0   \n",
              "2 -105.081070         3        1.0      0           1882    23875     1917.0   \n",
              "3 -105.081060         4        3.0      0           2400    11500     1956.0   \n",
              "4 -105.058812         3        4.0      8           2305     5600     1998.0   \n",
              "5 -105.069018         3        5.0      7           2051     6045     1996.0   \n",
              "6 -105.070760         4        4.0      8           2051     6315     1997.0   \n",
              "7 -105.070617         3        3.0      7           2051     8133     1997.0   \n",
              "8 -105.063094         3        3.0      7           1796     5038     1999.0   \n",
              "9 -105.081990         3        3.0      0           2054     4050     2007.0   \n",
              "\n",
              "  lastSaleDate  lastSaleAmount priorSaleDate  priorSaleAmount  estimated_value  \n",
              "0   2009-12-17           75000    2004-05-13         165700.0           239753  \n",
              "1   2004-09-23          216935           NaN              NaN           343963  \n",
              "2   2008-04-03          330000           NaN              NaN           488840  \n",
              "3   2008-12-02          185000    2008-06-27              0.0           494073  \n",
              "4   2012-07-18          308000    2011-12-29              0.0           513676  \n",
              "5   2006-09-12          363500    2005-05-16         339000.0           496062  \n",
              "6   2014-12-15          420000    2006-07-07         345000.0           514953  \n",
              "7   2004-03-15          328700    1998-04-09         225200.0           494321  \n",
              "8   2011-08-16          274900    2011-01-10              0.0           496079  \n",
              "9   2015-12-01          407000    2012-10-30         312000.0           424514  "
            ],
            "text/html": [
              "\n",
              "  <div id=\"df-aef6ec64-5f92-4299-b81f-94583ed08884\">\n",
              "    <div class=\"colab-df-container\">\n",
              "      <div>\n",
              "<style scoped>\n",
              "    .dataframe tbody tr th:only-of-type {\n",
              "        vertical-align: middle;\n",
              "    }\n",
              "\n",
              "    .dataframe tbody tr th {\n",
              "        vertical-align: top;\n",
              "    }\n",
              "\n",
              "    .dataframe thead th {\n",
              "        text-align: right;\n",
              "    }\n",
              "</style>\n",
              "<table border=\"1\" class=\"dataframe\">\n",
              "  <thead>\n",
              "    <tr style=\"text-align: right;\">\n",
              "      <th></th>\n",
              "      <th>id</th>\n",
              "      <th>address</th>\n",
              "      <th>city</th>\n",
              "      <th>state</th>\n",
              "      <th>zipcode</th>\n",
              "      <th>latitude</th>\n",
              "      <th>longitude</th>\n",
              "      <th>bedrooms</th>\n",
              "      <th>bathrooms</th>\n",
              "      <th>rooms</th>\n",
              "      <th>squareFootage</th>\n",
              "      <th>lotSize</th>\n",
              "      <th>yearBuilt</th>\n",
              "      <th>lastSaleDate</th>\n",
              "      <th>lastSaleAmount</th>\n",
              "      <th>priorSaleDate</th>\n",
              "      <th>priorSaleAmount</th>\n",
              "      <th>estimated_value</th>\n",
              "    </tr>\n",
              "  </thead>\n",
              "  <tbody>\n",
              "    <tr>\n",
              "      <th>0</th>\n",
              "      <td>39525749</td>\n",
              "      <td>8171 E 84th Ave</td>\n",
              "      <td>Denver</td>\n",
              "      <td>CO</td>\n",
              "      <td>80022</td>\n",
              "      <td>39.849160</td>\n",
              "      <td>-104.893468</td>\n",
              "      <td>3</td>\n",
              "      <td>2.0</td>\n",
              "      <td>6</td>\n",
              "      <td>1378</td>\n",
              "      <td>9968</td>\n",
              "      <td>2003.0</td>\n",
              "      <td>2009-12-17</td>\n",
              "      <td>75000</td>\n",
              "      <td>2004-05-13</td>\n",
              "      <td>165700.0</td>\n",
              "      <td>239753</td>\n",
              "    </tr>\n",
              "    <tr>\n",
              "      <th>1</th>\n",
              "      <td>184578398</td>\n",
              "      <td>10556 Wheeling St</td>\n",
              "      <td>Denver</td>\n",
              "      <td>CO</td>\n",
              "      <td>80022</td>\n",
              "      <td>39.888020</td>\n",
              "      <td>-104.830930</td>\n",
              "      <td>2</td>\n",
              "      <td>2.0</td>\n",
              "      <td>6</td>\n",
              "      <td>1653</td>\n",
              "      <td>6970</td>\n",
              "      <td>2004.0</td>\n",
              "      <td>2004-09-23</td>\n",
              "      <td>216935</td>\n",
              "      <td>NaN</td>\n",
              "      <td>NaN</td>\n",
              "      <td>343963</td>\n",
              "    </tr>\n",
              "    <tr>\n",
              "      <th>2</th>\n",
              "      <td>184430015</td>\n",
              "      <td>3190 Wadsworth Blvd</td>\n",
              "      <td>Denver</td>\n",
              "      <td>CO</td>\n",
              "      <td>80033</td>\n",
              "      <td>39.761710</td>\n",
              "      <td>-105.081070</td>\n",
              "      <td>3</td>\n",
              "      <td>1.0</td>\n",
              "      <td>0</td>\n",
              "      <td>1882</td>\n",
              "      <td>23875</td>\n",
              "      <td>1917.0</td>\n",
              "      <td>2008-04-03</td>\n",
              "      <td>330000</td>\n",
              "      <td>NaN</td>\n",
              "      <td>NaN</td>\n",
              "      <td>488840</td>\n",
              "    </tr>\n",
              "    <tr>\n",
              "      <th>3</th>\n",
              "      <td>155129946</td>\n",
              "      <td>3040 Wadsworth Blvd</td>\n",
              "      <td>Denver</td>\n",
              "      <td>CO</td>\n",
              "      <td>80033</td>\n",
              "      <td>39.760780</td>\n",
              "      <td>-105.081060</td>\n",
              "      <td>4</td>\n",
              "      <td>3.0</td>\n",
              "      <td>0</td>\n",
              "      <td>2400</td>\n",
              "      <td>11500</td>\n",
              "      <td>1956.0</td>\n",
              "      <td>2008-12-02</td>\n",
              "      <td>185000</td>\n",
              "      <td>2008-06-27</td>\n",
              "      <td>0.0</td>\n",
              "      <td>494073</td>\n",
              "    </tr>\n",
              "    <tr>\n",
              "      <th>4</th>\n",
              "      <td>245107</td>\n",
              "      <td>5615 S Eaton St</td>\n",
              "      <td>Denver</td>\n",
              "      <td>CO</td>\n",
              "      <td>80123</td>\n",
              "      <td>39.616181</td>\n",
              "      <td>-105.058812</td>\n",
              "      <td>3</td>\n",
              "      <td>4.0</td>\n",
              "      <td>8</td>\n",
              "      <td>2305</td>\n",
              "      <td>5600</td>\n",
              "      <td>1998.0</td>\n",
              "      <td>2012-07-18</td>\n",
              "      <td>308000</td>\n",
              "      <td>2011-12-29</td>\n",
              "      <td>0.0</td>\n",
              "      <td>513676</td>\n",
              "    </tr>\n",
              "    <tr>\n",
              "      <th>5</th>\n",
              "      <td>3523925</td>\n",
              "      <td>6535 W Sumac Ave</td>\n",
              "      <td>Denver</td>\n",
              "      <td>CO</td>\n",
              "      <td>80123</td>\n",
              "      <td>39.615136</td>\n",
              "      <td>-105.069018</td>\n",
              "      <td>3</td>\n",
              "      <td>5.0</td>\n",
              "      <td>7</td>\n",
              "      <td>2051</td>\n",
              "      <td>6045</td>\n",
              "      <td>1996.0</td>\n",
              "      <td>2006-09-12</td>\n",
              "      <td>363500</td>\n",
              "      <td>2005-05-16</td>\n",
              "      <td>339000.0</td>\n",
              "      <td>496062</td>\n",
              "    </tr>\n",
              "    <tr>\n",
              "      <th>6</th>\n",
              "      <td>30560679</td>\n",
              "      <td>6673 W Berry Ave</td>\n",
              "      <td>Denver</td>\n",
              "      <td>CO</td>\n",
              "      <td>80123</td>\n",
              "      <td>39.616350</td>\n",
              "      <td>-105.070760</td>\n",
              "      <td>4</td>\n",
              "      <td>4.0</td>\n",
              "      <td>8</td>\n",
              "      <td>2051</td>\n",
              "      <td>6315</td>\n",
              "      <td>1997.0</td>\n",
              "      <td>2014-12-15</td>\n",
              "      <td>420000</td>\n",
              "      <td>2006-07-07</td>\n",
              "      <td>345000.0</td>\n",
              "      <td>514953</td>\n",
              "    </tr>\n",
              "    <tr>\n",
              "      <th>7</th>\n",
              "      <td>39623928</td>\n",
              "      <td>5640 S Otis St</td>\n",
              "      <td>Denver</td>\n",
              "      <td>CO</td>\n",
              "      <td>80123</td>\n",
              "      <td>39.615213</td>\n",
              "      <td>-105.070617</td>\n",
              "      <td>3</td>\n",
              "      <td>3.0</td>\n",
              "      <td>7</td>\n",
              "      <td>2051</td>\n",
              "      <td>8133</td>\n",
              "      <td>1997.0</td>\n",
              "      <td>2004-03-15</td>\n",
              "      <td>328700</td>\n",
              "      <td>1998-04-09</td>\n",
              "      <td>225200.0</td>\n",
              "      <td>494321</td>\n",
              "    </tr>\n",
              "    <tr>\n",
              "      <th>8</th>\n",
              "      <td>148975825</td>\n",
              "      <td>5342 S Gray St</td>\n",
              "      <td>Denver</td>\n",
              "      <td>CO</td>\n",
              "      <td>80123</td>\n",
              "      <td>39.620158</td>\n",
              "      <td>-105.063094</td>\n",
              "      <td>3</td>\n",
              "      <td>3.0</td>\n",
              "      <td>7</td>\n",
              "      <td>1796</td>\n",
              "      <td>5038</td>\n",
              "      <td>1999.0</td>\n",
              "      <td>2011-08-16</td>\n",
              "      <td>274900</td>\n",
              "      <td>2011-01-10</td>\n",
              "      <td>0.0</td>\n",
              "      <td>496079</td>\n",
              "    </tr>\n",
              "    <tr>\n",
              "      <th>9</th>\n",
              "      <td>184623176</td>\n",
              "      <td>4967 S Wadsworth Blvd</td>\n",
              "      <td>Denver</td>\n",
              "      <td>CO</td>\n",
              "      <td>80123</td>\n",
              "      <td>39.626770</td>\n",
              "      <td>-105.081990</td>\n",
              "      <td>3</td>\n",
              "      <td>3.0</td>\n",
              "      <td>0</td>\n",
              "      <td>2054</td>\n",
              "      <td>4050</td>\n",
              "      <td>2007.0</td>\n",
              "      <td>2015-12-01</td>\n",
              "      <td>407000</td>\n",
              "      <td>2012-10-30</td>\n",
              "      <td>312000.0</td>\n",
              "      <td>424514</td>\n",
              "    </tr>\n",
              "  </tbody>\n",
              "</table>\n",
              "</div>\n",
              "      <button class=\"colab-df-convert\" onclick=\"convertToInteractive('df-aef6ec64-5f92-4299-b81f-94583ed08884')\"\n",
              "              title=\"Convert this dataframe to an interactive table.\"\n",
              "              style=\"display:none;\">\n",
              "        \n",
              "  <svg xmlns=\"http://www.w3.org/2000/svg\" height=\"24px\"viewBox=\"0 0 24 24\"\n",
              "       width=\"24px\">\n",
              "    <path d=\"M0 0h24v24H0V0z\" fill=\"none\"/>\n",
              "    <path d=\"M18.56 5.44l.94 2.06.94-2.06 2.06-.94-2.06-.94-.94-2.06-.94 2.06-2.06.94zm-11 1L8.5 8.5l.94-2.06 2.06-.94-2.06-.94L8.5 2.5l-.94 2.06-2.06.94zm10 10l.94 2.06.94-2.06 2.06-.94-2.06-.94-.94-2.06-.94 2.06-2.06.94z\"/><path d=\"M17.41 7.96l-1.37-1.37c-.4-.4-.92-.59-1.43-.59-.52 0-1.04.2-1.43.59L10.3 9.45l-7.72 7.72c-.78.78-.78 2.05 0 2.83L4 21.41c.39.39.9.59 1.41.59.51 0 1.02-.2 1.41-.59l7.78-7.78 2.81-2.81c.8-.78.8-2.07 0-2.86zM5.41 20L4 18.59l7.72-7.72 1.47 1.35L5.41 20z\"/>\n",
              "  </svg>\n",
              "      </button>\n",
              "      \n",
              "  <style>\n",
              "    .colab-df-container {\n",
              "      display:flex;\n",
              "      flex-wrap:wrap;\n",
              "      gap: 12px;\n",
              "    }\n",
              "\n",
              "    .colab-df-convert {\n",
              "      background-color: #E8F0FE;\n",
              "      border: none;\n",
              "      border-radius: 50%;\n",
              "      cursor: pointer;\n",
              "      display: none;\n",
              "      fill: #1967D2;\n",
              "      height: 32px;\n",
              "      padding: 0 0 0 0;\n",
              "      width: 32px;\n",
              "    }\n",
              "\n",
              "    .colab-df-convert:hover {\n",
              "      background-color: #E2EBFA;\n",
              "      box-shadow: 0px 1px 2px rgba(60, 64, 67, 0.3), 0px 1px 3px 1px rgba(60, 64, 67, 0.15);\n",
              "      fill: #174EA6;\n",
              "    }\n",
              "\n",
              "    [theme=dark] .colab-df-convert {\n",
              "      background-color: #3B4455;\n",
              "      fill: #D2E3FC;\n",
              "    }\n",
              "\n",
              "    [theme=dark] .colab-df-convert:hover {\n",
              "      background-color: #434B5C;\n",
              "      box-shadow: 0px 1px 3px 1px rgba(0, 0, 0, 0.15);\n",
              "      filter: drop-shadow(0px 1px 2px rgba(0, 0, 0, 0.3));\n",
              "      fill: #FFFFFF;\n",
              "    }\n",
              "  </style>\n",
              "\n",
              "      <script>\n",
              "        const buttonEl =\n",
              "          document.querySelector('#df-aef6ec64-5f92-4299-b81f-94583ed08884 button.colab-df-convert');\n",
              "        buttonEl.style.display =\n",
              "          google.colab.kernel.accessAllowed ? 'block' : 'none';\n",
              "\n",
              "        async function convertToInteractive(key) {\n",
              "          const element = document.querySelector('#df-aef6ec64-5f92-4299-b81f-94583ed08884');\n",
              "          const dataTable =\n",
              "            await google.colab.kernel.invokeFunction('convertToInteractive',\n",
              "                                                     [key], {});\n",
              "          if (!dataTable) return;\n",
              "\n",
              "          const docLinkHtml = 'Like what you see? Visit the ' +\n",
              "            '<a target=\"_blank\" href=https://colab.research.google.com/notebooks/data_table.ipynb>data table notebook</a>'\n",
              "            + ' to learn more about interactive tables.';\n",
              "          element.innerHTML = '';\n",
              "          dataTable['output_type'] = 'display_data';\n",
              "          await google.colab.output.renderOutput(dataTable, element);\n",
              "          const docLink = document.createElement('div');\n",
              "          docLink.innerHTML = docLinkHtml;\n",
              "          element.appendChild(docLink);\n",
              "        }\n",
              "      </script>\n",
              "    </div>\n",
              "  </div>\n",
              "  "
            ]
          },
          "metadata": {},
          "execution_count": 4
        }
      ]
    },
    {
      "cell_type": "code",
      "source": [
        "df.shape"
      ],
      "metadata": {
        "id": "I20mIYsVIMOK",
        "colab": {
          "base_uri": "https://localhost:8080/"
        },
        "outputId": "440df636-10ed-4db6-a946-b6bde7805605"
      },
      "execution_count": null,
      "outputs": [
        {
          "output_type": "execute_result",
          "data": {
            "text/plain": [
              "(15000, 18)"
            ]
          },
          "metadata": {},
          "execution_count": 5
        }
      ]
    },
    {
      "cell_type": "code",
      "source": [
        "df.info()"
      ],
      "metadata": {
        "colab": {
          "base_uri": "https://localhost:8080/"
        },
        "id": "l3uXVCniv-z3",
        "outputId": "8ae3e4e3-2990-47b7-faac-4d813d59d91c"
      },
      "execution_count": null,
      "outputs": [
        {
          "output_type": "stream",
          "name": "stdout",
          "text": [
            "<class 'pandas.core.frame.DataFrame'>\n",
            "RangeIndex: 15000 entries, 0 to 14999\n",
            "Data columns (total 18 columns):\n",
            " #   Column           Non-Null Count  Dtype  \n",
            "---  ------           --------------  -----  \n",
            " 0   id               15000 non-null  int64  \n",
            " 1   address          15000 non-null  object \n",
            " 2   city             15000 non-null  object \n",
            " 3   state            15000 non-null  object \n",
            " 4   zipcode          15000 non-null  int64  \n",
            " 5   latitude         14985 non-null  float64\n",
            " 6   longitude        14985 non-null  float64\n",
            " 7   bedrooms         15000 non-null  int64  \n",
            " 8   bathrooms        15000 non-null  float64\n",
            " 9   rooms            15000 non-null  int64  \n",
            " 10  squareFootage    15000 non-null  int64  \n",
            " 11  lotSize          15000 non-null  int64  \n",
            " 12  yearBuilt        14999 non-null  float64\n",
            " 13  lastSaleDate     15000 non-null  object \n",
            " 14  lastSaleAmount   15000 non-null  int64  \n",
            " 15  priorSaleDate    11173 non-null  object \n",
            " 16  priorSaleAmount  11287 non-null  float64\n",
            " 17  estimated_value  15000 non-null  int64  \n",
            "dtypes: float64(5), int64(8), object(5)\n",
            "memory usage: 2.1+ MB\n"
          ]
        }
      ]
    },
    {
      "cell_type": "code",
      "source": [
        "df.describe()\n"
      ],
      "metadata": {
        "colab": {
          "base_uri": "https://localhost:8080/",
          "height": 364
        },
        "id": "k2JupNGewzO5",
        "outputId": "01e02822-0f57-432b-b5d2-54c04710a47e"
      },
      "execution_count": null,
      "outputs": [
        {
          "output_type": "execute_result",
          "data": {
            "text/plain": [
              "                 id       zipcode      latitude     longitude      bedrooms  \\\n",
              "count  1.500000e+04  15000.000000  14985.000000  14985.000000  15000.000000   \n",
              "mean   5.176229e+07  80204.919467     39.740538   -104.964076      2.708400   \n",
              "std    6.190876e+07      9.715263      0.023555      0.039788      0.897231   \n",
              "min    1.433670e+05  80022.000000     39.614531   -105.108440      0.000000   \n",
              "25%    1.004802e+07  80205.000000     39.727634   -104.978737      2.000000   \n",
              "50%    2.563241e+07  80206.000000     39.748048   -104.957689      3.000000   \n",
              "75%    5.114222e+07  80207.000000     39.758214   -104.937522      3.000000   \n",
              "max    3.209481e+08  80209.000000     39.888020   -104.830930     15.000000   \n",
              "\n",
              "          bathrooms         rooms  squareFootage       lotSize     yearBuilt  \\\n",
              "count  15000.000000  15000.000000   15000.000000   15000.00000  14999.000000   \n",
              "mean       2.195067      6.164133    1514.504400    5820.76620   1929.517168   \n",
              "std        1.166279      1.958601     830.635999    3013.27947     29.937051   \n",
              "min        0.000000      0.000000     350.000000     278.00000   1874.000000   \n",
              "25%        1.000000      5.000000     986.000000    4620.00000   1907.000000   \n",
              "50%        2.000000      6.000000    1267.500000    5950.00000   1925.000000   \n",
              "75%        3.000000      7.000000    1766.250000    6270.00000   1949.000000   \n",
              "max       12.000000     39.000000   10907.000000  122839.00000   2016.000000   \n",
              "\n",
              "       lastSaleAmount  priorSaleAmount  estimated_value  \n",
              "count    1.500000e+04     1.128700e+04     1.500000e+04  \n",
              "mean     4.053563e+05     2.594350e+05     6.371625e+05  \n",
              "std      7.756998e+05     3.379387e+05     5.044185e+05  \n",
              "min      2.590000e+02     0.000000e+00     1.477670e+05  \n",
              "25%      1.940000e+05     1.100000e+05     3.984348e+05  \n",
              "50%      3.200000e+05     2.100000e+05     5.183575e+05  \n",
              "75%      4.632000e+05     3.302400e+05     6.879692e+05  \n",
              "max      4.560000e+07     1.600000e+07     1.014531e+07  "
            ],
            "text/html": [
              "\n",
              "  <div id=\"df-a867d670-c735-4d3d-bdf6-14deb2a32389\">\n",
              "    <div class=\"colab-df-container\">\n",
              "      <div>\n",
              "<style scoped>\n",
              "    .dataframe tbody tr th:only-of-type {\n",
              "        vertical-align: middle;\n",
              "    }\n",
              "\n",
              "    .dataframe tbody tr th {\n",
              "        vertical-align: top;\n",
              "    }\n",
              "\n",
              "    .dataframe thead th {\n",
              "        text-align: right;\n",
              "    }\n",
              "</style>\n",
              "<table border=\"1\" class=\"dataframe\">\n",
              "  <thead>\n",
              "    <tr style=\"text-align: right;\">\n",
              "      <th></th>\n",
              "      <th>id</th>\n",
              "      <th>zipcode</th>\n",
              "      <th>latitude</th>\n",
              "      <th>longitude</th>\n",
              "      <th>bedrooms</th>\n",
              "      <th>bathrooms</th>\n",
              "      <th>rooms</th>\n",
              "      <th>squareFootage</th>\n",
              "      <th>lotSize</th>\n",
              "      <th>yearBuilt</th>\n",
              "      <th>lastSaleAmount</th>\n",
              "      <th>priorSaleAmount</th>\n",
              "      <th>estimated_value</th>\n",
              "    </tr>\n",
              "  </thead>\n",
              "  <tbody>\n",
              "    <tr>\n",
              "      <th>count</th>\n",
              "      <td>1.500000e+04</td>\n",
              "      <td>15000.000000</td>\n",
              "      <td>14985.000000</td>\n",
              "      <td>14985.000000</td>\n",
              "      <td>15000.000000</td>\n",
              "      <td>15000.000000</td>\n",
              "      <td>15000.000000</td>\n",
              "      <td>15000.000000</td>\n",
              "      <td>15000.00000</td>\n",
              "      <td>14999.000000</td>\n",
              "      <td>1.500000e+04</td>\n",
              "      <td>1.128700e+04</td>\n",
              "      <td>1.500000e+04</td>\n",
              "    </tr>\n",
              "    <tr>\n",
              "      <th>mean</th>\n",
              "      <td>5.176229e+07</td>\n",
              "      <td>80204.919467</td>\n",
              "      <td>39.740538</td>\n",
              "      <td>-104.964076</td>\n",
              "      <td>2.708400</td>\n",
              "      <td>2.195067</td>\n",
              "      <td>6.164133</td>\n",
              "      <td>1514.504400</td>\n",
              "      <td>5820.76620</td>\n",
              "      <td>1929.517168</td>\n",
              "      <td>4.053563e+05</td>\n",
              "      <td>2.594350e+05</td>\n",
              "      <td>6.371625e+05</td>\n",
              "    </tr>\n",
              "    <tr>\n",
              "      <th>std</th>\n",
              "      <td>6.190876e+07</td>\n",
              "      <td>9.715263</td>\n",
              "      <td>0.023555</td>\n",
              "      <td>0.039788</td>\n",
              "      <td>0.897231</td>\n",
              "      <td>1.166279</td>\n",
              "      <td>1.958601</td>\n",
              "      <td>830.635999</td>\n",
              "      <td>3013.27947</td>\n",
              "      <td>29.937051</td>\n",
              "      <td>7.756998e+05</td>\n",
              "      <td>3.379387e+05</td>\n",
              "      <td>5.044185e+05</td>\n",
              "    </tr>\n",
              "    <tr>\n",
              "      <th>min</th>\n",
              "      <td>1.433670e+05</td>\n",
              "      <td>80022.000000</td>\n",
              "      <td>39.614531</td>\n",
              "      <td>-105.108440</td>\n",
              "      <td>0.000000</td>\n",
              "      <td>0.000000</td>\n",
              "      <td>0.000000</td>\n",
              "      <td>350.000000</td>\n",
              "      <td>278.00000</td>\n",
              "      <td>1874.000000</td>\n",
              "      <td>2.590000e+02</td>\n",
              "      <td>0.000000e+00</td>\n",
              "      <td>1.477670e+05</td>\n",
              "    </tr>\n",
              "    <tr>\n",
              "      <th>25%</th>\n",
              "      <td>1.004802e+07</td>\n",
              "      <td>80205.000000</td>\n",
              "      <td>39.727634</td>\n",
              "      <td>-104.978737</td>\n",
              "      <td>2.000000</td>\n",
              "      <td>1.000000</td>\n",
              "      <td>5.000000</td>\n",
              "      <td>986.000000</td>\n",
              "      <td>4620.00000</td>\n",
              "      <td>1907.000000</td>\n",
              "      <td>1.940000e+05</td>\n",
              "      <td>1.100000e+05</td>\n",
              "      <td>3.984348e+05</td>\n",
              "    </tr>\n",
              "    <tr>\n",
              "      <th>50%</th>\n",
              "      <td>2.563241e+07</td>\n",
              "      <td>80206.000000</td>\n",
              "      <td>39.748048</td>\n",
              "      <td>-104.957689</td>\n",
              "      <td>3.000000</td>\n",
              "      <td>2.000000</td>\n",
              "      <td>6.000000</td>\n",
              "      <td>1267.500000</td>\n",
              "      <td>5950.00000</td>\n",
              "      <td>1925.000000</td>\n",
              "      <td>3.200000e+05</td>\n",
              "      <td>2.100000e+05</td>\n",
              "      <td>5.183575e+05</td>\n",
              "    </tr>\n",
              "    <tr>\n",
              "      <th>75%</th>\n",
              "      <td>5.114222e+07</td>\n",
              "      <td>80207.000000</td>\n",
              "      <td>39.758214</td>\n",
              "      <td>-104.937522</td>\n",
              "      <td>3.000000</td>\n",
              "      <td>3.000000</td>\n",
              "      <td>7.000000</td>\n",
              "      <td>1766.250000</td>\n",
              "      <td>6270.00000</td>\n",
              "      <td>1949.000000</td>\n",
              "      <td>4.632000e+05</td>\n",
              "      <td>3.302400e+05</td>\n",
              "      <td>6.879692e+05</td>\n",
              "    </tr>\n",
              "    <tr>\n",
              "      <th>max</th>\n",
              "      <td>3.209481e+08</td>\n",
              "      <td>80209.000000</td>\n",
              "      <td>39.888020</td>\n",
              "      <td>-104.830930</td>\n",
              "      <td>15.000000</td>\n",
              "      <td>12.000000</td>\n",
              "      <td>39.000000</td>\n",
              "      <td>10907.000000</td>\n",
              "      <td>122839.00000</td>\n",
              "      <td>2016.000000</td>\n",
              "      <td>4.560000e+07</td>\n",
              "      <td>1.600000e+07</td>\n",
              "      <td>1.014531e+07</td>\n",
              "    </tr>\n",
              "  </tbody>\n",
              "</table>\n",
              "</div>\n",
              "      <button class=\"colab-df-convert\" onclick=\"convertToInteractive('df-a867d670-c735-4d3d-bdf6-14deb2a32389')\"\n",
              "              title=\"Convert this dataframe to an interactive table.\"\n",
              "              style=\"display:none;\">\n",
              "        \n",
              "  <svg xmlns=\"http://www.w3.org/2000/svg\" height=\"24px\"viewBox=\"0 0 24 24\"\n",
              "       width=\"24px\">\n",
              "    <path d=\"M0 0h24v24H0V0z\" fill=\"none\"/>\n",
              "    <path d=\"M18.56 5.44l.94 2.06.94-2.06 2.06-.94-2.06-.94-.94-2.06-.94 2.06-2.06.94zm-11 1L8.5 8.5l.94-2.06 2.06-.94-2.06-.94L8.5 2.5l-.94 2.06-2.06.94zm10 10l.94 2.06.94-2.06 2.06-.94-2.06-.94-.94-2.06-.94 2.06-2.06.94z\"/><path d=\"M17.41 7.96l-1.37-1.37c-.4-.4-.92-.59-1.43-.59-.52 0-1.04.2-1.43.59L10.3 9.45l-7.72 7.72c-.78.78-.78 2.05 0 2.83L4 21.41c.39.39.9.59 1.41.59.51 0 1.02-.2 1.41-.59l7.78-7.78 2.81-2.81c.8-.78.8-2.07 0-2.86zM5.41 20L4 18.59l7.72-7.72 1.47 1.35L5.41 20z\"/>\n",
              "  </svg>\n",
              "      </button>\n",
              "      \n",
              "  <style>\n",
              "    .colab-df-container {\n",
              "      display:flex;\n",
              "      flex-wrap:wrap;\n",
              "      gap: 12px;\n",
              "    }\n",
              "\n",
              "    .colab-df-convert {\n",
              "      background-color: #E8F0FE;\n",
              "      border: none;\n",
              "      border-radius: 50%;\n",
              "      cursor: pointer;\n",
              "      display: none;\n",
              "      fill: #1967D2;\n",
              "      height: 32px;\n",
              "      padding: 0 0 0 0;\n",
              "      width: 32px;\n",
              "    }\n",
              "\n",
              "    .colab-df-convert:hover {\n",
              "      background-color: #E2EBFA;\n",
              "      box-shadow: 0px 1px 2px rgba(60, 64, 67, 0.3), 0px 1px 3px 1px rgba(60, 64, 67, 0.15);\n",
              "      fill: #174EA6;\n",
              "    }\n",
              "\n",
              "    [theme=dark] .colab-df-convert {\n",
              "      background-color: #3B4455;\n",
              "      fill: #D2E3FC;\n",
              "    }\n",
              "\n",
              "    [theme=dark] .colab-df-convert:hover {\n",
              "      background-color: #434B5C;\n",
              "      box-shadow: 0px 1px 3px 1px rgba(0, 0, 0, 0.15);\n",
              "      filter: drop-shadow(0px 1px 2px rgba(0, 0, 0, 0.3));\n",
              "      fill: #FFFFFF;\n",
              "    }\n",
              "  </style>\n",
              "\n",
              "      <script>\n",
              "        const buttonEl =\n",
              "          document.querySelector('#df-a867d670-c735-4d3d-bdf6-14deb2a32389 button.colab-df-convert');\n",
              "        buttonEl.style.display =\n",
              "          google.colab.kernel.accessAllowed ? 'block' : 'none';\n",
              "\n",
              "        async function convertToInteractive(key) {\n",
              "          const element = document.querySelector('#df-a867d670-c735-4d3d-bdf6-14deb2a32389');\n",
              "          const dataTable =\n",
              "            await google.colab.kernel.invokeFunction('convertToInteractive',\n",
              "                                                     [key], {});\n",
              "          if (!dataTable) return;\n",
              "\n",
              "          const docLinkHtml = 'Like what you see? Visit the ' +\n",
              "            '<a target=\"_blank\" href=https://colab.research.google.com/notebooks/data_table.ipynb>data table notebook</a>'\n",
              "            + ' to learn more about interactive tables.';\n",
              "          element.innerHTML = '';\n",
              "          dataTable['output_type'] = 'display_data';\n",
              "          await google.colab.output.renderOutput(dataTable, element);\n",
              "          const docLink = document.createElement('div');\n",
              "          docLink.innerHTML = docLinkHtml;\n",
              "          element.appendChild(docLink);\n",
              "        }\n",
              "      </script>\n",
              "    </div>\n",
              "  </div>\n",
              "  "
            ]
          },
          "metadata": {},
          "execution_count": 7
        }
      ]
    },
    {
      "cell_type": "code",
      "source": [
        "df2=df.fillna(0) #filling missing values with 0"
      ],
      "metadata": {
        "id": "6P3Cf4P_xAbU"
      },
      "execution_count": null,
      "outputs": []
    },
    {
      "cell_type": "code",
      "source": [
        "df3= df.fillna(df.mean()) #filling missing values with mean"
      ],
      "metadata": {
        "colab": {
          "base_uri": "https://localhost:8080/"
        },
        "id": "7QrH3voixLrw",
        "outputId": "061d3acb-b3b5-4f07-bafa-f72312c5a759"
      },
      "execution_count": null,
      "outputs": [
        {
          "output_type": "stream",
          "name": "stderr",
          "text": [
            "/usr/local/lib/python3.7/dist-packages/ipykernel_launcher.py:1: FutureWarning: Dropping of nuisance columns in DataFrame reductions (with 'numeric_only=None') is deprecated; in a future version this will raise TypeError.  Select only valid columns before calling the reduction.\n",
            "  \"\"\"Entry point for launching an IPython kernel.\n"
          ]
        }
      ]
    },
    {
      "cell_type": "code",
      "source": [
        "df.dropna(inplace=True)"
      ],
      "metadata": {
        "id": "M7GF3fOnyOhW"
      },
      "execution_count": null,
      "outputs": []
    },
    {
      "cell_type": "code",
      "source": [
        "df.info()"
      ],
      "metadata": {
        "colab": {
          "base_uri": "https://localhost:8080/"
        },
        "id": "0dNwZWYRyU3C",
        "outputId": "0ffc0fb9-bef5-4e71-85d9-6c9b0657ce95"
      },
      "execution_count": null,
      "outputs": [
        {
          "output_type": "stream",
          "name": "stdout",
          "text": [
            "<class 'pandas.core.frame.DataFrame'>\n",
            "Int64Index: 11078 entries, 0 to 14999\n",
            "Data columns (total 18 columns):\n",
            " #   Column           Non-Null Count  Dtype  \n",
            "---  ------           --------------  -----  \n",
            " 0   id               11078 non-null  int64  \n",
            " 1   address          11078 non-null  object \n",
            " 2   city             11078 non-null  object \n",
            " 3   state            11078 non-null  object \n",
            " 4   zipcode          11078 non-null  int64  \n",
            " 5   latitude         11078 non-null  float64\n",
            " 6   longitude        11078 non-null  float64\n",
            " 7   bedrooms         11078 non-null  int64  \n",
            " 8   bathrooms        11078 non-null  float64\n",
            " 9   rooms            11078 non-null  int64  \n",
            " 10  squareFootage    11078 non-null  int64  \n",
            " 11  lotSize          11078 non-null  int64  \n",
            " 12  yearBuilt        11078 non-null  float64\n",
            " 13  lastSaleDate     11078 non-null  object \n",
            " 14  lastSaleAmount   11078 non-null  int64  \n",
            " 15  priorSaleDate    11078 non-null  object \n",
            " 16  priorSaleAmount  11078 non-null  float64\n",
            " 17  estimated_value  11078 non-null  int64  \n",
            "dtypes: float64(5), int64(8), object(5)\n",
            "memory usage: 1.6+ MB\n"
          ]
        }
      ]
    },
    {
      "cell_type": "code",
      "source": [
        "df3.info()"
      ],
      "metadata": {
        "colab": {
          "base_uri": "https://localhost:8080/"
        },
        "id": "t7o-8UHEx2JA",
        "outputId": "b66904a1-eff2-4277-cbfd-f68f1b805ea2"
      },
      "execution_count": null,
      "outputs": [
        {
          "output_type": "stream",
          "name": "stdout",
          "text": [
            "<class 'pandas.core.frame.DataFrame'>\n",
            "RangeIndex: 15000 entries, 0 to 14999\n",
            "Data columns (total 18 columns):\n",
            " #   Column           Non-Null Count  Dtype  \n",
            "---  ------           --------------  -----  \n",
            " 0   id               15000 non-null  int64  \n",
            " 1   address          15000 non-null  object \n",
            " 2   city             15000 non-null  object \n",
            " 3   state            15000 non-null  object \n",
            " 4   zipcode          15000 non-null  int64  \n",
            " 5   latitude         15000 non-null  float64\n",
            " 6   longitude        15000 non-null  float64\n",
            " 7   bedrooms         15000 non-null  int64  \n",
            " 8   bathrooms        15000 non-null  float64\n",
            " 9   rooms            15000 non-null  int64  \n",
            " 10  squareFootage    15000 non-null  int64  \n",
            " 11  lotSize          15000 non-null  int64  \n",
            " 12  yearBuilt        15000 non-null  float64\n",
            " 13  lastSaleDate     15000 non-null  object \n",
            " 14  lastSaleAmount   15000 non-null  int64  \n",
            " 15  priorSaleDate    11173 non-null  object \n",
            " 16  priorSaleAmount  15000 non-null  float64\n",
            " 17  estimated_value  15000 non-null  int64  \n",
            "dtypes: float64(5), int64(8), object(5)\n",
            "memory usage: 2.1+ MB\n"
          ]
        }
      ]
    },
    {
      "cell_type": "code",
      "source": [
        "df[['estimated_value', 'yearBuilt', 'priorSaleAmount']].head(10)"
      ],
      "metadata": {
        "colab": {
          "base_uri": "https://localhost:8080/",
          "height": 363
        },
        "id": "s28mz8dszAmF",
        "outputId": "76f4bb4f-7f01-4b44-ae86-2d2a065c60ce"
      },
      "execution_count": null,
      "outputs": [
        {
          "output_type": "execute_result",
          "data": {
            "text/plain": [
              "    estimated_value  yearBuilt  priorSaleAmount\n",
              "0            239753     2003.0         165700.0\n",
              "3            494073     1956.0              0.0\n",
              "4            513676     1998.0              0.0\n",
              "5            496062     1996.0         339000.0\n",
              "6            514953     1997.0         345000.0\n",
              "7            494321     1997.0         225200.0\n",
              "8            496079     1999.0              0.0\n",
              "9            424514     2007.0         312000.0\n",
              "10           721350     2000.0         530000.0\n",
              "11           331915     1962.0         171000.0"
            ],
            "text/html": [
              "\n",
              "  <div id=\"df-e3b4ba91-1039-4ea1-8563-4d8de2efc1a5\">\n",
              "    <div class=\"colab-df-container\">\n",
              "      <div>\n",
              "<style scoped>\n",
              "    .dataframe tbody tr th:only-of-type {\n",
              "        vertical-align: middle;\n",
              "    }\n",
              "\n",
              "    .dataframe tbody tr th {\n",
              "        vertical-align: top;\n",
              "    }\n",
              "\n",
              "    .dataframe thead th {\n",
              "        text-align: right;\n",
              "    }\n",
              "</style>\n",
              "<table border=\"1\" class=\"dataframe\">\n",
              "  <thead>\n",
              "    <tr style=\"text-align: right;\">\n",
              "      <th></th>\n",
              "      <th>estimated_value</th>\n",
              "      <th>yearBuilt</th>\n",
              "      <th>priorSaleAmount</th>\n",
              "    </tr>\n",
              "  </thead>\n",
              "  <tbody>\n",
              "    <tr>\n",
              "      <th>0</th>\n",
              "      <td>239753</td>\n",
              "      <td>2003.0</td>\n",
              "      <td>165700.0</td>\n",
              "    </tr>\n",
              "    <tr>\n",
              "      <th>3</th>\n",
              "      <td>494073</td>\n",
              "      <td>1956.0</td>\n",
              "      <td>0.0</td>\n",
              "    </tr>\n",
              "    <tr>\n",
              "      <th>4</th>\n",
              "      <td>513676</td>\n",
              "      <td>1998.0</td>\n",
              "      <td>0.0</td>\n",
              "    </tr>\n",
              "    <tr>\n",
              "      <th>5</th>\n",
              "      <td>496062</td>\n",
              "      <td>1996.0</td>\n",
              "      <td>339000.0</td>\n",
              "    </tr>\n",
              "    <tr>\n",
              "      <th>6</th>\n",
              "      <td>514953</td>\n",
              "      <td>1997.0</td>\n",
              "      <td>345000.0</td>\n",
              "    </tr>\n",
              "    <tr>\n",
              "      <th>7</th>\n",
              "      <td>494321</td>\n",
              "      <td>1997.0</td>\n",
              "      <td>225200.0</td>\n",
              "    </tr>\n",
              "    <tr>\n",
              "      <th>8</th>\n",
              "      <td>496079</td>\n",
              "      <td>1999.0</td>\n",
              "      <td>0.0</td>\n",
              "    </tr>\n",
              "    <tr>\n",
              "      <th>9</th>\n",
              "      <td>424514</td>\n",
              "      <td>2007.0</td>\n",
              "      <td>312000.0</td>\n",
              "    </tr>\n",
              "    <tr>\n",
              "      <th>10</th>\n",
              "      <td>721350</td>\n",
              "      <td>2000.0</td>\n",
              "      <td>530000.0</td>\n",
              "    </tr>\n",
              "    <tr>\n",
              "      <th>11</th>\n",
              "      <td>331915</td>\n",
              "      <td>1962.0</td>\n",
              "      <td>171000.0</td>\n",
              "    </tr>\n",
              "  </tbody>\n",
              "</table>\n",
              "</div>\n",
              "      <button class=\"colab-df-convert\" onclick=\"convertToInteractive('df-e3b4ba91-1039-4ea1-8563-4d8de2efc1a5')\"\n",
              "              title=\"Convert this dataframe to an interactive table.\"\n",
              "              style=\"display:none;\">\n",
              "        \n",
              "  <svg xmlns=\"http://www.w3.org/2000/svg\" height=\"24px\"viewBox=\"0 0 24 24\"\n",
              "       width=\"24px\">\n",
              "    <path d=\"M0 0h24v24H0V0z\" fill=\"none\"/>\n",
              "    <path d=\"M18.56 5.44l.94 2.06.94-2.06 2.06-.94-2.06-.94-.94-2.06-.94 2.06-2.06.94zm-11 1L8.5 8.5l.94-2.06 2.06-.94-2.06-.94L8.5 2.5l-.94 2.06-2.06.94zm10 10l.94 2.06.94-2.06 2.06-.94-2.06-.94-.94-2.06-.94 2.06-2.06.94z\"/><path d=\"M17.41 7.96l-1.37-1.37c-.4-.4-.92-.59-1.43-.59-.52 0-1.04.2-1.43.59L10.3 9.45l-7.72 7.72c-.78.78-.78 2.05 0 2.83L4 21.41c.39.39.9.59 1.41.59.51 0 1.02-.2 1.41-.59l7.78-7.78 2.81-2.81c.8-.78.8-2.07 0-2.86zM5.41 20L4 18.59l7.72-7.72 1.47 1.35L5.41 20z\"/>\n",
              "  </svg>\n",
              "      </button>\n",
              "      \n",
              "  <style>\n",
              "    .colab-df-container {\n",
              "      display:flex;\n",
              "      flex-wrap:wrap;\n",
              "      gap: 12px;\n",
              "    }\n",
              "\n",
              "    .colab-df-convert {\n",
              "      background-color: #E8F0FE;\n",
              "      border: none;\n",
              "      border-radius: 50%;\n",
              "      cursor: pointer;\n",
              "      display: none;\n",
              "      fill: #1967D2;\n",
              "      height: 32px;\n",
              "      padding: 0 0 0 0;\n",
              "      width: 32px;\n",
              "    }\n",
              "\n",
              "    .colab-df-convert:hover {\n",
              "      background-color: #E2EBFA;\n",
              "      box-shadow: 0px 1px 2px rgba(60, 64, 67, 0.3), 0px 1px 3px 1px rgba(60, 64, 67, 0.15);\n",
              "      fill: #174EA6;\n",
              "    }\n",
              "\n",
              "    [theme=dark] .colab-df-convert {\n",
              "      background-color: #3B4455;\n",
              "      fill: #D2E3FC;\n",
              "    }\n",
              "\n",
              "    [theme=dark] .colab-df-convert:hover {\n",
              "      background-color: #434B5C;\n",
              "      box-shadow: 0px 1px 3px 1px rgba(0, 0, 0, 0.15);\n",
              "      filter: drop-shadow(0px 1px 2px rgba(0, 0, 0, 0.3));\n",
              "      fill: #FFFFFF;\n",
              "    }\n",
              "  </style>\n",
              "\n",
              "      <script>\n",
              "        const buttonEl =\n",
              "          document.querySelector('#df-e3b4ba91-1039-4ea1-8563-4d8de2efc1a5 button.colab-df-convert');\n",
              "        buttonEl.style.display =\n",
              "          google.colab.kernel.accessAllowed ? 'block' : 'none';\n",
              "\n",
              "        async function convertToInteractive(key) {\n",
              "          const element = document.querySelector('#df-e3b4ba91-1039-4ea1-8563-4d8de2efc1a5');\n",
              "          const dataTable =\n",
              "            await google.colab.kernel.invokeFunction('convertToInteractive',\n",
              "                                                     [key], {});\n",
              "          if (!dataTable) return;\n",
              "\n",
              "          const docLinkHtml = 'Like what you see? Visit the ' +\n",
              "            '<a target=\"_blank\" href=https://colab.research.google.com/notebooks/data_table.ipynb>data table notebook</a>'\n",
              "            + ' to learn more about interactive tables.';\n",
              "          element.innerHTML = '';\n",
              "          dataTable['output_type'] = 'display_data';\n",
              "          await google.colab.output.renderOutput(dataTable, element);\n",
              "          const docLink = document.createElement('div');\n",
              "          docLink.innerHTML = docLinkHtml;\n",
              "          element.appendChild(docLink);\n",
              "        }\n",
              "      </script>\n",
              "    </div>\n",
              "  </div>\n",
              "  "
            ]
          },
          "metadata": {},
          "execution_count": 13
        }
      ]
    },
    {
      "cell_type": "code",
      "source": [
        "sns.boxplot(df.estimated_value)"
      ],
      "metadata": {
        "colab": {
          "base_uri": "https://localhost:8080/",
          "height": 352
        },
        "id": "mwxYuFAuyiv1",
        "outputId": "2c7286d1-5ef6-4bd5-877c-a186bb7dea42"
      },
      "execution_count": null,
      "outputs": [
        {
          "output_type": "stream",
          "name": "stderr",
          "text": [
            "/usr/local/lib/python3.7/dist-packages/seaborn/_decorators.py:43: FutureWarning: Pass the following variable as a keyword arg: x. From version 0.12, the only valid positional argument will be `data`, and passing other arguments without an explicit keyword will result in an error or misinterpretation.\n",
            "  FutureWarning\n"
          ]
        },
        {
          "output_type": "execute_result",
          "data": {
            "text/plain": [
              "<matplotlib.axes._subplots.AxesSubplot at 0x7f7f47db0b50>"
            ]
          },
          "metadata": {},
          "execution_count": 14
        },
        {
          "output_type": "display_data",
          "data": {
            "text/plain": [
              "<Figure size 432x288 with 1 Axes>"
            ],
            "image/png": "[encoded data removed]"
          },
          "metadata": {
            "needs_background": "light"
          }
        }
      ]
    },
    {
      "cell_type": "code",
      "source": [
        "df=df[df.estimated_value<=1000000]"
      ],
      "metadata": {
        "id": "bW4z-2QFzzuj"
      },
      "execution_count": null,
      "outputs": []
    },
    {
      "cell_type": "code",
      "source": [
        "sns.boxplot(df.estimated_value)"
      ],
      "metadata": {
        "colab": {
          "base_uri": "https://localhost:8080/",
          "height": 352
        },
        "id": "lAGYZfho0nPt",
        "outputId": "9c70925d-539b-44e5-c949-a70092c53cf8"
      },
      "execution_count": null,
      "outputs": [
        {
          "output_type": "stream",
          "name": "stderr",
          "text": [
            "/usr/local/lib/python3.7/dist-packages/seaborn/_decorators.py:43: FutureWarning: Pass the following variable as a keyword arg: x. From version 0.12, the only valid positional argument will be `data`, and passing other arguments without an explicit keyword will result in an error or misinterpretation.\n",
            "  FutureWarning\n"
          ]
        },
        {
          "output_type": "execute_result",
          "data": {
            "text/plain": [
              "<matplotlib.axes._subplots.AxesSubplot at 0x7f7f47d11b90>"
            ]
          },
          "metadata": {},
          "execution_count": 16
        },
        {
          "output_type": "display_data",
          "data": {
            "text/plain": [
              "<Figure size 432x288 with 1 Axes>"
            ],
            "image/png": "[encoded data removed]"
          },
          "metadata": {
            "needs_background": "light"
          }
        }
      ]
    },
    {
      "cell_type": "code",
      "source": [
        "df.estimated_value.hist()"
      ],
      "metadata": {
        "colab": {
          "base_uri": "https://localhost:8080/",
          "height": 295
        },
        "id": "myVtOkgE0u_X",
        "outputId": "e7977358-eb94-4ff6-f642-452dc3f9fdd3"
      },
      "execution_count": null,
      "outputs": [
        {
          "output_type": "execute_result",
          "data": {
            "text/plain": [
              "<matplotlib.axes._subplots.AxesSubplot at 0x7f7f47818110>"
            ]
          },
          "metadata": {},
          "execution_count": 17
        },
        {
          "output_type": "display_data",
          "data": {
            "text/plain": [
              "<Figure size 432x288 with 1 Axes>"
            ],
            "image/png": "[encoded data removed]"
          },
          "metadata": {
            "needs_background": "light"
          }
        }
      ]
    },
    {
      "cell_type": "code",
      "source": [
        "#filer out noise, slice df\n",
        "df[(df.estimated_value<=1000000) & (df.yearBuilt>2013) & (df.zipcode==80209)]"
      ],
      "metadata": {
        "colab": {
          "base_uri": "https://localhost:8080/",
          "height": 538
        },
        "id": "z825-HLy0nai",
        "outputId": "cdcfb8e8-20bb-4d0a-8e4a-978b46b8cf92"
      },
      "execution_count": null,
      "outputs": [
        {
          "output_type": "execute_result",
          "data": {
            "text/plain": [
              "              id              address    city state  zipcode   latitude  \\\n",
              "13276   39512040        764 S York St  Denver    CO    80209  39.702607   \n",
              "13316   11586398        450 S Vine St  Denver    CO    80209  39.708351   \n",
              "13428   11586742    636 S Williams St  Denver    CO    80209  39.704969   \n",
              "13431  184305844        456 S High St  Denver    CO    80209  39.708197   \n",
              "13766    7652681    408 S Franklin St  Denver    CO    80209  39.709074   \n",
              "13812   39708952  611 S Washington St  Denver    CO    80209  39.705403   \n",
              "14162   30566405    876 S Williams St  Denver    CO    80209  39.700646   \n",
              "14982   43208991   731 S Elizabeth St  Denver    CO    80209  39.703135   \n",
              "\n",
              "        longitude  bedrooms  bathrooms  rooms  squareFootage  lotSize  \\\n",
              "13276 -104.960243         3        4.0      7           2567     6250   \n",
              "13316 -104.962546         3        5.0      7           2570     4680   \n",
              "13428 -104.966025         3        5.0      6           2578     4680   \n",
              "13431 -104.964857         3        5.0     10           3346     6240   \n",
              "13766 -104.968369         3        5.0      8           3367     5060   \n",
              "13812 -104.979580         3        4.0     10           2090     4690   \n",
              "14162 -104.966016         3        1.0      8           3394     6250   \n",
              "14982 -104.956141         2        3.0      6           2680     6160   \n",
              "\n",
              "       yearBuilt lastSaleDate  lastSaleAmount priorSaleDate  priorSaleAmount  \\\n",
              "13276     2016.0   2012-07-23          420000    2010-11-29         385000.0   \n",
              "13316     2016.0   2015-02-11          571000    2007-01-03         399000.0   \n",
              "13428     2016.0   2015-07-22          637600    2007-02-02         481900.0   \n",
              "13431     2016.0   2016-01-11          725000    1993-07-15         124000.0   \n",
              "13766     2015.0   2014-04-21          513486    2007-08-22         435000.0   \n",
              "13812     2014.0   2015-03-09          825000    2013-07-19         325500.0   \n",
              "14162     2015.0   2014-03-18          675000    2006-05-11         511000.0   \n",
              "14982     2016.0   2015-03-31          485000    2003-06-19         357500.0   \n",
              "\n",
              "       estimated_value  \n",
              "13276           770622  \n",
              "13316           682810  \n",
              "13428           745777  \n",
              "13431           751361  \n",
              "13766           709102  \n",
              "13812           994114  \n",
              "14162           869769  \n",
              "14982           753935  "
            ],
            "text/html": [
              "\n",
              "  <div id=\"df-21f5c60b-8fd6-48cf-bc3e-b6974680dd3a\">\n",
              "    <div class=\"colab-df-container\">\n",
              "      <div>\n",
              "<style scoped>\n",
              "    .dataframe tbody tr th:only-of-type {\n",
              "        vertical-align: middle;\n",
              "    }\n",
              "\n",
              "    .dataframe tbody tr th {\n",
              "        vertical-align: top;\n",
              "    }\n",
              "\n",
              "    .dataframe thead th {\n",
              "        text-align: right;\n",
              "    }\n",
              "</style>\n",
              "<table border=\"1\" class=\"dataframe\">\n",
              "  <thead>\n",
              "    <tr style=\"text-align: right;\">\n",
              "      <th></th>\n",
              "      <th>id</th>\n",
              "      <th>address</th>\n",
              "      <th>city</th>\n",
              "      <th>state</th>\n",
              "      <th>zipcode</th>\n",
              "      <th>latitude</th>\n",
              "      <th>longitude</th>\n",
              "      <th>bedrooms</th>\n",
              "      <th>bathrooms</th>\n",
              "      <th>rooms</th>\n",
              "      <th>squareFootage</th>\n",
              "      <th>lotSize</th>\n",
              "      <th>yearBuilt</th>\n",
              "      <th>lastSaleDate</th>\n",
              "      <th>lastSaleAmount</th>\n",
              "      <th>priorSaleDate</th>\n",
              "      <th>priorSaleAmount</th>\n",
              "      <th>estimated_value</th>\n",
              "    </tr>\n",
              "  </thead>\n",
              "  <tbody>\n",
              "    <tr>\n",
              "      <th>13276</th>\n",
              "      <td>39512040</td>\n",
              "      <td>764 S York St</td>\n",
              "      <td>Denver</td>\n",
              "      <td>CO</td>\n",
              "      <td>80209</td>\n",
              "      <td>39.702607</td>\n",
              "      <td>-104.960243</td>\n",
              "      <td>3</td>\n",
              "      <td>4.0</td>\n",
              "      <td>7</td>\n",
              "      <td>2567</td>\n",
              "      <td>6250</td>\n",
              "      <td>2016.0</td>\n",
              "      <td>2012-07-23</td>\n",
              "      <td>420000</td>\n",
              "      <td>2010-11-29</td>\n",
              "      <td>385000.0</td>\n",
              "      <td>770622</td>\n",
              "    </tr>\n",
              "    <tr>\n",
              "      <th>13316</th>\n",
              "      <td>11586398</td>\n",
              "      <td>450 S Vine St</td>\n",
              "      <td>Denver</td>\n",
              "      <td>CO</td>\n",
              "      <td>80209</td>\n",
              "      <td>39.708351</td>\n",
              "      <td>-104.962546</td>\n",
              "      <td>3</td>\n",
              "      <td>5.0</td>\n",
              "      <td>7</td>\n",
              "      <td>2570</td>\n",
              "      <td>4680</td>\n",
              "      <td>2016.0</td>\n",
              "      <td>2015-02-11</td>\n",
              "      <td>571000</td>\n",
              "      <td>2007-01-03</td>\n",
              "      <td>399000.0</td>\n",
              "      <td>682810</td>\n",
              "    </tr>\n",
              "    <tr>\n",
              "      <th>13428</th>\n",
              "      <td>11586742</td>\n",
              "      <td>636 S Williams St</td>\n",
              "      <td>Denver</td>\n",
              "      <td>CO</td>\n",
              "      <td>80209</td>\n",
              "      <td>39.704969</td>\n",
              "      <td>-104.966025</td>\n",
              "      <td>3</td>\n",
              "      <td>5.0</td>\n",
              "      <td>6</td>\n",
              "      <td>2578</td>\n",
              "      <td>4680</td>\n",
              "      <td>2016.0</td>\n",
              "      <td>2015-07-22</td>\n",
              "      <td>637600</td>\n",
              "      <td>2007-02-02</td>\n",
              "      <td>481900.0</td>\n",
              "      <td>745777</td>\n",
              "    </tr>\n",
              "    <tr>\n",
              "      <th>13431</th>\n",
              "      <td>184305844</td>\n",
              "      <td>456 S High St</td>\n",
              "      <td>Denver</td>\n",
              "      <td>CO</td>\n",
              "      <td>80209</td>\n",
              "      <td>39.708197</td>\n",
              "      <td>-104.964857</td>\n",
              "      <td>3</td>\n",
              "      <td>5.0</td>\n",
              "      <td>10</td>\n",
              "      <td>3346</td>\n",
              "      <td>6240</td>\n",
              "      <td>2016.0</td>\n",
              "      <td>2016-01-11</td>\n",
              "      <td>725000</td>\n",
              "      <td>1993-07-15</td>\n",
              "      <td>124000.0</td>\n",
              "      <td>751361</td>\n",
              "    </tr>\n",
              "    <tr>\n",
              "      <th>13766</th>\n",
              "      <td>7652681</td>\n",
              "      <td>408 S Franklin St</td>\n",
              "      <td>Denver</td>\n",
              "      <td>CO</td>\n",
              "      <td>80209</td>\n",
              "      <td>39.709074</td>\n",
              "      <td>-104.968369</td>\n",
              "      <td>3</td>\n",
              "      <td>5.0</td>\n",
              "      <td>8</td>\n",
              "      <td>3367</td>\n",
              "      <td>5060</td>\n",
              "      <td>2015.0</td>\n",
              "      <td>2014-04-21</td>\n",
              "      <td>513486</td>\n",
              "      <td>2007-08-22</td>\n",
              "      <td>435000.0</td>\n",
              "      <td>709102</td>\n",
              "    </tr>\n",
              "    <tr>\n",
              "      <th>13812</th>\n",
              "      <td>39708952</td>\n",
              "      <td>611 S Washington St</td>\n",
              "      <td>Denver</td>\n",
              "      <td>CO</td>\n",
              "      <td>80209</td>\n",
              "      <td>39.705403</td>\n",
              "      <td>-104.979580</td>\n",
              "      <td>3</td>\n",
              "      <td>4.0</td>\n",
              "      <td>10</td>\n",
              "      <td>2090</td>\n",
              "      <td>4690</td>\n",
              "      <td>2014.0</td>\n",
              "      <td>2015-03-09</td>\n",
              "      <td>825000</td>\n",
              "      <td>2013-07-19</td>\n",
              "      <td>325500.0</td>\n",
              "      <td>994114</td>\n",
              "    </tr>\n",
              "    <tr>\n",
              "      <th>14162</th>\n",
              "      <td>30566405</td>\n",
              "      <td>876 S Williams St</td>\n",
              "      <td>Denver</td>\n",
              "      <td>CO</td>\n",
              "      <td>80209</td>\n",
              "      <td>39.700646</td>\n",
              "      <td>-104.966016</td>\n",
              "      <td>3</td>\n",
              "      <td>1.0</td>\n",
              "      <td>8</td>\n",
              "      <td>3394</td>\n",
              "      <td>6250</td>\n",
              "      <td>2015.0</td>\n",
              "      <td>2014-03-18</td>\n",
              "      <td>675000</td>\n",
              "      <td>2006-05-11</td>\n",
              "      <td>511000.0</td>\n",
              "      <td>869769</td>\n",
              "    </tr>\n",
              "    <tr>\n",
              "      <th>14982</th>\n",
              "      <td>43208991</td>\n",
              "      <td>731 S Elizabeth St</td>\n",
              "      <td>Denver</td>\n",
              "      <td>CO</td>\n",
              "      <td>80209</td>\n",
              "      <td>39.703135</td>\n",
              "      <td>-104.956141</td>\n",
              "      <td>2</td>\n",
              "      <td>3.0</td>\n",
              "      <td>6</td>\n",
              "      <td>2680</td>\n",
              "      <td>6160</td>\n",
              "      <td>2016.0</td>\n",
              "      <td>2015-03-31</td>\n",
              "      <td>485000</td>\n",
              "      <td>2003-06-19</td>\n",
              "      <td>357500.0</td>\n",
              "      <td>753935</td>\n",
              "    </tr>\n",
              "  </tbody>\n",
              "</table>\n",
              "</div>\n",
              "      <button class=\"colab-df-convert\" onclick=\"convertToInteractive('df-21f5c60b-8fd6-48cf-bc3e-b6974680dd3a')\"\n",
              "              title=\"Convert this dataframe to an interactive table.\"\n",
              "              style=\"display:none;\">\n",
              "        \n",
              "  <svg xmlns=\"http://www.w3.org/2000/svg\" height=\"24px\"viewBox=\"0 0 24 24\"\n",
              "       width=\"24px\">\n",
              "    <path d=\"M0 0h24v24H0V0z\" fill=\"none\"/>\n",
              "    <path d=\"M18.56 5.44l.94 2.06.94-2.06 2.06-.94-2.06-.94-.94-2.06-.94 2.06-2.06.94zm-11 1L8.5 8.5l.94-2.06 2.06-.94-2.06-.94L8.5 2.5l-.94 2.06-2.06.94zm10 10l.94 2.06.94-2.06 2.06-.94-2.06-.94-.94-2.06-.94 2.06-2.06.94z\"/><path d=\"M17.41 7.96l-1.37-1.37c-.4-.4-.92-.59-1.43-.59-.52 0-1.04.2-1.43.59L10.3 9.45l-7.72 7.72c-.78.78-.78 2.05 0 2.83L4 21.41c.39.39.9.59 1.41.59.51 0 1.02-.2 1.41-.59l7.78-7.78 2.81-2.81c.8-.78.8-2.07 0-2.86zM5.41 20L4 18.59l7.72-7.72 1.47 1.35L5.41 20z\"/>\n",
              "  </svg>\n",
              "      </button>\n",
              "      \n",
              "  <style>\n",
              "    .colab-df-container {\n",
              "      display:flex;\n",
              "      flex-wrap:wrap;\n",
              "      gap: 12px;\n",
              "    }\n",
              "\n",
              "    .colab-df-convert {\n",
              "      background-color: #E8F0FE;\n",
              "      border: none;\n",
              "      border-radius: 50%;\n",
              "      cursor: pointer;\n",
              "      display: none;\n",
              "      fill: #1967D2;\n",
              "      height: 32px;\n",
              "      padding: 0 0 0 0;\n",
              "      width: 32px;\n",
              "    }\n",
              "\n",
              "    .colab-df-convert:hover {\n",
              "      background-color: #E2EBFA;\n",
              "      box-shadow: 0px 1px 2px rgba(60, 64, 67, 0.3), 0px 1px 3px 1px rgba(60, 64, 67, 0.15);\n",
              "      fill: #174EA6;\n",
              "    }\n",
              "\n",
              "    [theme=dark] .colab-df-convert {\n",
              "      background-color: #3B4455;\n",
              "      fill: #D2E3FC;\n",
              "    }\n",
              "\n",
              "    [theme=dark] .colab-df-convert:hover {\n",
              "      background-color: #434B5C;\n",
              "      box-shadow: 0px 1px 3px 1px rgba(0, 0, 0, 0.15);\n",
              "      filter: drop-shadow(0px 1px 2px rgba(0, 0, 0, 0.3));\n",
              "      fill: #FFFFFF;\n",
              "    }\n",
              "  </style>\n",
              "\n",
              "      <script>\n",
              "        const buttonEl =\n",
              "          document.querySelector('#df-21f5c60b-8fd6-48cf-bc3e-b6974680dd3a button.colab-df-convert');\n",
              "        buttonEl.style.display =\n",
              "          google.colab.kernel.accessAllowed ? 'block' : 'none';\n",
              "\n",
              "        async function convertToInteractive(key) {\n",
              "          const element = document.querySelector('#df-21f5c60b-8fd6-48cf-bc3e-b6974680dd3a');\n",
              "          const dataTable =\n",
              "            await google.colab.kernel.invokeFunction('convertToInteractive',\n",
              "                                                     [key], {});\n",
              "          if (!dataTable) return;\n",
              "\n",
              "          const docLinkHtml = 'Like what you see? Visit the ' +\n",
              "            '<a target=\"_blank\" href=https://colab.research.google.com/notebooks/data_table.ipynb>data table notebook</a>'\n",
              "            + ' to learn more about interactive tables.';\n",
              "          element.innerHTML = '';\n",
              "          dataTable['output_type'] = 'display_data';\n",
              "          await google.colab.output.renderOutput(dataTable, element);\n",
              "          const docLink = document.createElement('div');\n",
              "          docLink.innerHTML = docLinkHtml;\n",
              "          element.appendChild(docLink);\n",
              "        }\n",
              "      </script>\n",
              "    </div>\n",
              "  </div>\n",
              "  "
            ]
          },
          "metadata": {},
          "execution_count": 18
        }
      ]
    },
    {
      "cell_type": "markdown",
      "source": [
        "#Statistics"
      ],
      "metadata": {
        "id": "jkmLJ0tP2WT4"
      }
    },
    {
      "cell_type": "code",
      "source": [
        "sns.pairplot(df[['lastSaleAmount','estimated_value','zipcode']],hue = 'zipcode')"
      ],
      "metadata": {
        "colab": {
          "base_uri": "https://localhost:8080/",
          "height": 391
        },
        "id": "WqvVNsPk0njU",
        "outputId": "07de31a0-633d-4ea8-9718-5fb7ae0c5bbb"
      },
      "execution_count": null,
      "outputs": [
        {
          "output_type": "execute_result",
          "data": {
            "text/plain": [
              "<seaborn.axisgrid.PairGrid at 0x7f7f47729790>"
            ]
          },
          "metadata": {},
          "execution_count": 19
        },
        {
          "output_type": "display_data",
          "data": {
            "text/plain": [
              "<Figure size 427.5x360 with 6 Axes>"
            ],
            "image/png": "[encoded data removed]"
          },
          "metadata": {
            "needs_background": "light"
          }
        }
      ]
    },
    {
      "cell_type": "code",
      "source": [
        "sns.stripplot(x=df.zipcode, y=df.estimated_value)"
      ],
      "metadata": {
        "colab": {
          "base_uri": "https://localhost:8080/",
          "height": 307
        },
        "id": "mlKHj1Bj6Oyx",
        "outputId": "5a513471-7332-4a0e-ade9-3fb02cb1a467"
      },
      "execution_count": null,
      "outputs": [
        {
          "output_type": "execute_result",
          "data": {
            "text/plain": [
              "<matplotlib.axes._subplots.AxesSubplot at 0x7f7f44cee150>"
            ]
          },
          "metadata": {},
          "execution_count": 20
        },
        {
          "output_type": "display_data",
          "data": {
            "text/plain": [
              "<Figure size 432x288 with 1 Axes>"
            ],
            "image/png": "[encoded data removed]"
          },
          "metadata": {
            "needs_background": "light"
          }
        }
      ]
    },
    {
      "cell_type": "code",
      "source": [
        "sns.violinplot(x=df.zipcode, y=df.estimated_value)"
      ],
      "metadata": {
        "colab": {
          "base_uri": "https://localhost:8080/",
          "height": 307
        },
        "id": "86W12T1y7qAM",
        "outputId": "775dc572-c753-4add-a212-4989b4da3618"
      },
      "execution_count": null,
      "outputs": [
        {
          "output_type": "execute_result",
          "data": {
            "text/plain": [
              "<matplotlib.axes._subplots.AxesSubplot at 0x7f7f44bfbf10>"
            ]
          },
          "metadata": {},
          "execution_count": 21
        },
        {
          "output_type": "display_data",
          "data": {
            "text/plain": [
              "<Figure size 432x288 with 1 Axes>"
            ],
            "image/png": "[encoded data removed]"
          },
          "metadata": {
            "needs_background": "light"
          }
        }
      ]
    },
    {
      "cell_type": "code",
      "source": [
        "df.info()"
      ],
      "metadata": {
        "colab": {
          "base_uri": "https://localhost:8080/"
        },
        "id": "wxoUdku78CPC",
        "outputId": "98c77ba3-65df-4586-df1c-ac5e4e673ca3"
      },
      "execution_count": null,
      "outputs": [
        {
          "output_type": "stream",
          "name": "stdout",
          "text": [
            "<class 'pandas.core.frame.DataFrame'>\n",
            "Int64Index: 10080 entries, 0 to 14996\n",
            "Data columns (total 18 columns):\n",
            " #   Column           Non-Null Count  Dtype  \n",
            "---  ------           --------------  -----  \n",
            " 0   id               10080 non-null  int64  \n",
            " 1   address          10080 non-null  object \n",
            " 2   city             10080 non-null  object \n",
            " 3   state            10080 non-null  object \n",
            " 4   zipcode          10080 non-null  int64  \n",
            " 5   latitude         10080 non-null  float64\n",
            " 6   longitude        10080 non-null  float64\n",
            " 7   bedrooms         10080 non-null  int64  \n",
            " 8   bathrooms        10080 non-null  float64\n",
            " 9   rooms            10080 non-null  int64  \n",
            " 10  squareFootage    10080 non-null  int64  \n",
            " 11  lotSize          10080 non-null  int64  \n",
            " 12  yearBuilt        10080 non-null  float64\n",
            " 13  lastSaleDate     10080 non-null  object \n",
            " 14  lastSaleAmount   10080 non-null  int64  \n",
            " 15  priorSaleDate    10080 non-null  object \n",
            " 16  priorSaleAmount  10080 non-null  float64\n",
            " 17  estimated_value  10080 non-null  int64  \n",
            "dtypes: float64(5), int64(8), object(5)\n",
            "memory usage: 1.7+ MB\n"
          ]
        }
      ]
    },
    {
      "cell_type": "code",
      "source": [
        "df['priorSaleDate'] = pd.to_datetime(df.priorSaleDate)"
      ],
      "metadata": {
        "id": "HqU4BRDIa03m"
      },
      "execution_count": null,
      "outputs": []
    },
    {
      "cell_type": "code",
      "source": [
        "df['lastSaleDate'] = pd.to_datetime(df.lastSaleDate)"
      ],
      "metadata": {
        "id": "M6NApjvXbpv8"
      },
      "execution_count": null,
      "outputs": []
    },
    {
      "cell_type": "code",
      "source": [
        "df.info()"
      ],
      "metadata": {
        "colab": {
          "base_uri": "https://localhost:8080/"
        },
        "id": "9Vw3NRgnbp_Y",
        "outputId": "1ab88955-a7c4-409c-d130-e8b6353e1129"
      },
      "execution_count": null,
      "outputs": [
        {
          "output_type": "stream",
          "name": "stdout",
          "text": [
            "<class 'pandas.core.frame.DataFrame'>\n",
            "Int64Index: 10080 entries, 0 to 14996\n",
            "Data columns (total 18 columns):\n",
            " #   Column           Non-Null Count  Dtype         \n",
            "---  ------           --------------  -----         \n",
            " 0   id               10080 non-null  int64         \n",
            " 1   address          10080 non-null  object        \n",
            " 2   city             10080 non-null  object        \n",
            " 3   state            10080 non-null  object        \n",
            " 4   zipcode          10080 non-null  int64         \n",
            " 5   latitude         10080 non-null  float64       \n",
            " 6   longitude        10080 non-null  float64       \n",
            " 7   bedrooms         10080 non-null  int64         \n",
            " 8   bathrooms        10080 non-null  float64       \n",
            " 9   rooms            10080 non-null  int64         \n",
            " 10  squareFootage    10080 non-null  int64         \n",
            " 11  lotSize          10080 non-null  int64         \n",
            " 12  yearBuilt        10080 non-null  float64       \n",
            " 13  lastSaleDate     10080 non-null  datetime64[ns]\n",
            " 14  lastSaleAmount   10080 non-null  int64         \n",
            " 15  priorSaleDate    10080 non-null  datetime64[ns]\n",
            " 16  priorSaleAmount  10080 non-null  float64       \n",
            " 17  estimated_value  10080 non-null  int64         \n",
            "dtypes: datetime64[ns](2), float64(5), int64(8), object(3)\n",
            "memory usage: 1.7+ MB\n"
          ]
        }
      ]
    },
    {
      "cell_type": "code",
      "source": [
        "df[\"week_daylastSaleDate\"] = df.lastSaleDate.dt.weekday\n",
        "df['year_priorSaleDate'] = df.priorSaleDate.dt.year\n",
        "df[\"year_lastSaleDate\"] = df.lastSaleDate.dt.year\n",
        "df[\"year_between_last_sales\"] = df.year_lastSaleDate-df.year_priorSaleDate"
      ],
      "metadata": {
        "id": "L6K2uaH-cMN3"
      },
      "execution_count": null,
      "outputs": []
    },
    {
      "cell_type": "code",
      "source": [
        "df.info()\n"
      ],
      "metadata": {
        "colab": {
          "base_uri": "https://localhost:8080/"
        },
        "id": "_5AmheYydBYz",
        "outputId": "2f951193-adae-44a1-88ef-281947f96f42"
      },
      "execution_count": null,
      "outputs": [
        {
          "output_type": "stream",
          "name": "stdout",
          "text": [
            "<class 'pandas.core.frame.DataFrame'>\n",
            "Int64Index: 10080 entries, 0 to 14996\n",
            "Data columns (total 22 columns):\n",
            " #   Column                   Non-Null Count  Dtype         \n",
            "---  ------                   --------------  -----         \n",
            " 0   id                       10080 non-null  int64         \n",
            " 1   address                  10080 non-null  object        \n",
            " 2   city                     10080 non-null  object        \n",
            " 3   state                    10080 non-null  object        \n",
            " 4   zipcode                  10080 non-null  int64         \n",
            " 5   latitude                 10080 non-null  float64       \n",
            " 6   longitude                10080 non-null  float64       \n",
            " 7   bedrooms                 10080 non-null  int64         \n",
            " 8   bathrooms                10080 non-null  float64       \n",
            " 9   rooms                    10080 non-null  int64         \n",
            " 10  squareFootage            10080 non-null  int64         \n",
            " 11  lotSize                  10080 non-null  int64         \n",
            " 12  yearBuilt                10080 non-null  float64       \n",
            " 13  lastSaleDate             10080 non-null  datetime64[ns]\n",
            " 14  lastSaleAmount           10080 non-null  int64         \n",
            " 15  priorSaleDate            10080 non-null  datetime64[ns]\n",
            " 16  priorSaleAmount          10080 non-null  float64       \n",
            " 17  estimated_value          10080 non-null  int64         \n",
            " 18  week_daylastSaleDate     10080 non-null  int64         \n",
            " 19  year_priorSaleDate       10080 non-null  int64         \n",
            " 20  year_lastSaleDate        10080 non-null  int64         \n",
            " 21  year_between_last_sales  10080 non-null  int64         \n",
            "dtypes: datetime64[ns](2), float64(5), int64(12), object(3)\n",
            "memory usage: 2.0+ MB\n"
          ]
        }
      ]
    },
    {
      "cell_type": "code",
      "source": [
        "df.head(2)"
      ],
      "metadata": {
        "colab": {
          "base_uri": "https://localhost:8080/",
          "height": 258
        },
        "id": "X7i1bScreET_",
        "outputId": "60ac909e-eb44-4e8e-a8ef-a268dd4b6b6d"
      },
      "execution_count": null,
      "outputs": [
        {
          "output_type": "execute_result",
          "data": {
            "text/plain": [
              "          id              address    city state  zipcode  latitude  \\\n",
              "0   39525749      8171 E 84th Ave  Denver    CO    80022  39.84916   \n",
              "3  155129946  3040 Wadsworth Blvd  Denver    CO    80033  39.76078   \n",
              "\n",
              "    longitude  bedrooms  bathrooms  rooms  ...  yearBuilt  lastSaleDate  \\\n",
              "0 -104.893468         3        2.0      6  ...     2003.0    2009-12-17   \n",
              "3 -105.081060         4        3.0      0  ...     1956.0    2008-12-02   \n",
              "\n",
              "   lastSaleAmount priorSaleDate  priorSaleAmount estimated_value  \\\n",
              "0           75000    2004-05-13         165700.0          239753   \n",
              "3          185000    2008-06-27              0.0          494073   \n",
              "\n",
              "   week_daylastSaleDate  year_priorSaleDate  year_lastSaleDate  \\\n",
              "0                     3                2004               2009   \n",
              "3                     1                2008               2008   \n",
              "\n",
              "   year_between_last_sales  \n",
              "0                        5  \n",
              "3                        0  \n",
              "\n",
              "[2 rows x 22 columns]"
            ],
            "text/html": [
              "\n",
              "  <div id=\"df-280ead7e-44af-4fea-b200-f8f8eae88b59\">\n",
              "    <div class=\"colab-df-container\">\n",
              "      <div>\n",
              "<style scoped>\n",
              "    .dataframe tbody tr th:only-of-type {\n",
              "        vertical-align: middle;\n",
              "    }\n",
              "\n",
              "    .dataframe tbody tr th {\n",
              "        vertical-align: top;\n",
              "    }\n",
              "\n",
              "    .dataframe thead th {\n",
              "        text-align: right;\n",
              "    }\n",
              "</style>\n",
              "<table border=\"1\" class=\"dataframe\">\n",
              "  <thead>\n",
              "    <tr style=\"text-align: right;\">\n",
              "      <th></th>\n",
              "      <th>id</th>\n",
              "      <th>address</th>\n",
              "      <th>city</th>\n",
              "      <th>state</th>\n",
              "      <th>zipcode</th>\n",
              "      <th>latitude</th>\n",
              "      <th>longitude</th>\n",
              "      <th>bedrooms</th>\n",
              "      <th>bathrooms</th>\n",
              "      <th>rooms</th>\n",
              "      <th>...</th>\n",
              "      <th>yearBuilt</th>\n",
              "      <th>lastSaleDate</th>\n",
              "      <th>lastSaleAmount</th>\n",
              "      <th>priorSaleDate</th>\n",
              "      <th>priorSaleAmount</th>\n",
              "      <th>estimated_value</th>\n",
              "      <th>week_daylastSaleDate</th>\n",
              "      <th>year_priorSaleDate</th>\n",
              "      <th>year_lastSaleDate</th>\n",
              "      <th>year_between_last_sales</th>\n",
              "    </tr>\n",
              "  </thead>\n",
              "  <tbody>\n",
              "    <tr>\n",
              "      <th>0</th>\n",
              "      <td>39525749</td>\n",
              "      <td>8171 E 84th Ave</td>\n",
              "      <td>Denver</td>\n",
              "      <td>CO</td>\n",
              "      <td>80022</td>\n",
              "      <td>39.84916</td>\n",
              "      <td>-104.893468</td>\n",
              "      <td>3</td>\n",
              "      <td>2.0</td>\n",
              "      <td>6</td>\n",
              "      <td>...</td>\n",
              "      <td>2003.0</td>\n",
              "      <td>2009-12-17</td>\n",
              "      <td>75000</td>\n",
              "      <td>2004-05-13</td>\n",
              "      <td>165700.0</td>\n",
              "      <td>239753</td>\n",
              "      <td>3</td>\n",
              "      <td>2004</td>\n",
              "      <td>2009</td>\n",
              "      <td>5</td>\n",
              "    </tr>\n",
              "    <tr>\n",
              "      <th>3</th>\n",
              "      <td>155129946</td>\n",
              "      <td>3040 Wadsworth Blvd</td>\n",
              "      <td>Denver</td>\n",
              "      <td>CO</td>\n",
              "      <td>80033</td>\n",
              "      <td>39.76078</td>\n",
              "      <td>-105.081060</td>\n",
              "      <td>4</td>\n",
              "      <td>3.0</td>\n",
              "      <td>0</td>\n",
              "      <td>...</td>\n",
              "      <td>1956.0</td>\n",
              "      <td>2008-12-02</td>\n",
              "      <td>185000</td>\n",
              "      <td>2008-06-27</td>\n",
              "      <td>0.0</td>\n",
              "      <td>494073</td>\n",
              "      <td>1</td>\n",
              "      <td>2008</td>\n",
              "      <td>2008</td>\n",
              "      <td>0</td>\n",
              "    </tr>\n",
              "  </tbody>\n",
              "</table>\n",
              "<p>2 rows × 22 columns</p>\n",
              "</div>\n",
              "      <button class=\"colab-df-convert\" onclick=\"convertToInteractive('df-280ead7e-44af-4fea-b200-f8f8eae88b59')\"\n",
              "              title=\"Convert this dataframe to an interactive table.\"\n",
              "              style=\"display:none;\">\n",
              "        \n",
              "  <svg xmlns=\"http://www.w3.org/2000/svg\" height=\"24px\"viewBox=\"0 0 24 24\"\n",
              "       width=\"24px\">\n",
              "    <path d=\"M0 0h24v24H0V0z\" fill=\"none\"/>\n",
              "    <path d=\"M18.56 5.44l.94 2.06.94-2.06 2.06-.94-2.06-.94-.94-2.06-.94 2.06-2.06.94zm-11 1L8.5 8.5l.94-2.06 2.06-.94-2.06-.94L8.5 2.5l-.94 2.06-2.06.94zm10 10l.94 2.06.94-2.06 2.06-.94-2.06-.94-.94-2.06-.94 2.06-2.06.94z\"/><path d=\"M17.41 7.96l-1.37-1.37c-.4-.4-.92-.59-1.43-.59-.52 0-1.04.2-1.43.59L10.3 9.45l-7.72 7.72c-.78.78-.78 2.05 0 2.83L4 21.41c.39.39.9.59 1.41.59.51 0 1.02-.2 1.41-.59l7.78-7.78 2.81-2.81c.8-.78.8-2.07 0-2.86zM5.41 20L4 18.59l7.72-7.72 1.47 1.35L5.41 20z\"/>\n",
              "  </svg>\n",
              "      </button>\n",
              "      \n",
              "  <style>\n",
              "    .colab-df-container {\n",
              "      display:flex;\n",
              "      flex-wrap:wrap;\n",
              "      gap: 12px;\n",
              "    }\n",
              "\n",
              "    .colab-df-convert {\n",
              "      background-color: #E8F0FE;\n",
              "      border: none;\n",
              "      border-radius: 50%;\n",
              "      cursor: pointer;\n",
              "      display: none;\n",
              "      fill: #1967D2;\n",
              "      height: 32px;\n",
              "      padding: 0 0 0 0;\n",
              "      width: 32px;\n",
              "    }\n",
              "\n",
              "    .colab-df-convert:hover {\n",
              "      background-color: #E2EBFA;\n",
              "      box-shadow: 0px 1px 2px rgba(60, 64, 67, 0.3), 0px 1px 3px 1px rgba(60, 64, 67, 0.15);\n",
              "      fill: #174EA6;\n",
              "    }\n",
              "\n",
              "    [theme=dark] .colab-df-convert {\n",
              "      background-color: #3B4455;\n",
              "      fill: #D2E3FC;\n",
              "    }\n",
              "\n",
              "    [theme=dark] .colab-df-convert:hover {\n",
              "      background-color: #434B5C;\n",
              "      box-shadow: 0px 1px 3px 1px rgba(0, 0, 0, 0.15);\n",
              "      filter: drop-shadow(0px 1px 2px rgba(0, 0, 0, 0.3));\n",
              "      fill: #FFFFFF;\n",
              "    }\n",
              "  </style>\n",
              "\n",
              "      <script>\n",
              "        const buttonEl =\n",
              "          document.querySelector('#df-280ead7e-44af-4fea-b200-f8f8eae88b59 button.colab-df-convert');\n",
              "        buttonEl.style.display =\n",
              "          google.colab.kernel.accessAllowed ? 'block' : 'none';\n",
              "\n",
              "        async function convertToInteractive(key) {\n",
              "          const element = document.querySelector('#df-280ead7e-44af-4fea-b200-f8f8eae88b59');\n",
              "          const dataTable =\n",
              "            await google.colab.kernel.invokeFunction('convertToInteractive',\n",
              "                                                     [key], {});\n",
              "          if (!dataTable) return;\n",
              "\n",
              "          const docLinkHtml = 'Like what you see? Visit the ' +\n",
              "            '<a target=\"_blank\" href=https://colab.research.google.com/notebooks/data_table.ipynb>data table notebook</a>'\n",
              "            + ' to learn more about interactive tables.';\n",
              "          element.innerHTML = '';\n",
              "          dataTable['output_type'] = 'display_data';\n",
              "          await google.colab.output.renderOutput(dataTable, element);\n",
              "          const docLink = document.createElement('div');\n",
              "          docLink.innerHTML = docLinkHtml;\n",
              "          element.appendChild(docLink);\n",
              "        }\n",
              "      </script>\n",
              "    </div>\n",
              "  </div>\n",
              "  "
            ]
          },
          "metadata": {},
          "execution_count": 28
        }
      ]
    },
    {
      "cell_type": "code",
      "source": [
        "pd.to_datetime"
      ],
      "metadata": {
        "colab": {
          "base_uri": "https://localhost:8080/"
        },
        "id": "gds5_1C2gdi5",
        "outputId": "995ac09a-0714-4959-902b-d0698da51eed"
      },
      "execution_count": null,
      "outputs": [
        {
          "output_type": "execute_result",
          "data": {
            "text/plain": [
              "<function pandas.core.tools.datetimes.to_datetime>"
            ]
          },
          "metadata": {},
          "execution_count": 29
        }
      ]
    },
    {
      "cell_type": "code",
      "source": [
        "df.corr().loc[\"estimated_value\", :].sort_values(ascending = False)"
      ],
      "metadata": {
        "colab": {
          "base_uri": "https://localhost:8080/"
        },
        "id": "mQRsFInjgdnk",
        "outputId": "16008e36-bddb-4548-d3fe-d73aaae2ed48"
      },
      "execution_count": null,
      "outputs": [
        {
          "output_type": "execute_result",
          "data": {
            "text/plain": [
              "estimated_value            1.000000\n",
              "squareFootage              0.690945\n",
              "bathrooms                  0.652591\n",
              "rooms                      0.581398\n",
              "priorSaleAmount            0.566327\n",
              "bedrooms                   0.358154\n",
              "lastSaleAmount             0.258833\n",
              "longitude                  0.234867\n",
              "id                         0.155242\n",
              "zipcode                    0.109972\n",
              "year_between_last_sales    0.089481\n",
              "year_lastSaleDate          0.042969\n",
              "week_daylastSaleDate       0.000469\n",
              "year_priorSaleDate        -0.058554\n",
              "lotSize                   -0.072603\n",
              "latitude                  -0.199005\n",
              "yearBuilt                 -0.255941\n",
              "Name: estimated_value, dtype: float64"
            ]
          },
          "metadata": {},
          "execution_count": 30
        }
      ]
    },
    {
      "cell_type": "markdown",
      "source": [
        "#Practical examples of Data Mining "
      ],
      "metadata": {
        "id": "Eiy6QXCjmBGU"
      }
    },
    {
      "cell_type": "code",
      "source": [
        "df.groupby([\"zipcode\", \"yearBuilt\"]).estimated_value.median().head(10)"
      ],
      "metadata": {
        "colab": {
          "base_uri": "https://localhost:8080/"
        },
        "id": "tv7qtcC7gdq4",
        "outputId": "71630d9d-c536-4dc8-855c-c749d058f329"
      },
      "execution_count": null,
      "outputs": [
        {
          "output_type": "execute_result",
          "data": {
            "text/plain": [
              "zipcode  yearBuilt\n",
              "80022    2003.0       239753.0\n",
              "80033    1956.0       494073.0\n",
              "80123    1959.0       378509.0\n",
              "         1960.0       370857.0\n",
              "         1961.0       348035.0\n",
              "         1962.0       331915.0\n",
              "         1964.0       377254.0\n",
              "         1977.0       348776.0\n",
              "         1978.0       350987.0\n",
              "         1979.0       357373.0\n",
              "Name: estimated_value, dtype: float64"
            ]
          },
          "metadata": {},
          "execution_count": 31
        }
      ]
    },
    {
      "cell_type": "code",
      "source": [
        "df.groupby(\"zipcode\").estimated_value.mean().reset_index()"
      ],
      "metadata": {
        "colab": {
          "base_uri": "https://localhost:8080/",
          "height": 332
        },
        "id": "N7B1gyRDoWVI",
        "outputId": "786ec765-c512-4e63-852f-2fe811c7fc16"
      },
      "execution_count": null,
      "outputs": [
        {
          "output_type": "execute_result",
          "data": {
            "text/plain": [
              "   zipcode  estimated_value\n",
              "0    80022    239753.000000\n",
              "1    80033    494073.000000\n",
              "2    80123    442041.557377\n",
              "3    80203    597057.185039\n",
              "4    80204    382170.764015\n",
              "5    80205    493931.957111\n",
              "6    80206    687471.786271\n",
              "7    80207    502097.067866\n",
              "8    80209    675948.477064"
            ],
            "text/html": [
              "\n",
              "  <div id=\"df-670147f1-2425-4b9e-aed5-42ffe192a9ea\">\n",
              "    <div class=\"colab-df-container\">\n",
              "      <div>\n",
              "<style scoped>\n",
              "    .dataframe tbody tr th:only-of-type {\n",
              "        vertical-align: middle;\n",
              "    }\n",
              "\n",
              "    .dataframe tbody tr th {\n",
              "        vertical-align: top;\n",
              "    }\n",
              "\n",
              "    .dataframe thead th {\n",
              "        text-align: right;\n",
              "    }\n",
              "</style>\n",
              "<table border=\"1\" class=\"dataframe\">\n",
              "  <thead>\n",
              "    <tr style=\"text-align: right;\">\n",
              "      <th></th>\n",
              "      <th>zipcode</th>\n",
              "      <th>estimated_value</th>\n",
              "    </tr>\n",
              "  </thead>\n",
              "  <tbody>\n",
              "    <tr>\n",
              "      <th>0</th>\n",
              "      <td>80022</td>\n",
              "      <td>239753.000000</td>\n",
              "    </tr>\n",
              "    <tr>\n",
              "      <th>1</th>\n",
              "      <td>80033</td>\n",
              "      <td>494073.000000</td>\n",
              "    </tr>\n",
              "    <tr>\n",
              "      <th>2</th>\n",
              "      <td>80123</td>\n",
              "      <td>442041.557377</td>\n",
              "    </tr>\n",
              "    <tr>\n",
              "      <th>3</th>\n",
              "      <td>80203</td>\n",
              "      <td>597057.185039</td>\n",
              "    </tr>\n",
              "    <tr>\n",
              "      <th>4</th>\n",
              "      <td>80204</td>\n",
              "      <td>382170.764015</td>\n",
              "    </tr>\n",
              "    <tr>\n",
              "      <th>5</th>\n",
              "      <td>80205</td>\n",
              "      <td>493931.957111</td>\n",
              "    </tr>\n",
              "    <tr>\n",
              "      <th>6</th>\n",
              "      <td>80206</td>\n",
              "      <td>687471.786271</td>\n",
              "    </tr>\n",
              "    <tr>\n",
              "      <th>7</th>\n",
              "      <td>80207</td>\n",
              "      <td>502097.067866</td>\n",
              "    </tr>\n",
              "    <tr>\n",
              "      <th>8</th>\n",
              "      <td>80209</td>\n",
              "      <td>675948.477064</td>\n",
              "    </tr>\n",
              "  </tbody>\n",
              "</table>\n",
              "</div>\n",
              "      <button class=\"colab-df-convert\" onclick=\"convertToInteractive('df-670147f1-2425-4b9e-aed5-42ffe192a9ea')\"\n",
              "              title=\"Convert this dataframe to an interactive table.\"\n",
              "              style=\"display:none;\">\n",
              "        \n",
              "  <svg xmlns=\"http://www.w3.org/2000/svg\" height=\"24px\"viewBox=\"0 0 24 24\"\n",
              "       width=\"24px\">\n",
              "    <path d=\"M0 0h24v24H0V0z\" fill=\"none\"/>\n",
              "    <path d=\"M18.56 5.44l.94 2.06.94-2.06 2.06-.94-2.06-.94-.94-2.06-.94 2.06-2.06.94zm-11 1L8.5 8.5l.94-2.06 2.06-.94-2.06-.94L8.5 2.5l-.94 2.06-2.06.94zm10 10l.94 2.06.94-2.06 2.06-.94-2.06-.94-.94-2.06-.94 2.06-2.06.94z\"/><path d=\"M17.41 7.96l-1.37-1.37c-.4-.4-.92-.59-1.43-.59-.52 0-1.04.2-1.43.59L10.3 9.45l-7.72 7.72c-.78.78-.78 2.05 0 2.83L4 21.41c.39.39.9.59 1.41.59.51 0 1.02-.2 1.41-.59l7.78-7.78 2.81-2.81c.8-.78.8-2.07 0-2.86zM5.41 20L4 18.59l7.72-7.72 1.47 1.35L5.41 20z\"/>\n",
              "  </svg>\n",
              "      </button>\n",
              "      \n",
              "  <style>\n",
              "    .colab-df-container {\n",
              "      display:flex;\n",
              "      flex-wrap:wrap;\n",
              "      gap: 12px;\n",
              "    }\n",
              "\n",
              "    .colab-df-convert {\n",
              "      background-color: #E8F0FE;\n",
              "      border: none;\n",
              "      border-radius: 50%;\n",
              "      cursor: pointer;\n",
              "      display: none;\n",
              "      fill: #1967D2;\n",
              "      height: 32px;\n",
              "      padding: 0 0 0 0;\n",
              "      width: 32px;\n",
              "    }\n",
              "\n",
              "    .colab-df-convert:hover {\n",
              "      background-color: #E2EBFA;\n",
              "      box-shadow: 0px 1px 2px rgba(60, 64, 67, 0.3), 0px 1px 3px 1px rgba(60, 64, 67, 0.15);\n",
              "      fill: #174EA6;\n",
              "    }\n",
              "\n",
              "    [theme=dark] .colab-df-convert {\n",
              "      background-color: #3B4455;\n",
              "      fill: #D2E3FC;\n",
              "    }\n",
              "\n",
              "    [theme=dark] .colab-df-convert:hover {\n",
              "      background-color: #434B5C;\n",
              "      box-shadow: 0px 1px 3px 1px rgba(0, 0, 0, 0.15);\n",
              "      filter: drop-shadow(0px 1px 2px rgba(0, 0, 0, 0.3));\n",
              "      fill: #FFFFFF;\n",
              "    }\n",
              "  </style>\n",
              "\n",
              "      <script>\n",
              "        const buttonEl =\n",
              "          document.querySelector('#df-670147f1-2425-4b9e-aed5-42ffe192a9ea button.colab-df-convert');\n",
              "        buttonEl.style.display =\n",
              "          google.colab.kernel.accessAllowed ? 'block' : 'none';\n",
              "\n",
              "        async function convertToInteractive(key) {\n",
              "          const element = document.querySelector('#df-670147f1-2425-4b9e-aed5-42ffe192a9ea');\n",
              "          const dataTable =\n",
              "            await google.colab.kernel.invokeFunction('convertToInteractive',\n",
              "                                                     [key], {});\n",
              "          if (!dataTable) return;\n",
              "\n",
              "          const docLinkHtml = 'Like what you see? Visit the ' +\n",
              "            '<a target=\"_blank\" href=https://colab.research.google.com/notebooks/data_table.ipynb>data table notebook</a>'\n",
              "            + ' to learn more about interactive tables.';\n",
              "          element.innerHTML = '';\n",
              "          dataTable['output_type'] = 'display_data';\n",
              "          await google.colab.output.renderOutput(dataTable, element);\n",
              "          const docLink = document.createElement('div');\n",
              "          docLink.innerHTML = docLinkHtml;\n",
              "          element.appendChild(docLink);\n",
              "        }\n",
              "      </script>\n",
              "    </div>\n",
              "  </div>\n",
              "  "
            ]
          },
          "metadata": {},
          "execution_count": 32
        }
      ]
    },
    {
      "cell_type": "code",
      "source": [
        "df2 = df.groupby(\"zipcode\").estimated_value.mean().reset_index()"
      ],
      "metadata": {
        "id": "WbSEXGp1lEzw"
      },
      "execution_count": null,
      "outputs": []
    },
    {
      "cell_type": "code",
      "source": [
        "df2.columns=['zipcode','median_value']"
      ],
      "metadata": {
        "id": "ycHy1Vy7uhZT"
      },
      "execution_count": null,
      "outputs": []
    },
    {
      "cell_type": "code",
      "source": [
        "#merging \n",
        "pd.merge(df, df2, on =\"zipcode\", how=\"left\")"
      ],
      "metadata": {
        "colab": {
          "base_uri": "https://localhost:8080/",
          "height": 696
        },
        "id": "QfkenKFYlFA3",
        "outputId": "3698cd2a-6f2b-4a93-e499-618141ba2775"
      },
      "execution_count": null,
      "outputs": [
        {
          "output_type": "execute_result",
          "data": {
            "text/plain": [
              "              id              address    city state  zipcode   latitude  \\\n",
              "0       39525749      8171 E 84th Ave  Denver    CO    80022  39.849160   \n",
              "1      155129946  3040 Wadsworth Blvd  Denver    CO    80033  39.760780   \n",
              "2         245107      5615 S Eaton St  Denver    CO    80123  39.616181   \n",
              "3        3523925     6535 W Sumac Ave  Denver    CO    80123  39.615136   \n",
              "4       30560679     6673 W Berry Ave  Denver    CO    80123  39.616350   \n",
              "...          ...                  ...     ...   ...      ...        ...   \n",
              "10075   23766957  421 S Washington St  Denver    CO    80209  39.708869   \n",
              "10076    4511745     255 S Downing St  Denver    CO    80209  39.711870   \n",
              "10077   42985979    1016 S Emerson St  Denver    CO    80209  39.698090   \n",
              "10078  150304831        376 S High St  Denver    CO    80209  39.709681   \n",
              "10079   21721153     214 S Lincoln St  Denver    CO    80209  39.712608   \n",
              "\n",
              "        longitude  bedrooms  bathrooms  rooms  ...  lastSaleDate  \\\n",
              "0     -104.893468         3        2.0      6  ...    2009-12-17   \n",
              "1     -105.081060         4        3.0      0  ...    2008-12-02   \n",
              "2     -105.058812         3        4.0      8  ...    2012-07-18   \n",
              "3     -105.069018         3        5.0      7  ...    2006-09-12   \n",
              "4     -105.070760         4        4.0      8  ...    2014-12-15   \n",
              "...           ...       ...        ...    ...  ...           ...   \n",
              "10075 -104.979540         2        2.0      6  ...    2008-07-08   \n",
              "10076 -104.973735         2        2.0      5  ...    2009-10-06   \n",
              "10077 -104.976608         3        2.0      6  ...    2017-05-31   \n",
              "10078 -104.964860         3        2.0      7  ...    2015-09-10   \n",
              "10079 -104.986000         3        3.0     11  ...    2015-03-05   \n",
              "\n",
              "       lastSaleAmount  priorSaleDate priorSaleAmount  estimated_value  \\\n",
              "0               75000     2004-05-13        165700.0           239753   \n",
              "1              185000     2008-06-27             0.0           494073   \n",
              "2              308000     2011-12-29             0.0           513676   \n",
              "3              363500     2005-05-16        339000.0           496062   \n",
              "4              420000     2006-07-07        345000.0           514953   \n",
              "...               ...            ...             ...              ...   \n",
              "10075          385000     1998-01-30        182900.0           629031   \n",
              "10076          385000     2005-08-03        360000.0           638952   \n",
              "10077          600000     2013-06-07        535000.0           694981   \n",
              "10078          815000     1994-05-06        142000.0           784955   \n",
              "10079          645000     2012-07-23        557500.0           807306   \n",
              "\n",
              "      week_daylastSaleDate  year_priorSaleDate  year_lastSaleDate  \\\n",
              "0                        3                2004               2009   \n",
              "1                        1                2008               2008   \n",
              "2                        2                2011               2012   \n",
              "3                        1                2005               2006   \n",
              "4                        0                2006               2014   \n",
              "...                    ...                 ...                ...   \n",
              "10075                    1                1998               2008   \n",
              "10076                    1                2005               2009   \n",
              "10077                    2                2013               2017   \n",
              "10078                    3                1994               2015   \n",
              "10079                    3                2012               2015   \n",
              "\n",
              "       year_between_last_sales   median_value  \n",
              "0                            5  239753.000000  \n",
              "1                            0  494073.000000  \n",
              "2                            1  442041.557377  \n",
              "3                            1  442041.557377  \n",
              "4                            8  442041.557377  \n",
              "...                        ...            ...  \n",
              "10075                       10  675948.477064  \n",
              "10076                        4  675948.477064  \n",
              "10077                        4  675948.477064  \n",
              "10078                       21  675948.477064  \n",
              "10079                        3  675948.477064  \n",
              "\n",
              "[10080 rows x 23 columns]"
            ],
            "text/html": [
              "\n",
              "  <div id=\"df-cc9596f8-02f6-4aeb-afdb-7a0b4cf38423\">\n",
              "    <div class=\"colab-df-container\">\n",
              "      <div>\n",
              "<style scoped>\n",
              "    .dataframe tbody tr th:only-of-type {\n",
              "        vertical-align: middle;\n",
              "    }\n",
              "\n",
              "    .dataframe tbody tr th {\n",
              "        vertical-align: top;\n",
              "    }\n",
              "\n",
              "    .dataframe thead th {\n",
              "        text-align: right;\n",
              "    }\n",
              "</style>\n",
              "<table border=\"1\" class=\"dataframe\">\n",
              "  <thead>\n",
              "    <tr style=\"text-align: right;\">\n",
              "      <th></th>\n",
              "      <th>id</th>\n",
              "      <th>address</th>\n",
              "      <th>city</th>\n",
              "      <th>state</th>\n",
              "      <th>zipcode</th>\n",
              "      <th>latitude</th>\n",
              "      <th>longitude</th>\n",
              "      <th>bedrooms</th>\n",
              "      <th>bathrooms</th>\n",
              "      <th>rooms</th>\n",
              "      <th>...</th>\n",
              "      <th>lastSaleDate</th>\n",
              "      <th>lastSaleAmount</th>\n",
              "      <th>priorSaleDate</th>\n",
              "      <th>priorSaleAmount</th>\n",
              "      <th>estimated_value</th>\n",
              "      <th>week_daylastSaleDate</th>\n",
              "      <th>year_priorSaleDate</th>\n",
              "      <th>year_lastSaleDate</th>\n",
              "      <th>year_between_last_sales</th>\n",
              "      <th>median_value</th>\n",
              "    </tr>\n",
              "  </thead>\n",
              "  <tbody>\n",
              "    <tr>\n",
              "      <th>0</th>\n",
              "      <td>39525749</td>\n",
              "      <td>8171 E 84th Ave</td>\n",
              "      <td>Denver</td>\n",
              "      <td>CO</td>\n",
              "      <td>80022</td>\n",
              "      <td>39.849160</td>\n",
              "      <td>-104.893468</td>\n",
              "      <td>3</td>\n",
              "      <td>2.0</td>\n",
              "      <td>6</td>\n",
              "      <td>...</td>\n",
              "      <td>2009-12-17</td>\n",
              "      <td>75000</td>\n",
              "      <td>2004-05-13</td>\n",
              "      <td>165700.0</td>\n",
              "      <td>239753</td>\n",
              "      <td>3</td>\n",
              "      <td>2004</td>\n",
              "      <td>2009</td>\n",
              "      <td>5</td>\n",
              "      <td>239753.000000</td>\n",
              "    </tr>\n",
              "    <tr>\n",
              "      <th>1</th>\n",
              "      <td>155129946</td>\n",
              "      <td>3040 Wadsworth Blvd</td>\n",
              "      <td>Denver</td>\n",
              "      <td>CO</td>\n",
              "      <td>80033</td>\n",
              "      <td>39.760780</td>\n",
              "      <td>-105.081060</td>\n",
              "      <td>4</td>\n",
              "      <td>3.0</td>\n",
              "      <td>0</td>\n",
              "      <td>...</td>\n",
              "      <td>2008-12-02</td>\n",
              "      <td>185000</td>\n",
              "      <td>2008-06-27</td>\n",
              "      <td>0.0</td>\n",
              "      <td>494073</td>\n",
              "      <td>1</td>\n",
              "      <td>2008</td>\n",
              "      <td>2008</td>\n",
              "      <td>0</td>\n",
              "      <td>494073.000000</td>\n",
              "    </tr>\n",
              "    <tr>\n",
              "      <th>2</th>\n",
              "      <td>245107</td>\n",
              "      <td>5615 S Eaton St</td>\n",
              "      <td>Denver</td>\n",
              "      <td>CO</td>\n",
              "      <td>80123</td>\n",
              "      <td>39.616181</td>\n",
              "      <td>-105.058812</td>\n",
              "      <td>3</td>\n",
              "      <td>4.0</td>\n",
              "      <td>8</td>\n",
              "      <td>...</td>\n",
              "      <td>2012-07-18</td>\n",
              "      <td>308000</td>\n",
              "      <td>2011-12-29</td>\n",
              "      <td>0.0</td>\n",
              "      <td>513676</td>\n",
              "      <td>2</td>\n",
              "      <td>2011</td>\n",
              "      <td>2012</td>\n",
              "      <td>1</td>\n",
              "      <td>442041.557377</td>\n",
              "    </tr>\n",
              "    <tr>\n",
              "      <th>3</th>\n",
              "      <td>3523925</td>\n",
              "      <td>6535 W Sumac Ave</td>\n",
              "      <td>Denver</td>\n",
              "      <td>CO</td>\n",
              "      <td>80123</td>\n",
              "      <td>39.615136</td>\n",
              "      <td>-105.069018</td>\n",
              "      <td>3</td>\n",
              "      <td>5.0</td>\n",
              "      <td>7</td>\n",
              "      <td>...</td>\n",
              "      <td>2006-09-12</td>\n",
              "      <td>363500</td>\n",
              "      <td>2005-05-16</td>\n",
              "      <td>339000.0</td>\n",
              "      <td>496062</td>\n",
              "      <td>1</td>\n",
              "      <td>2005</td>\n",
              "      <td>2006</td>\n",
              "      <td>1</td>\n",
              "      <td>442041.557377</td>\n",
              "    </tr>\n",
              "    <tr>\n",
              "      <th>4</th>\n",
              "      <td>30560679</td>\n",
              "      <td>6673 W Berry Ave</td>\n",
              "      <td>Denver</td>\n",
              "      <td>CO</td>\n",
              "      <td>80123</td>\n",
              "      <td>39.616350</td>\n",
              "      <td>-105.070760</td>\n",
              "      <td>4</td>\n",
              "      <td>4.0</td>\n",
              "      <td>8</td>\n",
              "      <td>...</td>\n",
              "      <td>2014-12-15</td>\n",
              "      <td>420000</td>\n",
              "      <td>2006-07-07</td>\n",
              "      <td>345000.0</td>\n",
              "      <td>514953</td>\n",
              "      <td>0</td>\n",
              "      <td>2006</td>\n",
              "      <td>2014</td>\n",
              "      <td>8</td>\n",
              "      <td>442041.557377</td>\n",
              "    </tr>\n",
              "    <tr>\n",
              "      <th>...</th>\n",
              "      <td>...</td>\n",
              "      <td>...</td>\n",
              "      <td>...</td>\n",
              "      <td>...</td>\n",
              "      <td>...</td>\n",
              "      <td>...</td>\n",
              "      <td>...</td>\n",
              "      <td>...</td>\n",
              "      <td>...</td>\n",
              "      <td>...</td>\n",
              "      <td>...</td>\n",
              "      <td>...</td>\n",
              "      <td>...</td>\n",
              "      <td>...</td>\n",
              "      <td>...</td>\n",
              "      <td>...</td>\n",
              "      <td>...</td>\n",
              "      <td>...</td>\n",
              "      <td>...</td>\n",
              "      <td>...</td>\n",
              "      <td>...</td>\n",
              "    </tr>\n",
              "    <tr>\n",
              "      <th>10075</th>\n",
              "      <td>23766957</td>\n",
              "      <td>421 S Washington St</td>\n",
              "      <td>Denver</td>\n",
              "      <td>CO</td>\n",
              "      <td>80209</td>\n",
              "      <td>39.708869</td>\n",
              "      <td>-104.979540</td>\n",
              "      <td>2</td>\n",
              "      <td>2.0</td>\n",
              "      <td>6</td>\n",
              "      <td>...</td>\n",
              "      <td>2008-07-08</td>\n",
              "      <td>385000</td>\n",
              "      <td>1998-01-30</td>\n",
              "      <td>182900.0</td>\n",
              "      <td>629031</td>\n",
              "      <td>1</td>\n",
              "      <td>1998</td>\n",
              "      <td>2008</td>\n",
              "      <td>10</td>\n",
              "      <td>675948.477064</td>\n",
              "    </tr>\n",
              "    <tr>\n",
              "      <th>10076</th>\n",
              "      <td>4511745</td>\n",
              "      <td>255 S Downing St</td>\n",
              "      <td>Denver</td>\n",
              "      <td>CO</td>\n",
              "      <td>80209</td>\n",
              "      <td>39.711870</td>\n",
              "      <td>-104.973735</td>\n",
              "      <td>2</td>\n",
              "      <td>2.0</td>\n",
              "      <td>5</td>\n",
              "      <td>...</td>\n",
              "      <td>2009-10-06</td>\n",
              "      <td>385000</td>\n",
              "      <td>2005-08-03</td>\n",
              "      <td>360000.0</td>\n",
              "      <td>638952</td>\n",
              "      <td>1</td>\n",
              "      <td>2005</td>\n",
              "      <td>2009</td>\n",
              "      <td>4</td>\n",
              "      <td>675948.477064</td>\n",
              "    </tr>\n",
              "    <tr>\n",
              "      <th>10077</th>\n",
              "      <td>42985979</td>\n",
              "      <td>1016 S Emerson St</td>\n",
              "      <td>Denver</td>\n",
              "      <td>CO</td>\n",
              "      <td>80209</td>\n",
              "      <td>39.698090</td>\n",
              "      <td>-104.976608</td>\n",
              "      <td>3</td>\n",
              "      <td>2.0</td>\n",
              "      <td>6</td>\n",
              "      <td>...</td>\n",
              "      <td>2017-05-31</td>\n",
              "      <td>600000</td>\n",
              "      <td>2013-06-07</td>\n",
              "      <td>535000.0</td>\n",
              "      <td>694981</td>\n",
              "      <td>2</td>\n",
              "      <td>2013</td>\n",
              "      <td>2017</td>\n",
              "      <td>4</td>\n",
              "      <td>675948.477064</td>\n",
              "    </tr>\n",
              "    <tr>\n",
              "      <th>10078</th>\n",
              "      <td>150304831</td>\n",
              "      <td>376 S High St</td>\n",
              "      <td>Denver</td>\n",
              "      <td>CO</td>\n",
              "      <td>80209</td>\n",
              "      <td>39.709681</td>\n",
              "      <td>-104.964860</td>\n",
              "      <td>3</td>\n",
              "      <td>2.0</td>\n",
              "      <td>7</td>\n",
              "      <td>...</td>\n",
              "      <td>2015-09-10</td>\n",
              "      <td>815000</td>\n",
              "      <td>1994-05-06</td>\n",
              "      <td>142000.0</td>\n",
              "      <td>784955</td>\n",
              "      <td>3</td>\n",
              "      <td>1994</td>\n",
              "      <td>2015</td>\n",
              "      <td>21</td>\n",
              "      <td>675948.477064</td>\n",
              "    </tr>\n",
              "    <tr>\n",
              "      <th>10079</th>\n",
              "      <td>21721153</td>\n",
              "      <td>214 S Lincoln St</td>\n",
              "      <td>Denver</td>\n",
              "      <td>CO</td>\n",
              "      <td>80209</td>\n",
              "      <td>39.712608</td>\n",
              "      <td>-104.986000</td>\n",
              "      <td>3</td>\n",
              "      <td>3.0</td>\n",
              "      <td>11</td>\n",
              "      <td>...</td>\n",
              "      <td>2015-03-05</td>\n",
              "      <td>645000</td>\n",
              "      <td>2012-07-23</td>\n",
              "      <td>557500.0</td>\n",
              "      <td>807306</td>\n",
              "      <td>3</td>\n",
              "      <td>2012</td>\n",
              "      <td>2015</td>\n",
              "      <td>3</td>\n",
              "      <td>675948.477064</td>\n",
              "    </tr>\n",
              "  </tbody>\n",
              "</table>\n",
              "<p>10080 rows × 23 columns</p>\n",
              "</div>\n",
              "      <button class=\"colab-df-convert\" onclick=\"convertToInteractive('df-cc9596f8-02f6-4aeb-afdb-7a0b4cf38423')\"\n",
              "              title=\"Convert this dataframe to an interactive table.\"\n",
              "              style=\"display:none;\">\n",
              "        \n",
              "  <svg xmlns=\"http://www.w3.org/2000/svg\" height=\"24px\"viewBox=\"0 0 24 24\"\n",
              "       width=\"24px\">\n",
              "    <path d=\"M0 0h24v24H0V0z\" fill=\"none\"/>\n",
              "    <path d=\"M18.56 5.44l.94 2.06.94-2.06 2.06-.94-2.06-.94-.94-2.06-.94 2.06-2.06.94zm-11 1L8.5 8.5l.94-2.06 2.06-.94-2.06-.94L8.5 2.5l-.94 2.06-2.06.94zm10 10l.94 2.06.94-2.06 2.06-.94-2.06-.94-.94-2.06-.94 2.06-2.06.94z\"/><path d=\"M17.41 7.96l-1.37-1.37c-.4-.4-.92-.59-1.43-.59-.52 0-1.04.2-1.43.59L10.3 9.45l-7.72 7.72c-.78.78-.78 2.05 0 2.83L4 21.41c.39.39.9.59 1.41.59.51 0 1.02-.2 1.41-.59l7.78-7.78 2.81-2.81c.8-.78.8-2.07 0-2.86zM5.41 20L4 18.59l7.72-7.72 1.47 1.35L5.41 20z\"/>\n",
              "  </svg>\n",
              "      </button>\n",
              "      \n",
              "  <style>\n",
              "    .colab-df-container {\n",
              "      display:flex;\n",
              "      flex-wrap:wrap;\n",
              "      gap: 12px;\n",
              "    }\n",
              "\n",
              "    .colab-df-convert {\n",
              "      background-color: #E8F0FE;\n",
              "      border: none;\n",
              "      border-radius: 50%;\n",
              "      cursor: pointer;\n",
              "      display: none;\n",
              "      fill: #1967D2;\n",
              "      height: 32px;\n",
              "      padding: 0 0 0 0;\n",
              "      width: 32px;\n",
              "    }\n",
              "\n",
              "    .colab-df-convert:hover {\n",
              "      background-color: #E2EBFA;\n",
              "      box-shadow: 0px 1px 2px rgba(60, 64, 67, 0.3), 0px 1px 3px 1px rgba(60, 64, 67, 0.15);\n",
              "      fill: #174EA6;\n",
              "    }\n",
              "\n",
              "    [theme=dark] .colab-df-convert {\n",
              "      background-color: #3B4455;\n",
              "      fill: #D2E3FC;\n",
              "    }\n",
              "\n",
              "    [theme=dark] .colab-df-convert:hover {\n",
              "      background-color: #434B5C;\n",
              "      box-shadow: 0px 1px 3px 1px rgba(0, 0, 0, 0.15);\n",
              "      filter: drop-shadow(0px 1px 2px rgba(0, 0, 0, 0.3));\n",
              "      fill: #FFFFFF;\n",
              "    }\n",
              "  </style>\n",
              "\n",
              "      <script>\n",
              "        const buttonEl =\n",
              "          document.querySelector('#df-cc9596f8-02f6-4aeb-afdb-7a0b4cf38423 button.colab-df-convert');\n",
              "        buttonEl.style.display =\n",
              "          google.colab.kernel.accessAllowed ? 'block' : 'none';\n",
              "\n",
              "        async function convertToInteractive(key) {\n",
              "          const element = document.querySelector('#df-cc9596f8-02f6-4aeb-afdb-7a0b4cf38423');\n",
              "          const dataTable =\n",
              "            await google.colab.kernel.invokeFunction('convertToInteractive',\n",
              "                                                     [key], {});\n",
              "          if (!dataTable) return;\n",
              "\n",
              "          const docLinkHtml = 'Like what you see? Visit the ' +\n",
              "            '<a target=\"_blank\" href=https://colab.research.google.com/notebooks/data_table.ipynb>data table notebook</a>'\n",
              "            + ' to learn more about interactive tables.';\n",
              "          element.innerHTML = '';\n",
              "          dataTable['output_type'] = 'display_data';\n",
              "          await google.colab.output.renderOutput(dataTable, element);\n",
              "          const docLink = document.createElement('div');\n",
              "          docLink.innerHTML = docLinkHtml;\n",
              "          element.appendChild(docLink);\n",
              "        }\n",
              "      </script>\n",
              "    </div>\n",
              "  </div>\n",
              "  "
            ]
          },
          "metadata": {},
          "execution_count": 35
        }
      ]
    },
    {
      "cell_type": "markdown",
      "source": [
        "#Dataset Examples\n",
        "\n",
        "Kaggle\n",
        "Reddit\n",
        "Sklearn\n",
        "Google"
      ],
      "metadata": {
        "id": "8uJ9iI8qxMkK"
      }
    },
    {
      "cell_type": "markdown",
      "source": [
        "#Cluster analysis"
      ],
      "metadata": {
        "id": "PJstyEDFzhfF"
      }
    },
    {
      "cell_type": "code",
      "source": [
        "from sklearn.cluster import KMeans"
      ],
      "metadata": {
        "id": "5iM4WNgVzlD7"
      },
      "execution_count": null,
      "outputs": []
    },
    {
      "cell_type": "code",
      "source": [
        "df.describe()\n"
      ],
      "metadata": {
        "colab": {
          "base_uri": "https://localhost:8080/",
          "height": 364
        },
        "id": "6pdJ-lwfzuPm",
        "outputId": "11ff2e11-c1bd-4362-aa0f-f389000daed3"
      },
      "execution_count": null,
      "outputs": [
        {
          "output_type": "execute_result",
          "data": {
            "text/plain": [
              "                 id       zipcode      latitude     longitude      bedrooms  \\\n",
              "count  1.008000e+04  10080.000000  10080.000000  10080.000000  10080.000000   \n",
              "mean   4.169436e+07  80204.794048     39.743366   -104.964296      2.593056   \n",
              "std    5.496861e+07      9.516981      0.022711      0.041141      0.789020   \n",
              "min    1.433670e+05  80022.000000     39.614539   -105.108407      0.000000   \n",
              "25%    7.648809e+06  80205.000000     39.730591   -104.980214      2.000000   \n",
              "50%    1.983419e+07  80206.000000     39.750796   -104.957685      2.000000   \n",
              "75%    4.383447e+07  80207.000000     39.759383   -104.934227      3.000000   \n",
              "max    2.515274e+08  80209.000000     39.849160   -104.893468      9.000000   \n",
              "\n",
              "          bathrooms         rooms  squareFootage       lotSize     yearBuilt  \\\n",
              "count  10080.000000  10080.000000   10080.000000  10080.000000  10080.000000   \n",
              "mean       1.981895      5.805456    1303.269742   5451.996925   1926.682738   \n",
              "std        0.844782      1.516111     482.778156   1691.248787     27.167349   \n",
              "min        0.000000      0.000000     350.000000    832.000000   1874.000000   \n",
              "25%        1.000000      5.000000     959.000000   4460.000000   1906.000000   \n",
              "50%        2.000000      6.000000    1175.000000   5940.000000   1925.000000   \n",
              "75%        2.000000      7.000000    1556.000000   6250.000000   1949.000000   \n",
              "max       11.000000     21.000000    4695.000000  20223.000000   2016.000000   \n",
              "\n",
              "       lastSaleAmount  priorSaleAmount  estimated_value  week_daylastSaleDate  \\\n",
              "count    1.008000e+04     1.008000e+04     10080.000000          10080.000000   \n",
              "mean     3.471972e+05     2.144274e+05    517858.492262              1.965675   \n",
              "std      4.972707e+05     1.669564e+05    161473.908059              1.430887   \n",
              "min      5.000000e+02     0.000000e+00    147767.000000              0.000000   \n",
              "25%      2.110000e+05     1.090000e+05    392722.500000              1.000000   \n",
              "50%      3.250000e+05     1.999000e+05    489844.500000              2.000000   \n",
              "75%      4.390000e+05     3.050000e+05    621846.000000              3.000000   \n",
              "max      4.560000e+07     4.475900e+06    996677.000000              6.000000   \n",
              "\n",
              "       year_priorSaleDate  year_lastSaleDate  year_between_last_sales  \n",
              "count        10080.000000       10080.000000             10080.000000  \n",
              "mean          2006.328571        2011.384623                 5.056052  \n",
              "std              6.240236           4.470070                 6.229969  \n",
              "min           1967.000000        1998.000000                -4.000000  \n",
              "25%           2003.000000        2008.000000                 1.000000  \n",
              "50%           2007.000000        2013.000000                 3.000000  \n",
              "75%           2011.000000        2015.000000                 7.000000  \n",
              "max           2017.000000        2017.000000                50.000000  "
            ],
            "text/html": [
              "\n",
              "  <div id=\"df-24061e4f-039b-472c-8f3f-27b1f1c4ed93\">\n",
              "    <div class=\"colab-df-container\">\n",
              "      <div>\n",
              "<style scoped>\n",
              "    .dataframe tbody tr th:only-of-type {\n",
              "        vertical-align: middle;\n",
              "    }\n",
              "\n",
              "    .dataframe tbody tr th {\n",
              "        vertical-align: top;\n",
              "    }\n",
              "\n",
              "    .dataframe thead th {\n",
              "        text-align: right;\n",
              "    }\n",
              "</style>\n",
              "<table border=\"1\" class=\"dataframe\">\n",
              "  <thead>\n",
              "    <tr style=\"text-align: right;\">\n",
              "      <th></th>\n",
              "      <th>id</th>\n",
              "      <th>zipcode</th>\n",
              "      <th>latitude</th>\n",
              "      <th>longitude</th>\n",
              "      <th>bedrooms</th>\n",
              "      <th>bathrooms</th>\n",
              "      <th>rooms</th>\n",
              "      <th>squareFootage</th>\n",
              "      <th>lotSize</th>\n",
              "      <th>yearBuilt</th>\n",
              "      <th>lastSaleAmount</th>\n",
              "      <th>priorSaleAmount</th>\n",
              "      <th>estimated_value</th>\n",
              "      <th>week_daylastSaleDate</th>\n",
              "      <th>year_priorSaleDate</th>\n",
              "      <th>year_lastSaleDate</th>\n",
              "      <th>year_between_last_sales</th>\n",
              "    </tr>\n",
              "  </thead>\n",
              "  <tbody>\n",
              "    <tr>\n",
              "      <th>count</th>\n",
              "      <td>1.008000e+04</td>\n",
              "      <td>10080.000000</td>\n",
              "      <td>10080.000000</td>\n",
              "      <td>10080.000000</td>\n",
              "      <td>10080.000000</td>\n",
              "      <td>10080.000000</td>\n",
              "      <td>10080.000000</td>\n",
              "      <td>10080.000000</td>\n",
              "      <td>10080.000000</td>\n",
              "      <td>10080.000000</td>\n",
              "      <td>1.008000e+04</td>\n",
              "      <td>1.008000e+04</td>\n",
              "      <td>10080.000000</td>\n",
              "      <td>10080.000000</td>\n",
              "      <td>10080.000000</td>\n",
              "      <td>10080.000000</td>\n",
              "      <td>10080.000000</td>\n",
              "    </tr>\n",
              "    <tr>\n",
              "      <th>mean</th>\n",
              "      <td>4.169436e+07</td>\n",
              "      <td>80204.794048</td>\n",
              "      <td>39.743366</td>\n",
              "      <td>-104.964296</td>\n",
              "      <td>2.593056</td>\n",
              "      <td>1.981895</td>\n",
              "      <td>5.805456</td>\n",
              "      <td>1303.269742</td>\n",
              "      <td>5451.996925</td>\n",
              "      <td>1926.682738</td>\n",
              "      <td>3.471972e+05</td>\n",
              "      <td>2.144274e+05</td>\n",
              "      <td>517858.492262</td>\n",
              "      <td>1.965675</td>\n",
              "      <td>2006.328571</td>\n",
              "      <td>2011.384623</td>\n",
              "      <td>5.056052</td>\n",
              "    </tr>\n",
              "    <tr>\n",
              "      <th>std</th>\n",
              "      <td>5.496861e+07</td>\n",
              "      <td>9.516981</td>\n",
              "      <td>0.022711</td>\n",
              "      <td>0.041141</td>\n",
              "      <td>0.789020</td>\n",
              "      <td>0.844782</td>\n",
              "      <td>1.516111</td>\n",
              "      <td>482.778156</td>\n",
              "      <td>1691.248787</td>\n",
              "      <td>27.167349</td>\n",
              "      <td>4.972707e+05</td>\n",
              "      <td>1.669564e+05</td>\n",
              "      <td>161473.908059</td>\n",
              "      <td>1.430887</td>\n",
              "      <td>6.240236</td>\n",
              "      <td>4.470070</td>\n",
              "      <td>6.229969</td>\n",
              "    </tr>\n",
              "    <tr>\n",
              "      <th>min</th>\n",
              "      <td>1.433670e+05</td>\n",
              "      <td>80022.000000</td>\n",
              "      <td>39.614539</td>\n",
              "      <td>-105.108407</td>\n",
              "      <td>0.000000</td>\n",
              "      <td>0.000000</td>\n",
              "      <td>0.000000</td>\n",
              "      <td>350.000000</td>\n",
              "      <td>832.000000</td>\n",
              "      <td>1874.000000</td>\n",
              "      <td>5.000000e+02</td>\n",
              "      <td>0.000000e+00</td>\n",
              "      <td>147767.000000</td>\n",
              "      <td>0.000000</td>\n",
              "      <td>1967.000000</td>\n",
              "      <td>1998.000000</td>\n",
              "      <td>-4.000000</td>\n",
              "    </tr>\n",
              "    <tr>\n",
              "      <th>25%</th>\n",
              "      <td>7.648809e+06</td>\n",
              "      <td>80205.000000</td>\n",
              "      <td>39.730591</td>\n",
              "      <td>-104.980214</td>\n",
              "      <td>2.000000</td>\n",
              "      <td>1.000000</td>\n",
              "      <td>5.000000</td>\n",
              "      <td>959.000000</td>\n",
              "      <td>4460.000000</td>\n",
              "      <td>1906.000000</td>\n",
              "      <td>2.110000e+05</td>\n",
              "      <td>1.090000e+05</td>\n",
              "      <td>392722.500000</td>\n",
              "      <td>1.000000</td>\n",
              "      <td>2003.000000</td>\n",
              "      <td>2008.000000</td>\n",
              "      <td>1.000000</td>\n",
              "    </tr>\n",
              "    <tr>\n",
              "      <th>50%</th>\n",
              "      <td>1.983419e+07</td>\n",
              "      <td>80206.000000</td>\n",
              "      <td>39.750796</td>\n",
              "      <td>-104.957685</td>\n",
              "      <td>2.000000</td>\n",
              "      <td>2.000000</td>\n",
              "      <td>6.000000</td>\n",
              "      <td>1175.000000</td>\n",
              "      <td>5940.000000</td>\n",
              "      <td>1925.000000</td>\n",
              "      <td>3.250000e+05</td>\n",
              "      <td>1.999000e+05</td>\n",
              "      <td>489844.500000</td>\n",
              "      <td>2.000000</td>\n",
              "      <td>2007.000000</td>\n",
              "      <td>2013.000000</td>\n",
              "      <td>3.000000</td>\n",
              "    </tr>\n",
              "    <tr>\n",
              "      <th>75%</th>\n",
              "      <td>4.383447e+07</td>\n",
              "      <td>80207.000000</td>\n",
              "      <td>39.759383</td>\n",
              "      <td>-104.934227</td>\n",
              "      <td>3.000000</td>\n",
              "      <td>2.000000</td>\n",
              "      <td>7.000000</td>\n",
              "      <td>1556.000000</td>\n",
              "      <td>6250.000000</td>\n",
              "      <td>1949.000000</td>\n",
              "      <td>4.390000e+05</td>\n",
              "      <td>3.050000e+05</td>\n",
              "      <td>621846.000000</td>\n",
              "      <td>3.000000</td>\n",
              "      <td>2011.000000</td>\n",
              "      <td>2015.000000</td>\n",
              "      <td>7.000000</td>\n",
              "    </tr>\n",
              "    <tr>\n",
              "      <th>max</th>\n",
              "      <td>2.515274e+08</td>\n",
              "      <td>80209.000000</td>\n",
              "      <td>39.849160</td>\n",
              "      <td>-104.893468</td>\n",
              "      <td>9.000000</td>\n",
              "      <td>11.000000</td>\n",
              "      <td>21.000000</td>\n",
              "      <td>4695.000000</td>\n",
              "      <td>20223.000000</td>\n",
              "      <td>2016.000000</td>\n",
              "      <td>4.560000e+07</td>\n",
              "      <td>4.475900e+06</td>\n",
              "      <td>996677.000000</td>\n",
              "      <td>6.000000</td>\n",
              "      <td>2017.000000</td>\n",
              "      <td>2017.000000</td>\n",
              "      <td>50.000000</td>\n",
              "    </tr>\n",
              "  </tbody>\n",
              "</table>\n",
              "</div>\n",
              "      <button class=\"colab-df-convert\" onclick=\"convertToInteractive('df-24061e4f-039b-472c-8f3f-27b1f1c4ed93')\"\n",
              "              title=\"Convert this dataframe to an interactive table.\"\n",
              "              style=\"display:none;\">\n",
              "        \n",
              "  <svg xmlns=\"http://www.w3.org/2000/svg\" height=\"24px\"viewBox=\"0 0 24 24\"\n",
              "       width=\"24px\">\n",
              "    <path d=\"M0 0h24v24H0V0z\" fill=\"none\"/>\n",
              "    <path d=\"M18.56 5.44l.94 2.06.94-2.06 2.06-.94-2.06-.94-.94-2.06-.94 2.06-2.06.94zm-11 1L8.5 8.5l.94-2.06 2.06-.94-2.06-.94L8.5 2.5l-.94 2.06-2.06.94zm10 10l.94 2.06.94-2.06 2.06-.94-2.06-.94-.94-2.06-.94 2.06-2.06.94z\"/><path d=\"M17.41 7.96l-1.37-1.37c-.4-.4-.92-.59-1.43-.59-.52 0-1.04.2-1.43.59L10.3 9.45l-7.72 7.72c-.78.78-.78 2.05 0 2.83L4 21.41c.39.39.9.59 1.41.59.51 0 1.02-.2 1.41-.59l7.78-7.78 2.81-2.81c.8-.78.8-2.07 0-2.86zM5.41 20L4 18.59l7.72-7.72 1.47 1.35L5.41 20z\"/>\n",
              "  </svg>\n",
              "      </button>\n",
              "      \n",
              "  <style>\n",
              "    .colab-df-container {\n",
              "      display:flex;\n",
              "      flex-wrap:wrap;\n",
              "      gap: 12px;\n",
              "    }\n",
              "\n",
              "    .colab-df-convert {\n",
              "      background-color: #E8F0FE;\n",
              "      border: none;\n",
              "      border-radius: 50%;\n",
              "      cursor: pointer;\n",
              "      display: none;\n",
              "      fill: #1967D2;\n",
              "      height: 32px;\n",
              "      padding: 0 0 0 0;\n",
              "      width: 32px;\n",
              "    }\n",
              "\n",
              "    .colab-df-convert:hover {\n",
              "      background-color: #E2EBFA;\n",
              "      box-shadow: 0px 1px 2px rgba(60, 64, 67, 0.3), 0px 1px 3px 1px rgba(60, 64, 67, 0.15);\n",
              "      fill: #174EA6;\n",
              "    }\n",
              "\n",
              "    [theme=dark] .colab-df-convert {\n",
              "      background-color: #3B4455;\n",
              "      fill: #D2E3FC;\n",
              "    }\n",
              "\n",
              "    [theme=dark] .colab-df-convert:hover {\n",
              "      background-color: #434B5C;\n",
              "      box-shadow: 0px 1px 3px 1px rgba(0, 0, 0, 0.15);\n",
              "      filter: drop-shadow(0px 1px 2px rgba(0, 0, 0, 0.3));\n",
              "      fill: #FFFFFF;\n",
              "    }\n",
              "  </style>\n",
              "\n",
              "      <script>\n",
              "        const buttonEl =\n",
              "          document.querySelector('#df-24061e4f-039b-472c-8f3f-27b1f1c4ed93 button.colab-df-convert');\n",
              "        buttonEl.style.display =\n",
              "          google.colab.kernel.accessAllowed ? 'block' : 'none';\n",
              "\n",
              "        async function convertToInteractive(key) {\n",
              "          const element = document.querySelector('#df-24061e4f-039b-472c-8f3f-27b1f1c4ed93');\n",
              "          const dataTable =\n",
              "            await google.colab.kernel.invokeFunction('convertToInteractive',\n",
              "                                                     [key], {});\n",
              "          if (!dataTable) return;\n",
              "\n",
              "          const docLinkHtml = 'Like what you see? Visit the ' +\n",
              "            '<a target=\"_blank\" href=https://colab.research.google.com/notebooks/data_table.ipynb>data table notebook</a>'\n",
              "            + ' to learn more about interactive tables.';\n",
              "          element.innerHTML = '';\n",
              "          dataTable['output_type'] = 'display_data';\n",
              "          await google.colab.output.renderOutput(dataTable, element);\n",
              "          const docLink = document.createElement('div');\n",
              "          docLink.innerHTML = docLinkHtml;\n",
              "          element.appendChild(docLink);\n",
              "        }\n",
              "      </script>\n",
              "    </div>\n",
              "  </div>\n",
              "  "
            ]
          },
          "metadata": {},
          "execution_count": 37
        }
      ]
    },
    {
      "cell_type": "code",
      "source": [
        "X=df.drop(\"estimated_value\", axis=1)"
      ],
      "metadata": {
        "id": "p_VkopVvzuT5"
      },
      "execution_count": null,
      "outputs": []
    },
    {
      "cell_type": "code",
      "source": [
        "type(X)"
      ],
      "metadata": {
        "colab": {
          "base_uri": "https://localhost:8080/"
        },
        "id": "Ap3WflBnzuXL",
        "outputId": "11f49fd8-d6b5-436f-c54f-177234b468db"
      },
      "execution_count": null,
      "outputs": [
        {
          "output_type": "execute_result",
          "data": {
            "text/plain": [
              "pandas.core.frame.DataFrame"
            ]
          },
          "metadata": {},
          "execution_count": 39
        }
      ]
    },
    {
      "cell_type": "code",
      "source": [
        "X=X[[\"bedrooms\",\t\"bathrooms\",\t\"rooms\",\t\"squareFootage\",\t\"lotSize\",\t\"yearBuilt\",\"priorSaleAmount\"]]"
      ],
      "metadata": {
        "id": "HKFLYVhm0kb9"
      },
      "execution_count": null,
      "outputs": []
    },
    {
      "cell_type": "code",
      "source": [
        "X.fillna(0, inplace=True)"
      ],
      "metadata": {
        "id": "qOZkkGsL0mYh"
      },
      "execution_count": null,
      "outputs": []
    },
    {
      "cell_type": "code",
      "source": [
        "kmeans = KMeans(n_clusters=5, random_state=0).fit(X)"
      ],
      "metadata": {
        "id": "B3_5eCMpzujR"
      },
      "execution_count": null,
      "outputs": []
    },
    {
      "cell_type": "code",
      "source": [
        "kmeans"
      ],
      "metadata": {
        "colab": {
          "base_uri": "https://localhost:8080/"
        },
        "id": "7Jmacn6z2wwJ",
        "outputId": "099193d6-893a-49ba-f712-5e30002eab28"
      },
      "execution_count": null,
      "outputs": [
        {
          "output_type": "execute_result",
          "data": {
            "text/plain": [
              "KMeans(n_clusters=5, random_state=0)"
            ]
          },
          "metadata": {},
          "execution_count": 43
        }
      ]
    },
    {
      "cell_type": "code",
      "source": [
        "len(kmeans.labels_), X.shape\n"
      ],
      "metadata": {
        "colab": {
          "base_uri": "https://localhost:8080/"
        },
        "id": "ySOcd2BR2w0D",
        "outputId": "f84b2ff9-e955-45fd-8dd9-254d6be9201e"
      },
      "execution_count": null,
      "outputs": [
        {
          "output_type": "execute_result",
          "data": {
            "text/plain": [
              "(10080, (10080, 7))"
            ]
          },
          "metadata": {},
          "execution_count": 44
        }
      ]
    },
    {
      "cell_type": "code",
      "source": [
        "kmeans.cluster_centers_.shape"
      ],
      "metadata": {
        "colab": {
          "base_uri": "https://localhost:8080/"
        },
        "id": "Bmc18opx2w3h",
        "outputId": "0a9738b1-46e9-4855-dbd7-522c81ff8e74"
      },
      "execution_count": null,
      "outputs": [
        {
          "output_type": "execute_result",
          "data": {
            "text/plain": [
              "(5, 7)"
            ]
          },
          "metadata": {},
          "execution_count": 45
        }
      ]
    },
    {
      "cell_type": "code",
      "source": [
        "kmeans.cluster_centers_[0]"
      ],
      "metadata": {
        "colab": {
          "base_uri": "https://localhost:8080/"
        },
        "id": "1I9wBqTr4H-Y",
        "outputId": "df989868-a038-4a64-9d12-86b95a69b44a"
      },
      "execution_count": null,
      "outputs": [
        {
          "output_type": "execute_result",
          "data": {
            "text/plain": [
              "array([2.68841083e+00, 2.25503123e+00, 6.19882026e+00, 1.43586468e+03,\n",
              "       5.22312942e+03, 1.92162422e+03, 3.18644888e+05])"
            ]
          },
          "metadata": {},
          "execution_count": 46
        }
      ]
    },
    {
      "cell_type": "code",
      "source": [
        "labels=kmeans.labels_"
      ],
      "metadata": {
        "id": "g2v14vuC2w6h"
      },
      "execution_count": null,
      "outputs": []
    },
    {
      "cell_type": "code",
      "source": [
        "X[\"cluster\"]=labels"
      ],
      "metadata": {
        "id": "8jBCL6eH2w99"
      },
      "execution_count": null,
      "outputs": []
    },
    {
      "cell_type": "code",
      "source": [
        "X.head(10)"
      ],
      "metadata": {
        "colab": {
          "base_uri": "https://localhost:8080/",
          "height": 363
        },
        "id": "Wp1-of1V4-yk",
        "outputId": "d50d6ba3-591e-42b6-b8d7-e284c6d86bc5"
      },
      "execution_count": null,
      "outputs": [
        {
          "output_type": "execute_result",
          "data": {
            "text/plain": [
              "    bedrooms  bathrooms  rooms  squareFootage  lotSize  yearBuilt  \\\n",
              "0          3        2.0      6           1378     9968     2003.0   \n",
              "3          4        3.0      0           2400    11500     1956.0   \n",
              "4          3        4.0      8           2305     5600     1998.0   \n",
              "5          3        5.0      7           2051     6045     1996.0   \n",
              "6          4        4.0      8           2051     6315     1997.0   \n",
              "7          3        3.0      7           2051     8133     1997.0   \n",
              "8          3        3.0      7           1796     5038     1999.0   \n",
              "9          3        3.0      0           2054     4050     2007.0   \n",
              "10         3        4.0      7           2568     6397     2000.0   \n",
              "11         3        2.0      6           1290     9000     1962.0   \n",
              "\n",
              "    priorSaleAmount  cluster  \n",
              "0          165700.0        1  \n",
              "3               0.0        3  \n",
              "4               0.0        3  \n",
              "5          339000.0        0  \n",
              "6          345000.0        0  \n",
              "7          225200.0        1  \n",
              "8               0.0        3  \n",
              "9          312000.0        0  \n",
              "10         530000.0        4  \n",
              "11         171000.0        1  "
            ],
            "text/html": [
              "\n",
              "  <div id=\"df-8310c029-292d-4091-a8e0-932a89a1d08a\">\n",
              "    <div class=\"colab-df-container\">\n",
              "      <div>\n",
              "<style scoped>\n",
              "    .dataframe tbody tr th:only-of-type {\n",
              "        vertical-align: middle;\n",
              "    }\n",
              "\n",
              "    .dataframe tbody tr th {\n",
              "        vertical-align: top;\n",
              "    }\n",
              "\n",
              "    .dataframe thead th {\n",
              "        text-align: right;\n",
              "    }\n",
              "</style>\n",
              "<table border=\"1\" class=\"dataframe\">\n",
              "  <thead>\n",
              "    <tr style=\"text-align: right;\">\n",
              "      <th></th>\n",
              "      <th>bedrooms</th>\n",
              "      <th>bathrooms</th>\n",
              "      <th>rooms</th>\n",
              "      <th>squareFootage</th>\n",
              "      <th>lotSize</th>\n",
              "      <th>yearBuilt</th>\n",
              "      <th>priorSaleAmount</th>\n",
              "      <th>cluster</th>\n",
              "    </tr>\n",
              "  </thead>\n",
              "  <tbody>\n",
              "    <tr>\n",
              "      <th>0</th>\n",
              "      <td>3</td>\n",
              "      <td>2.0</td>\n",
              "      <td>6</td>\n",
              "      <td>1378</td>\n",
              "      <td>9968</td>\n",
              "      <td>2003.0</td>\n",
              "      <td>165700.0</td>\n",
              "      <td>1</td>\n",
              "    </tr>\n",
              "    <tr>\n",
              "      <th>3</th>\n",
              "      <td>4</td>\n",
              "      <td>3.0</td>\n",
              "      <td>0</td>\n",
              "      <td>2400</td>\n",
              "      <td>11500</td>\n",
              "      <td>1956.0</td>\n",
              "      <td>0.0</td>\n",
              "      <td>3</td>\n",
              "    </tr>\n",
              "    <tr>\n",
              "      <th>4</th>\n",
              "      <td>3</td>\n",
              "      <td>4.0</td>\n",
              "      <td>8</td>\n",
              "      <td>2305</td>\n",
              "      <td>5600</td>\n",
              "      <td>1998.0</td>\n",
              "      <td>0.0</td>\n",
              "      <td>3</td>\n",
              "    </tr>\n",
              "    <tr>\n",
              "      <th>5</th>\n",
              "      <td>3</td>\n",
              "      <td>5.0</td>\n",
              "      <td>7</td>\n",
              "      <td>2051</td>\n",
              "      <td>6045</td>\n",
              "      <td>1996.0</td>\n",
              "      <td>339000.0</td>\n",
              "      <td>0</td>\n",
              "    </tr>\n",
              "    <tr>\n",
              "      <th>6</th>\n",
              "      <td>4</td>\n",
              "      <td>4.0</td>\n",
              "      <td>8</td>\n",
              "      <td>2051</td>\n",
              "      <td>6315</td>\n",
              "      <td>1997.0</td>\n",
              "      <td>345000.0</td>\n",
              "      <td>0</td>\n",
              "    </tr>\n",
              "    <tr>\n",
              "      <th>7</th>\n",
              "      <td>3</td>\n",
              "      <td>3.0</td>\n",
              "      <td>7</td>\n",
              "      <td>2051</td>\n",
              "      <td>8133</td>\n",
              "      <td>1997.0</td>\n",
              "      <td>225200.0</td>\n",
              "      <td>1</td>\n",
              "    </tr>\n",
              "    <tr>\n",
              "      <th>8</th>\n",
              "      <td>3</td>\n",
              "      <td>3.0</td>\n",
              "      <td>7</td>\n",
              "      <td>1796</td>\n",
              "      <td>5038</td>\n",
              "      <td>1999.0</td>\n",
              "      <td>0.0</td>\n",
              "      <td>3</td>\n",
              "    </tr>\n",
              "    <tr>\n",
              "      <th>9</th>\n",
              "      <td>3</td>\n",
              "      <td>3.0</td>\n",
              "      <td>0</td>\n",
              "      <td>2054</td>\n",
              "      <td>4050</td>\n",
              "      <td>2007.0</td>\n",
              "      <td>312000.0</td>\n",
              "      <td>0</td>\n",
              "    </tr>\n",
              "    <tr>\n",
              "      <th>10</th>\n",
              "      <td>3</td>\n",
              "      <td>4.0</td>\n",
              "      <td>7</td>\n",
              "      <td>2568</td>\n",
              "      <td>6397</td>\n",
              "      <td>2000.0</td>\n",
              "      <td>530000.0</td>\n",
              "      <td>4</td>\n",
              "    </tr>\n",
              "    <tr>\n",
              "      <th>11</th>\n",
              "      <td>3</td>\n",
              "      <td>2.0</td>\n",
              "      <td>6</td>\n",
              "      <td>1290</td>\n",
              "      <td>9000</td>\n",
              "      <td>1962.0</td>\n",
              "      <td>171000.0</td>\n",
              "      <td>1</td>\n",
              "    </tr>\n",
              "  </tbody>\n",
              "</table>\n",
              "</div>\n",
              "      <button class=\"colab-df-convert\" onclick=\"convertToInteractive('df-8310c029-292d-4091-a8e0-932a89a1d08a')\"\n",
              "              title=\"Convert this dataframe to an interactive table.\"\n",
              "              style=\"display:none;\">\n",
              "        \n",
              "  <svg xmlns=\"http://www.w3.org/2000/svg\" height=\"24px\"viewBox=\"0 0 24 24\"\n",
              "       width=\"24px\">\n",
              "    <path d=\"M0 0h24v24H0V0z\" fill=\"none\"/>\n",
              "    <path d=\"M18.56 5.44l.94 2.06.94-2.06 2.06-.94-2.06-.94-.94-2.06-.94 2.06-2.06.94zm-11 1L8.5 8.5l.94-2.06 2.06-.94-2.06-.94L8.5 2.5l-.94 2.06-2.06.94zm10 10l.94 2.06.94-2.06 2.06-.94-2.06-.94-.94-2.06-.94 2.06-2.06.94z\"/><path d=\"M17.41 7.96l-1.37-1.37c-.4-.4-.92-.59-1.43-.59-.52 0-1.04.2-1.43.59L10.3 9.45l-7.72 7.72c-.78.78-.78 2.05 0 2.83L4 21.41c.39.39.9.59 1.41.59.51 0 1.02-.2 1.41-.59l7.78-7.78 2.81-2.81c.8-.78.8-2.07 0-2.86zM5.41 20L4 18.59l7.72-7.72 1.47 1.35L5.41 20z\"/>\n",
              "  </svg>\n",
              "      </button>\n",
              "      \n",
              "  <style>\n",
              "    .colab-df-container {\n",
              "      display:flex;\n",
              "      flex-wrap:wrap;\n",
              "      gap: 12px;\n",
              "    }\n",
              "\n",
              "    .colab-df-convert {\n",
              "      background-color: #E8F0FE;\n",
              "      border: none;\n",
              "      border-radius: 50%;\n",
              "      cursor: pointer;\n",
              "      display: none;\n",
              "      fill: #1967D2;\n",
              "      height: 32px;\n",
              "      padding: 0 0 0 0;\n",
              "      width: 32px;\n",
              "    }\n",
              "\n",
              "    .colab-df-convert:hover {\n",
              "      background-color: #E2EBFA;\n",
              "      box-shadow: 0px 1px 2px rgba(60, 64, 67, 0.3), 0px 1px 3px 1px rgba(60, 64, 67, 0.15);\n",
              "      fill: #174EA6;\n",
              "    }\n",
              "\n",
              "    [theme=dark] .colab-df-convert {\n",
              "      background-color: #3B4455;\n",
              "      fill: #D2E3FC;\n",
              "    }\n",
              "\n",
              "    [theme=dark] .colab-df-convert:hover {\n",
              "      background-color: #434B5C;\n",
              "      box-shadow: 0px 1px 3px 1px rgba(0, 0, 0, 0.15);\n",
              "      filter: drop-shadow(0px 1px 2px rgba(0, 0, 0, 0.3));\n",
              "      fill: #FFFFFF;\n",
              "    }\n",
              "  </style>\n",
              "\n",
              "      <script>\n",
              "        const buttonEl =\n",
              "          document.querySelector('#df-8310c029-292d-4091-a8e0-932a89a1d08a button.colab-df-convert');\n",
              "        buttonEl.style.display =\n",
              "          google.colab.kernel.accessAllowed ? 'block' : 'none';\n",
              "\n",
              "        async function convertToInteractive(key) {\n",
              "          const element = document.querySelector('#df-8310c029-292d-4091-a8e0-932a89a1d08a');\n",
              "          const dataTable =\n",
              "            await google.colab.kernel.invokeFunction('convertToInteractive',\n",
              "                                                     [key], {});\n",
              "          if (!dataTable) return;\n",
              "\n",
              "          const docLinkHtml = 'Like what you see? Visit the ' +\n",
              "            '<a target=\"_blank\" href=https://colab.research.google.com/notebooks/data_table.ipynb>data table notebook</a>'\n",
              "            + ' to learn more about interactive tables.';\n",
              "          element.innerHTML = '';\n",
              "          dataTable['output_type'] = 'display_data';\n",
              "          await google.colab.output.renderOutput(dataTable, element);\n",
              "          const docLink = document.createElement('div');\n",
              "          docLink.innerHTML = docLinkHtml;\n",
              "          element.appendChild(docLink);\n",
              "        }\n",
              "      </script>\n",
              "    </div>\n",
              "  </div>\n",
              "  "
            ]
          },
          "metadata": {},
          "execution_count": 49
        }
      ]
    },
    {
      "cell_type": "code",
      "source": [
        "X.groupby(\"cluster\").mean() #you can ggroup into min and max value as well"
      ],
      "metadata": {
        "colab": {
          "base_uri": "https://localhost:8080/",
          "height": 238
        },
        "id": "Kq-kdI5E4-10",
        "outputId": "4be6b3ec-497e-4df9-cf0c-0ef61940af45"
      },
      "execution_count": null,
      "outputs": [
        {
          "output_type": "execute_result",
          "data": {
            "text/plain": [
              "         bedrooms  bathrooms     rooms  squareFootage      lotSize  \\\n",
              "cluster                                                              \n",
              "0        2.688303   2.254773  6.198889    1435.787227  5223.770219   \n",
              "1        2.525862   1.807471  5.508098    1194.024033  5482.339864   \n",
              "2        2.857143   2.285714  6.571429    1823.142857  7136.285714   \n",
              "3        2.483845   1.665235  5.391002    1157.602045  5667.784458   \n",
              "4        2.862894   2.693145  6.907508    1726.477693  5454.149075   \n",
              "\n",
              "           yearBuilt  priorSaleAmount  \n",
              "cluster                                \n",
              "0        1921.596668     3.186697e+05  \n",
              "1        1929.542842     1.760458e+05  \n",
              "2        1928.142857     3.092914e+06  \n",
              "3        1930.377096     3.314521e+04  \n",
              "4        1920.873776     5.078862e+05  "
            ],
            "text/html": [
              "\n",
              "  <div id=\"df-6f98d73b-1c83-4ebb-944a-a0713c4e8fce\">\n",
              "    <div class=\"colab-df-container\">\n",
              "      <div>\n",
              "<style scoped>\n",
              "    .dataframe tbody tr th:only-of-type {\n",
              "        vertical-align: middle;\n",
              "    }\n",
              "\n",
              "    .dataframe tbody tr th {\n",
              "        vertical-align: top;\n",
              "    }\n",
              "\n",
              "    .dataframe thead th {\n",
              "        text-align: right;\n",
              "    }\n",
              "</style>\n",
              "<table border=\"1\" class=\"dataframe\">\n",
              "  <thead>\n",
              "    <tr style=\"text-align: right;\">\n",
              "      <th></th>\n",
              "      <th>bedrooms</th>\n",
              "      <th>bathrooms</th>\n",
              "      <th>rooms</th>\n",
              "      <th>squareFootage</th>\n",
              "      <th>lotSize</th>\n",
              "      <th>yearBuilt</th>\n",
              "      <th>priorSaleAmount</th>\n",
              "    </tr>\n",
              "    <tr>\n",
              "      <th>cluster</th>\n",
              "      <th></th>\n",
              "      <th></th>\n",
              "      <th></th>\n",
              "      <th></th>\n",
              "      <th></th>\n",
              "      <th></th>\n",
              "      <th></th>\n",
              "    </tr>\n",
              "  </thead>\n",
              "  <tbody>\n",
              "    <tr>\n",
              "      <th>0</th>\n",
              "      <td>2.688303</td>\n",
              "      <td>2.254773</td>\n",
              "      <td>6.198889</td>\n",
              "      <td>1435.787227</td>\n",
              "      <td>5223.770219</td>\n",
              "      <td>1921.596668</td>\n",
              "      <td>3.186697e+05</td>\n",
              "    </tr>\n",
              "    <tr>\n",
              "      <th>1</th>\n",
              "      <td>2.525862</td>\n",
              "      <td>1.807471</td>\n",
              "      <td>5.508098</td>\n",
              "      <td>1194.024033</td>\n",
              "      <td>5482.339864</td>\n",
              "      <td>1929.542842</td>\n",
              "      <td>1.760458e+05</td>\n",
              "    </tr>\n",
              "    <tr>\n",
              "      <th>2</th>\n",
              "      <td>2.857143</td>\n",
              "      <td>2.285714</td>\n",
              "      <td>6.571429</td>\n",
              "      <td>1823.142857</td>\n",
              "      <td>7136.285714</td>\n",
              "      <td>1928.142857</td>\n",
              "      <td>3.092914e+06</td>\n",
              "    </tr>\n",
              "    <tr>\n",
              "      <th>3</th>\n",
              "      <td>2.483845</td>\n",
              "      <td>1.665235</td>\n",
              "      <td>5.391002</td>\n",
              "      <td>1157.602045</td>\n",
              "      <td>5667.784458</td>\n",
              "      <td>1930.377096</td>\n",
              "      <td>3.314521e+04</td>\n",
              "    </tr>\n",
              "    <tr>\n",
              "      <th>4</th>\n",
              "      <td>2.862894</td>\n",
              "      <td>2.693145</td>\n",
              "      <td>6.907508</td>\n",
              "      <td>1726.477693</td>\n",
              "      <td>5454.149075</td>\n",
              "      <td>1920.873776</td>\n",
              "      <td>5.078862e+05</td>\n",
              "    </tr>\n",
              "  </tbody>\n",
              "</table>\n",
              "</div>\n",
              "      <button class=\"colab-df-convert\" onclick=\"convertToInteractive('df-6f98d73b-1c83-4ebb-944a-a0713c4e8fce')\"\n",
              "              title=\"Convert this dataframe to an interactive table.\"\n",
              "              style=\"display:none;\">\n",
              "        \n",
              "  <svg xmlns=\"http://www.w3.org/2000/svg\" height=\"24px\"viewBox=\"0 0 24 24\"\n",
              "       width=\"24px\">\n",
              "    <path d=\"M0 0h24v24H0V0z\" fill=\"none\"/>\n",
              "    <path d=\"M18.56 5.44l.94 2.06.94-2.06 2.06-.94-2.06-.94-.94-2.06-.94 2.06-2.06.94zm-11 1L8.5 8.5l.94-2.06 2.06-.94-2.06-.94L8.5 2.5l-.94 2.06-2.06.94zm10 10l.94 2.06.94-2.06 2.06-.94-2.06-.94-.94-2.06-.94 2.06-2.06.94z\"/><path d=\"M17.41 7.96l-1.37-1.37c-.4-.4-.92-.59-1.43-.59-.52 0-1.04.2-1.43.59L10.3 9.45l-7.72 7.72c-.78.78-.78 2.05 0 2.83L4 21.41c.39.39.9.59 1.41.59.51 0 1.02-.2 1.41-.59l7.78-7.78 2.81-2.81c.8-.78.8-2.07 0-2.86zM5.41 20L4 18.59l7.72-7.72 1.47 1.35L5.41 20z\"/>\n",
              "  </svg>\n",
              "      </button>\n",
              "      \n",
              "  <style>\n",
              "    .colab-df-container {\n",
              "      display:flex;\n",
              "      flex-wrap:wrap;\n",
              "      gap: 12px;\n",
              "    }\n",
              "\n",
              "    .colab-df-convert {\n",
              "      background-color: #E8F0FE;\n",
              "      border: none;\n",
              "      border-radius: 50%;\n",
              "      cursor: pointer;\n",
              "      display: none;\n",
              "      fill: #1967D2;\n",
              "      height: 32px;\n",
              "      padding: 0 0 0 0;\n",
              "      width: 32px;\n",
              "    }\n",
              "\n",
              "    .colab-df-convert:hover {\n",
              "      background-color: #E2EBFA;\n",
              "      box-shadow: 0px 1px 2px rgba(60, 64, 67, 0.3), 0px 1px 3px 1px rgba(60, 64, 67, 0.15);\n",
              "      fill: #174EA6;\n",
              "    }\n",
              "\n",
              "    [theme=dark] .colab-df-convert {\n",
              "      background-color: #3B4455;\n",
              "      fill: #D2E3FC;\n",
              "    }\n",
              "\n",
              "    [theme=dark] .colab-df-convert:hover {\n",
              "      background-color: #434B5C;\n",
              "      box-shadow: 0px 1px 3px 1px rgba(0, 0, 0, 0.15);\n",
              "      filter: drop-shadow(0px 1px 2px rgba(0, 0, 0, 0.3));\n",
              "      fill: #FFFFFF;\n",
              "    }\n",
              "  </style>\n",
              "\n",
              "      <script>\n",
              "        const buttonEl =\n",
              "          document.querySelector('#df-6f98d73b-1c83-4ebb-944a-a0713c4e8fce button.colab-df-convert');\n",
              "        buttonEl.style.display =\n",
              "          google.colab.kernel.accessAllowed ? 'block' : 'none';\n",
              "\n",
              "        async function convertToInteractive(key) {\n",
              "          const element = document.querySelector('#df-6f98d73b-1c83-4ebb-944a-a0713c4e8fce');\n",
              "          const dataTable =\n",
              "            await google.colab.kernel.invokeFunction('convertToInteractive',\n",
              "                                                     [key], {});\n",
              "          if (!dataTable) return;\n",
              "\n",
              "          const docLinkHtml = 'Like what you see? Visit the ' +\n",
              "            '<a target=\"_blank\" href=https://colab.research.google.com/notebooks/data_table.ipynb>data table notebook</a>'\n",
              "            + ' to learn more about interactive tables.';\n",
              "          element.innerHTML = '';\n",
              "          dataTable['output_type'] = 'display_data';\n",
              "          await google.colab.output.renderOutput(dataTable, element);\n",
              "          const docLink = document.createElement('div');\n",
              "          docLink.innerHTML = docLinkHtml;\n",
              "          element.appendChild(docLink);\n",
              "        }\n",
              "      </script>\n",
              "    </div>\n",
              "  </div>\n",
              "  "
            ]
          },
          "metadata": {},
          "execution_count": 50
        }
      ]
    },
    {
      "cell_type": "code",
      "source": [
        "from sklearn.metrics import silhouette_score"
      ],
      "metadata": {
        "id": "5bCLj09O6fc8"
      },
      "execution_count": null,
      "outputs": []
    },
    {
      "cell_type": "code",
      "source": [
        "for i in range (3, 10):\n",
        "  kmeans=KMeans(n_clusters=i).fit(X)\n",
        "  labels = kmeans.labels_\n",
        "  print (silhouette_score(X, labels ))\n",
        "  #print kmeans.cluster_centers_\n"
      ],
      "metadata": {
        "colab": {
          "base_uri": "https://localhost:8080/"
        },
        "id": "QC8apPKy4-4k",
        "outputId": "65552cb7-1e17-4297-805a-56d65c3a6894"
      },
      "execution_count": null,
      "outputs": [
        {
          "output_type": "stream",
          "name": "stdout",
          "text": [
            "0.5680313250174545\n",
            "0.5426677422424114\n",
            "0.5618215855619032\n",
            "0.556009106238137\n",
            "0.5626615775348713\n",
            "0.566456042791487\n",
            "0.564671762774389\n"
          ]
        }
      ]
    },
    {
      "cell_type": "markdown",
      "source": [
        "#classification and regression"
      ],
      "metadata": {
        "id": "7RsJGx-07-5m"
      }
    },
    {
      "cell_type": "code",
      "source": [
        "from sklearn.linear_model import LinearRegression, LogisticRegression\n",
        "from sklearn.svm import SVC, SVR\n",
        "from sklearn.neighbors import KNeighborsClassifier, KNeighborsRegressor\n",
        "from sklearn.model_selection import train_test_split\n",
        "from sklearn.metrics import confusion_matrix"
      ],
      "metadata": {
        "id": "H5067suA4-63"
      },
      "execution_count": null,
      "outputs": []
    },
    {
      "cell_type": "code",
      "source": [
        "X.head(2)"
      ],
      "metadata": {
        "colab": {
          "base_uri": "https://localhost:8080/",
          "height": 112
        },
        "id": "S2gXvOLV4-8m",
        "outputId": "bb79d863-4f3f-4267-ce84-7e62510e7309"
      },
      "execution_count": null,
      "outputs": [
        {
          "output_type": "execute_result",
          "data": {
            "text/plain": [
              "   bedrooms  bathrooms  rooms  squareFootage  lotSize  yearBuilt  \\\n",
              "0         3        2.0      6           1378     9968     2003.0   \n",
              "3         4        3.0      0           2400    11500     1956.0   \n",
              "\n",
              "   priorSaleAmount  cluster  \n",
              "0         165700.0        1  \n",
              "3              0.0        3  "
            ],
            "text/html": [
              "\n",
              "  <div id=\"df-47c42103-e6c1-40b6-9f78-f43d9f36e11d\">\n",
              "    <div class=\"colab-df-container\">\n",
              "      <div>\n",
              "<style scoped>\n",
              "    .dataframe tbody tr th:only-of-type {\n",
              "        vertical-align: middle;\n",
              "    }\n",
              "\n",
              "    .dataframe tbody tr th {\n",
              "        vertical-align: top;\n",
              "    }\n",
              "\n",
              "    .dataframe thead th {\n",
              "        text-align: right;\n",
              "    }\n",
              "</style>\n",
              "<table border=\"1\" class=\"dataframe\">\n",
              "  <thead>\n",
              "    <tr style=\"text-align: right;\">\n",
              "      <th></th>\n",
              "      <th>bedrooms</th>\n",
              "      <th>bathrooms</th>\n",
              "      <th>rooms</th>\n",
              "      <th>squareFootage</th>\n",
              "      <th>lotSize</th>\n",
              "      <th>yearBuilt</th>\n",
              "      <th>priorSaleAmount</th>\n",
              "      <th>cluster</th>\n",
              "    </tr>\n",
              "  </thead>\n",
              "  <tbody>\n",
              "    <tr>\n",
              "      <th>0</th>\n",
              "      <td>3</td>\n",
              "      <td>2.0</td>\n",
              "      <td>6</td>\n",
              "      <td>1378</td>\n",
              "      <td>9968</td>\n",
              "      <td>2003.0</td>\n",
              "      <td>165700.0</td>\n",
              "      <td>1</td>\n",
              "    </tr>\n",
              "    <tr>\n",
              "      <th>3</th>\n",
              "      <td>4</td>\n",
              "      <td>3.0</td>\n",
              "      <td>0</td>\n",
              "      <td>2400</td>\n",
              "      <td>11500</td>\n",
              "      <td>1956.0</td>\n",
              "      <td>0.0</td>\n",
              "      <td>3</td>\n",
              "    </tr>\n",
              "  </tbody>\n",
              "</table>\n",
              "</div>\n",
              "      <button class=\"colab-df-convert\" onclick=\"convertToInteractive('df-47c42103-e6c1-40b6-9f78-f43d9f36e11d')\"\n",
              "              title=\"Convert this dataframe to an interactive table.\"\n",
              "              style=\"display:none;\">\n",
              "        \n",
              "  <svg xmlns=\"http://www.w3.org/2000/svg\" height=\"24px\"viewBox=\"0 0 24 24\"\n",
              "       width=\"24px\">\n",
              "    <path d=\"M0 0h24v24H0V0z\" fill=\"none\"/>\n",
              "    <path d=\"M18.56 5.44l.94 2.06.94-2.06 2.06-.94-2.06-.94-.94-2.06-.94 2.06-2.06.94zm-11 1L8.5 8.5l.94-2.06 2.06-.94-2.06-.94L8.5 2.5l-.94 2.06-2.06.94zm10 10l.94 2.06.94-2.06 2.06-.94-2.06-.94-.94-2.06-.94 2.06-2.06.94z\"/><path d=\"M17.41 7.96l-1.37-1.37c-.4-.4-.92-.59-1.43-.59-.52 0-1.04.2-1.43.59L10.3 9.45l-7.72 7.72c-.78.78-.78 2.05 0 2.83L4 21.41c.39.39.9.59 1.41.59.51 0 1.02-.2 1.41-.59l7.78-7.78 2.81-2.81c.8-.78.8-2.07 0-2.86zM5.41 20L4 18.59l7.72-7.72 1.47 1.35L5.41 20z\"/>\n",
              "  </svg>\n",
              "      </button>\n",
              "      \n",
              "  <style>\n",
              "    .colab-df-container {\n",
              "      display:flex;\n",
              "      flex-wrap:wrap;\n",
              "      gap: 12px;\n",
              "    }\n",
              "\n",
              "    .colab-df-convert {\n",
              "      background-color: #E8F0FE;\n",
              "      border: none;\n",
              "      border-radius: 50%;\n",
              "      cursor: pointer;\n",
              "      display: none;\n",
              "      fill: #1967D2;\n",
              "      height: 32px;\n",
              "      padding: 0 0 0 0;\n",
              "      width: 32px;\n",
              "    }\n",
              "\n",
              "    .colab-df-convert:hover {\n",
              "      background-color: #E2EBFA;\n",
              "      box-shadow: 0px 1px 2px rgba(60, 64, 67, 0.3), 0px 1px 3px 1px rgba(60, 64, 67, 0.15);\n",
              "      fill: #174EA6;\n",
              "    }\n",
              "\n",
              "    [theme=dark] .colab-df-convert {\n",
              "      background-color: #3B4455;\n",
              "      fill: #D2E3FC;\n",
              "    }\n",
              "\n",
              "    [theme=dark] .colab-df-convert:hover {\n",
              "      background-color: #434B5C;\n",
              "      box-shadow: 0px 1px 3px 1px rgba(0, 0, 0, 0.15);\n",
              "      filter: drop-shadow(0px 1px 2px rgba(0, 0, 0, 0.3));\n",
              "      fill: #FFFFFF;\n",
              "    }\n",
              "  </style>\n",
              "\n",
              "      <script>\n",
              "        const buttonEl =\n",
              "          document.querySelector('#df-47c42103-e6c1-40b6-9f78-f43d9f36e11d button.colab-df-convert');\n",
              "        buttonEl.style.display =\n",
              "          google.colab.kernel.accessAllowed ? 'block' : 'none';\n",
              "\n",
              "        async function convertToInteractive(key) {\n",
              "          const element = document.querySelector('#df-47c42103-e6c1-40b6-9f78-f43d9f36e11d');\n",
              "          const dataTable =\n",
              "            await google.colab.kernel.invokeFunction('convertToInteractive',\n",
              "                                                     [key], {});\n",
              "          if (!dataTable) return;\n",
              "\n",
              "          const docLinkHtml = 'Like what you see? Visit the ' +\n",
              "            '<a target=\"_blank\" href=https://colab.research.google.com/notebooks/data_table.ipynb>data table notebook</a>'\n",
              "            + ' to learn more about interactive tables.';\n",
              "          element.innerHTML = '';\n",
              "          dataTable['output_type'] = 'display_data';\n",
              "          await google.colab.output.renderOutput(dataTable, element);\n",
              "          const docLink = document.createElement('div');\n",
              "          docLink.innerHTML = docLinkHtml;\n",
              "          element.appendChild(docLink);\n",
              "        }\n",
              "      </script>\n",
              "    </div>\n",
              "  </div>\n",
              "  "
            ]
          },
          "metadata": {},
          "execution_count": 54
        }
      ]
    },
    {
      "cell_type": "code",
      "source": [
        "y=df.estimated_value"
      ],
      "metadata": {
        "id": "6PwDwBgt4-_W"
      },
      "execution_count": null,
      "outputs": []
    },
    {
      "cell_type": "code",
      "source": [
        "y  #Numerical value"
      ],
      "metadata": {
        "colab": {
          "base_uri": "https://localhost:8080/"
        },
        "id": "OisLx6Q99BrL",
        "outputId": "fae31699-e105-48d7-fdf1-248d8e43eae2"
      },
      "execution_count": null,
      "outputs": [
        {
          "output_type": "execute_result",
          "data": {
            "text/plain": [
              "0        239753\n",
              "3        494073\n",
              "4        513676\n",
              "5        496062\n",
              "6        514953\n",
              "          ...  \n",
              "14989    629031\n",
              "14990    638952\n",
              "14993    694981\n",
              "14994    784955\n",
              "14996    807306\n",
              "Name: estimated_value, Length: 10080, dtype: int64"
            ]
          },
          "metadata": {},
          "execution_count": 71
        }
      ]
    },
    {
      "cell_type": "code",
      "source": [
        "lg = LinearRegression()\n",
        "lg.fit(X,y)\n",
        "lg.score(X,y)"
      ],
      "metadata": {
        "colab": {
          "base_uri": "https://localhost:8080/"
        },
        "id": "Bjn8kF-NC0-d",
        "outputId": "f577eec9-1bd2-448e-db79-d9fef1490293"
      },
      "execution_count": null,
      "outputs": [
        {
          "output_type": "execute_result",
          "data": {
            "text/plain": [
              "0.6822476648431439"
            ]
          },
          "metadata": {},
          "execution_count": 72
        }
      ]
    },
    {
      "cell_type": "code",
      "source": [
        "X_train, X_test, y_train, y_test=train_test_split(X,y)\n"
      ],
      "metadata": {
        "id": "2NPIOahfDhnt"
      },
      "execution_count": null,
      "outputs": []
    },
    {
      "cell_type": "code",
      "source": [
        "X_train.shape, y_train.shape"
      ],
      "metadata": {
        "colab": {
          "base_uri": "https://localhost:8080/"
        },
        "id": "cfl6DlnbDh0L",
        "outputId": "f7bf1a5b-a51b-45ee-fce0-689a80ee3233"
      },
      "execution_count": null,
      "outputs": [
        {
          "output_type": "execute_result",
          "data": {
            "text/plain": [
              "((7560, 8), (7560,))"
            ]
          },
          "metadata": {},
          "execution_count": 59
        }
      ]
    },
    {
      "cell_type": "code",
      "source": [
        "lg = LinearRegression()\n",
        "lg.fit(X_train,y_train)\n",
        "lg.score(X_test,y_test)"
      ],
      "metadata": {
        "colab": {
          "base_uri": "https://localhost:8080/"
        },
        "id": "RBIsttd4D8tH",
        "outputId": "f54ce091-9976-47ce-b266-6291c75eaaba"
      },
      "execution_count": null,
      "outputs": [
        {
          "output_type": "execute_result",
          "data": {
            "text/plain": [
              "0.6193201375602297"
            ]
          },
          "metadata": {},
          "execution_count": 60
        }
      ]
    },
    {
      "cell_type": "code",
      "source": [
        "df[\"estimated_value_bins\"]=df.estimated_value.apply(lambda x: \"high\" if x>500000 else \"low\")"
      ],
      "metadata": {
        "id": "tEBLK9RQM6mc"
      },
      "execution_count": null,
      "outputs": []
    },
    {
      "cell_type": "code",
      "source": [
        "df.estimated_value_bins.value_counts()"
      ],
      "metadata": {
        "colab": {
          "base_uri": "https://localhost:8080/"
        },
        "id": "xyrFocw-D83f",
        "outputId": "e90b8ef3-cb89-4e0f-f71d-a6c14a884781"
      },
      "execution_count": null,
      "outputs": [
        {
          "output_type": "execute_result",
          "data": {
            "text/plain": [
              "low     5216\n",
              "high    4864\n",
              "Name: estimated_value_bins, dtype: int64"
            ]
          },
          "metadata": {},
          "execution_count": 80
        }
      ]
    },
    {
      "cell_type": "code",
      "source": [
        "df.estimated_value_bins.hist()"
      ],
      "metadata": {
        "colab": {
          "base_uri": "https://localhost:8080/",
          "height": 282
        },
        "id": "NNoIjdGp5B07",
        "outputId": "a9327342-5ef5-47cf-e2c5-78010e06c8be"
      },
      "execution_count": null,
      "outputs": [
        {
          "output_type": "execute_result",
          "data": {
            "text/plain": [
              "<matplotlib.axes._subplots.AxesSubplot at 0x7f7f40080990>"
            ]
          },
          "metadata": {},
          "execution_count": 81
        },
        {
          "output_type": "display_data",
          "data": {
            "text/plain": [
              "<Figure size 432x288 with 1 Axes>"
            ],
            "image/png": "[encoded data removed]"
          },
          "metadata": {
            "needs_background": "light"
          }
        }
      ]
    },
    {
      "cell_type": "code",
      "source": [
        "y2=df.estimated_value_bins"
      ],
      "metadata": {
        "id": "uNCxJvx_5B7D"
      },
      "execution_count": null,
      "outputs": []
    },
    {
      "cell_type": "code",
      "source": [
        "log=LogisticRegression()\n",
        "X_train, X_test, y2_train, y2_test= train_test_split(X,y2)\n",
        "log.fit(X_train, y2_train)\n",
        "log.score(X_test, y2_test)"
      ],
      "metadata": {
        "colab": {
          "base_uri": "https://localhost:8080/"
        },
        "id": "atkJ5Ecw5qcD",
        "outputId": "8334fb99-10b6-4005-a11d-6cc27dc5e16e"
      },
      "execution_count": null,
      "outputs": [
        {
          "output_type": "execute_result",
          "data": {
            "text/plain": [
              "0.8337301587301588"
            ]
          },
          "metadata": {},
          "execution_count": 87
        }
      ]
    },
    {
      "cell_type": "code",
      "source": [
        "y_pred=log.predict(X_test)"
      ],
      "metadata": {
        "id": "JEflWT-p7OLN"
      },
      "execution_count": null,
      "outputs": []
    },
    {
      "cell_type": "code",
      "source": [
        "np.array(y2_test)"
      ],
      "metadata": {
        "colab": {
          "base_uri": "https://localhost:8080/"
        },
        "id": "HAZVVP4k7epl",
        "outputId": "8dd38fbb-2461-4967-ac35-5c389bcc81fd"
      },
      "execution_count": null,
      "outputs": [
        {
          "output_type": "execute_result",
          "data": {
            "text/plain": [
              "array(['low', 'low', 'low', ..., 'low', 'low', 'low'], dtype=object)"
            ]
          },
          "metadata": {},
          "execution_count": 91
        }
      ]
    },
    {
      "cell_type": "code",
      "source": [
        "confusion_matrix(y2_test, y_pred)"
      ],
      "metadata": {
        "colab": {
          "base_uri": "https://localhost:8080/"
        },
        "id": "9UOetP9Q79Ui",
        "outputId": "238e927d-80c7-4868-fffe-5c63a2673fdc"
      },
      "execution_count": null,
      "outputs": [
        {
          "output_type": "execute_result",
          "data": {
            "text/plain": [
              "array([[ 972,  229],\n",
              "       [ 190, 1129]])"
            ]
          },
          "metadata": {},
          "execution_count": 95
        }
      ]
    },
    {
      "cell_type": "markdown",
      "source": [],
      "metadata": {
        "id": "hWI5MwfKzbCu"
      }
    },
    {
      "cell_type": "markdown",
      "source": [
        "#Support Vector Machine"
      ],
      "metadata": {
        "id": "s3s-V1AVMzTu"
      }
    },
    {
      "cell_type": "code",
      "source": [
        "svr = SVR()\n",
        "svr.fit(X_train, y_train)\n",
        "svr.score(X_test, y_test )"
      ],
      "metadata": {
        "colab": {
          "base_uri": "https://localhost:8080/"
        },
        "id": "4qvZOkkVzZRz",
        "outputId": "34362690-f93b-4cf0-f648-45d81fad9e3c"
      },
      "execution_count": null,
      "outputs": [
        {
          "output_type": "execute_result",
          "data": {
            "text/plain": [
              "-0.04404206621346418"
            ]
          },
          "metadata": {},
          "execution_count": 69
        }
      ]
    },
    {
      "cell_type": "code",
      "source": [
        "svc = SVC()\n",
        "svc.fit(X_train, y2_train)\n",
        "svc.score(X_test, y2_test)"
      ],
      "metadata": {
        "colab": {
          "base_uri": "https://localhost:8080/"
        },
        "id": "IiLCrSF4z6Ck",
        "outputId": "98d36efe-7a14-4b14-ac3d-f1cee75f3882"
      },
      "execution_count": null,
      "outputs": [
        {
          "output_type": "execute_result",
          "data": {
            "text/plain": [
              "0.7912698412698412"
            ]
          },
          "metadata": {},
          "execution_count": 96
        }
      ]
    },
    {
      "cell_type": "code",
      "source": [
        "y2_pred=svc.predict(X_test)"
      ],
      "metadata": {
        "id": "a6hH2a6B8pS6"
      },
      "execution_count": null,
      "outputs": []
    },
    {
      "cell_type": "code",
      "source": [
        "confusion_matrix(y2_test, y2_pred)"
      ],
      "metadata": {
        "colab": {
          "base_uri": "https://localhost:8080/"
        },
        "id": "uhQftyyWz6FY",
        "outputId": "8a0c8fa6-ebe0-4779-b7cf-30e7de1aa05d"
      },
      "execution_count": null,
      "outputs": [
        {
          "output_type": "execute_result",
          "data": {
            "text/plain": [
              "array([[ 832,  369],\n",
              "       [ 157, 1162]])"
            ]
          },
          "metadata": {},
          "execution_count": 98
        }
      ]
    },
    {
      "cell_type": "code",
      "source": [
        "knnr=KNeighborsRegressor()\n",
        "knnr.fit(X_train, y_train)\n",
        "knnr.score(X_test,y_test)"
      ],
      "metadata": {
        "colab": {
          "base_uri": "https://localhost:8080/"
        },
        "id": "FWgSM2FNz6II",
        "outputId": "4e9c2c62-c13a-43ab-8eba-19776969d812"
      },
      "execution_count": null,
      "outputs": [
        {
          "output_type": "execute_result",
          "data": {
            "text/plain": [
              "-0.15941647722057484"
            ]
          },
          "metadata": {},
          "execution_count": 101
        }
      ]
    },
    {
      "cell_type": "code",
      "source": [
        "knnc=KNeighborsClassifier()\n",
        "knnc.fit(X_train, y2_train)\n",
        "knnc.score(X_train, y2_train)"
      ],
      "metadata": {
        "colab": {
          "base_uri": "https://localhost:8080/"
        },
        "id": "1LDWi0jRz6Kh",
        "outputId": "13a80587-a62e-41d1-ce37-5dbf06d9c97a"
      },
      "execution_count": null,
      "outputs": [
        {
          "output_type": "execute_result",
          "data": {
            "text/plain": [
              "0.862037037037037"
            ]
          },
          "metadata": {},
          "execution_count": 103
        }
      ]
    },
    {
      "cell_type": "code",
      "source": [
        "y2_pred=knnc.predict(X_test)\n",
        "confusion_matrix(y2_test,y2_pred)"
      ],
      "metadata": {
        "colab": {
          "base_uri": "https://localhost:8080/"
        },
        "id": "ksN1dCXSz6NE",
        "outputId": "7552b9f6-554f-4239-8c5a-904c07c7250a"
      },
      "execution_count": null,
      "outputs": [
        {
          "output_type": "execute_result",
          "data": {
            "text/plain": [
              "array([[ 931,  270],\n",
              "       [ 194, 1125]])"
            ]
          },
          "metadata": {},
          "execution_count": 104
        }
      ]
    },
    {
      "cell_type": "markdown",
      "source": [
        "#Association, Correlation and Covariance"
      ],
      "metadata": {
        "id": "SW_MRcO9_TgD"
      }
    },
    {
      "cell_type": "code",
      "source": [
        "sns.heatmap(df.corr())"
      ],
      "metadata": {
        "colab": {
          "base_uri": "https://localhost:8080/",
          "height": 400
        },
        "id": "4W_nzVxI_cTR",
        "outputId": "ea52c8dc-f3a4-41a7-b1de-85cd3eb121fe"
      },
      "execution_count": null,
      "outputs": [
        {
          "output_type": "execute_result",
          "data": {
            "text/plain": [
              "<matplotlib.axes._subplots.AxesSubplot at 0x7f7f3fa53090>"
            ]
          },
          "metadata": {},
          "execution_count": 106
        },
        {
          "output_type": "display_data",
          "data": {
            "text/plain": [
              "<Figure size 432x288 with 2 Axes>"
            ],
            "image/png": "[encoded data removed]"
          },
          "metadata": {
            "needs_background": "light"
          }
        }
      ]
    },
    {
      "cell_type": "code",
      "source": [
        "df.cov()"
      ],
      "metadata": {
        "colab": {
          "base_uri": "https://localhost:8080/",
          "height": 646
        },
        "id": "4T-D_Et0_cco",
        "outputId": "442d42f4-5868-4e0b-996a-fcf9e8683e56"
      },
      "execution_count": null,
      "outputs": [
        {
          "output_type": "execute_result",
          "data": {
            "text/plain": [
              "                                   id       zipcode      latitude  \\\n",
              "id                       3.021548e+15 -5.617630e+06 -60992.895138   \n",
              "zipcode                 -5.617630e+06  9.057292e+01      0.113617   \n",
              "latitude                -6.099290e+04  1.136174e-01      0.000516   \n",
              "longitude                1.099351e+05  1.532964e-01      0.000512   \n",
              "bedrooms                 1.738008e+06 -3.500165e-01     -0.000315   \n",
              "bathrooms                5.087272e+06 -6.408459e-01     -0.001882   \n",
              "rooms                    4.590194e+06 -4.969467e-02     -0.004326   \n",
              "squareFootage            2.617412e+09 -4.003407e+02     -1.516513   \n",
              "lotSize                 -1.751765e+09 -1.205270e+03      1.041180   \n",
              "yearBuilt               -8.486537e+06 -5.841399e+01     -0.005666   \n",
              "lastSaleAmount           2.212316e+12  1.031264e+05   -801.542955   \n",
              "priorSaleAmount          1.325445e+11  1.703101e+04   -782.699168   \n",
              "estimated_value          1.377924e+12  1.689981e+05   -729.799293   \n",
              "week_daylastSaleDate    -1.855648e+05 -4.844325e-02     -0.000390   \n",
              "year_priorSaleDate      -1.425652e+07  1.941176e+00      0.016949   \n",
              "year_lastSaleDate        5.356827e+07  1.231320e+00      0.004860   \n",
              "year_between_last_sales  6.782480e+07 -7.098558e-01     -0.012089   \n",
              "\n",
              "                             longitude      bedrooms     bathrooms  \\\n",
              "id                       109935.115766  1.738008e+06  5.087272e+06   \n",
              "zipcode                       0.153296 -3.500165e-01 -6.408459e-01   \n",
              "latitude                      0.000512 -3.152241e-04 -1.882492e-03   \n",
              "longitude                     0.001693 -1.185904e-05  3.417943e-03   \n",
              "bedrooms                     -0.000012  6.225532e-01  2.777788e-01   \n",
              "bathrooms                     0.003418  2.777788e-01  7.136567e-01   \n",
              "rooms                        -0.000693  8.094039e-01  7.051291e-01   \n",
              "squareFootage                 0.554515  2.483063e+02  2.713057e+02   \n",
              "lotSize                       7.432522 -2.082256e+01 -1.918931e+01   \n",
              "yearBuilt                     0.078589 -2.796548e+00 -3.176804e-01   \n",
              "lastSaleAmount             1018.851260  2.700257e+04  6.897107e+04   \n",
              "priorSaleAmount            1057.428405  1.809632e+04  4.828790e+04   \n",
              "estimated_value            1560.273672  4.563106e+04  8.902006e+04   \n",
              "week_daylastSaleDate         -0.000397  5.972539e-03 -4.094095e-03   \n",
              "year_priorSaleDate            0.010940 -1.000298e-01  3.042925e-01   \n",
              "year_lastSaleDate             0.007219 -4.507157e-02  2.655217e-01   \n",
              "year_between_last_sales      -0.003721  5.495819e-02 -3.877077e-02   \n",
              "\n",
              "                                rooms  squareFootage       lotSize  \\\n",
              "id                       4.590194e+06   2.617412e+09 -1.751765e+09   \n",
              "zipcode                 -4.969467e-02  -4.003407e+02 -1.205270e+03   \n",
              "latitude                -4.325545e-03  -1.516513e+00  1.041180e+00   \n",
              "longitude               -6.927081e-04   5.545145e-01  7.432522e+00   \n",
              "bedrooms                 8.094039e-01   2.483063e+02 -2.082256e+01   \n",
              "bathrooms                7.051291e-01   2.713057e+02 -1.918931e+01   \n",
              "rooms                    2.298591e+00   5.360090e+02 -3.011851e+02   \n",
              "squareFootage            5.360090e+02   2.330747e+05 -3.741579e+04   \n",
              "lotSize                 -3.011851e+02  -3.741579e+04  2.860322e+06   \n",
              "yearBuilt               -1.036196e+01  -2.483134e+03  2.109140e+04   \n",
              "lastSaleAmount           1.045593e+05   3.982398e+07 -2.213973e+07   \n",
              "priorSaleAmount          7.112842e+04   2.681910e+07 -1.328492e+07   \n",
              "estimated_value          1.423335e+05   5.386340e+07 -1.982732e+07   \n",
              "week_daylastSaleDate     4.362416e-02   1.492542e+00  1.723732e+01   \n",
              "year_priorSaleDate      -7.428982e-01  -2.336767e+02  3.375897e+02   \n",
              "year_lastSaleDate       -2.407733e-01  -1.074777e+01 -5.211421e+01   \n",
              "year_between_last_sales  5.021249e-01   2.229289e+02 -3.897039e+02   \n",
              "\n",
              "                            yearBuilt  lastSaleAmount  priorSaleAmount  \\\n",
              "id                      -8.486537e+06    2.212316e+12     1.325445e+11   \n",
              "zipcode                 -5.841399e+01    1.031264e+05     1.703101e+04   \n",
              "latitude                -5.665539e-03   -8.015430e+02    -7.826992e+02   \n",
              "longitude                7.858884e-02    1.018851e+03     1.057428e+03   \n",
              "bedrooms                -2.796548e+00    2.700257e+04     1.809632e+04   \n",
              "bathrooms               -3.176804e-01    6.897107e+04     4.828790e+04   \n",
              "rooms                   -1.036196e+01    1.045593e+05     7.112842e+04   \n",
              "squareFootage           -2.483134e+03    3.982398e+07     2.681910e+07   \n",
              "lotSize                  2.109140e+04   -2.213973e+07    -1.328492e+07   \n",
              "yearBuilt                7.380648e+02   -8.623130e+05    -5.155086e+05   \n",
              "lastSaleAmount          -8.623130e+05    2.472781e+11     1.739313e+10   \n",
              "priorSaleAmount         -5.155086e+05    1.739313e+10     2.787445e+10   \n",
              "estimated_value         -1.122768e+06    2.078330e+10     1.526768e+10   \n",
              "week_daylastSaleDate    -1.943420e-01    1.081451e+04     8.353896e+01   \n",
              "year_priorSaleDate       1.100226e+01    8.798497e+04     1.848249e+05   \n",
              "year_lastSaleDate        3.455405e+00    3.258268e+05     1.261125e+05   \n",
              "year_between_last_sales -7.546855e+00    2.378418e+05    -5.871240e+04   \n",
              "\n",
              "                         estimated_value  week_daylastSaleDate  \\\n",
              "id                          1.377924e+12        -185564.838746   \n",
              "zipcode                     1.689981e+05             -0.048443   \n",
              "latitude                   -7.297993e+02             -0.000390   \n",
              "longitude                   1.560274e+03             -0.000397   \n",
              "bedrooms                    4.563106e+04              0.005973   \n",
              "bathrooms                   8.902006e+04             -0.004094   \n",
              "rooms                       1.423335e+05              0.043624   \n",
              "squareFootage               5.386340e+07              1.492542   \n",
              "lotSize                    -1.982732e+07             17.237319   \n",
              "yearBuilt                  -1.122768e+06             -0.194342   \n",
              "lastSaleAmount              2.078330e+10          10814.505343   \n",
              "priorSaleAmount             1.526768e+10             83.538958   \n",
              "estimated_value             2.607382e+10            108.338161   \n",
              "week_daylastSaleDate        1.083382e+02              2.047438   \n",
              "year_priorSaleDate         -5.900107e+04             -0.163341   \n",
              "year_lastSaleDate           3.101527e+04             -0.209636   \n",
              "year_between_last_sales     9.001633e+04             -0.046295   \n",
              "\n",
              "                         year_priorSaleDate  year_lastSaleDate  \\\n",
              "id                            -1.425652e+07       5.356827e+07   \n",
              "zipcode                        1.941176e+00       1.231320e+00   \n",
              "latitude                       1.694881e-02       4.860038e-03   \n",
              "longitude                      1.093977e-02       7.218716e-03   \n",
              "bedrooms                      -1.000298e-01      -4.507157e-02   \n",
              "bathrooms                      3.042925e-01       2.655217e-01   \n",
              "rooms                         -7.428982e-01      -2.407733e-01   \n",
              "squareFootage                 -2.336767e+02      -1.074777e+01   \n",
              "lotSize                        3.375897e+02      -5.211421e+01   \n",
              "yearBuilt                      1.100226e+01       3.455405e+00   \n",
              "lastSaleAmount                 8.798497e+04       3.258268e+05   \n",
              "priorSaleAmount                1.848249e+05       1.261125e+05   \n",
              "estimated_value               -5.900107e+04       3.101527e+04   \n",
              "week_daylastSaleDate          -1.633410e-01      -2.096359e-01   \n",
              "year_priorSaleDate             3.894055e+01       1.005478e+01   \n",
              "year_lastSaleDate              1.005478e+01       1.998153e+01   \n",
              "year_between_last_sales       -2.888577e+01       9.926747e+00   \n",
              "\n",
              "                         year_between_last_sales  \n",
              "id                                  6.782480e+07  \n",
              "zipcode                            -7.098558e-01  \n",
              "latitude                           -1.208878e-02  \n",
              "longitude                          -3.721053e-03  \n",
              "bedrooms                            5.495819e-02  \n",
              "bathrooms                          -3.877077e-02  \n",
              "rooms                               5.021249e-01  \n",
              "squareFootage                       2.229289e+02  \n",
              "lotSize                            -3.897039e+02  \n",
              "yearBuilt                          -7.546855e+00  \n",
              "lastSaleAmount                      2.378418e+05  \n",
              "priorSaleAmount                    -5.871240e+04  \n",
              "estimated_value                     9.001633e+04  \n",
              "week_daylastSaleDate               -4.629489e-02  \n",
              "year_priorSaleDate                 -2.888577e+01  \n",
              "year_lastSaleDate                   9.926747e+00  \n",
              "year_between_last_sales             3.881251e+01  "
            ],
            "text/html": [
              "\n",
              "  <div id=\"df-93e64b9d-2b56-45df-8b65-fc92e5205584\">\n",
              "    <div class=\"colab-df-container\">\n",
              "      <div>\n",
              "<style scoped>\n",
              "    .dataframe tbody tr th:only-of-type {\n",
              "        vertical-align: middle;\n",
              "    }\n",
              "\n",
              "    .dataframe tbody tr th {\n",
              "        vertical-align: top;\n",
              "    }\n",
              "\n",
              "    .dataframe thead th {\n",
              "        text-align: right;\n",
              "    }\n",
              "</style>\n",
              "<table border=\"1\" class=\"dataframe\">\n",
              "  <thead>\n",
              "    <tr style=\"text-align: right;\">\n",
              "      <th></th>\n",
              "      <th>id</th>\n",
              "      <th>zipcode</th>\n",
              "      <th>latitude</th>\n",
              "      <th>longitude</th>\n",
              "      <th>bedrooms</th>\n",
              "      <th>bathrooms</th>\n",
              "      <th>rooms</th>\n",
              "      <th>squareFootage</th>\n",
              "      <th>lotSize</th>\n",
              "      <th>yearBuilt</th>\n",
              "      <th>lastSaleAmount</th>\n",
              "      <th>priorSaleAmount</th>\n",
              "      <th>estimated_value</th>\n",
              "      <th>week_daylastSaleDate</th>\n",
              "      <th>year_priorSaleDate</th>\n",
              "      <th>year_lastSaleDate</th>\n",
              "      <th>year_between_last_sales</th>\n",
              "    </tr>\n",
              "  </thead>\n",
              "  <tbody>\n",
              "    <tr>\n",
              "      <th>id</th>\n",
              "      <td>3.021548e+15</td>\n",
              "      <td>-5.617630e+06</td>\n",
              "      <td>-60992.895138</td>\n",
              "      <td>109935.115766</td>\n",
              "      <td>1.738008e+06</td>\n",
              "      <td>5.087272e+06</td>\n",
              "      <td>4.590194e+06</td>\n",
              "      <td>2.617412e+09</td>\n",
              "      <td>-1.751765e+09</td>\n",
              "      <td>-8.486537e+06</td>\n",
              "      <td>2.212316e+12</td>\n",
              "      <td>1.325445e+11</td>\n",
              "      <td>1.377924e+12</td>\n",
              "      <td>-185564.838746</td>\n",
              "      <td>-1.425652e+07</td>\n",
              "      <td>5.356827e+07</td>\n",
              "      <td>6.782480e+07</td>\n",
              "    </tr>\n",
              "    <tr>\n",
              "      <th>zipcode</th>\n",
              "      <td>-5.617630e+06</td>\n",
              "      <td>9.057292e+01</td>\n",
              "      <td>0.113617</td>\n",
              "      <td>0.153296</td>\n",
              "      <td>-3.500165e-01</td>\n",
              "      <td>-6.408459e-01</td>\n",
              "      <td>-4.969467e-02</td>\n",
              "      <td>-4.003407e+02</td>\n",
              "      <td>-1.205270e+03</td>\n",
              "      <td>-5.841399e+01</td>\n",
              "      <td>1.031264e+05</td>\n",
              "      <td>1.703101e+04</td>\n",
              "      <td>1.689981e+05</td>\n",
              "      <td>-0.048443</td>\n",
              "      <td>1.941176e+00</td>\n",
              "      <td>1.231320e+00</td>\n",
              "      <td>-7.098558e-01</td>\n",
              "    </tr>\n",
              "    <tr>\n",
              "      <th>latitude</th>\n",
              "      <td>-6.099290e+04</td>\n",
              "      <td>1.136174e-01</td>\n",
              "      <td>0.000516</td>\n",
              "      <td>0.000512</td>\n",
              "      <td>-3.152241e-04</td>\n",
              "      <td>-1.882492e-03</td>\n",
              "      <td>-4.325545e-03</td>\n",
              "      <td>-1.516513e+00</td>\n",
              "      <td>1.041180e+00</td>\n",
              "      <td>-5.665539e-03</td>\n",
              "      <td>-8.015430e+02</td>\n",
              "      <td>-7.826992e+02</td>\n",
              "      <td>-7.297993e+02</td>\n",
              "      <td>-0.000390</td>\n",
              "      <td>1.694881e-02</td>\n",
              "      <td>4.860038e-03</td>\n",
              "      <td>-1.208878e-02</td>\n",
              "    </tr>\n",
              "    <tr>\n",
              "      <th>longitude</th>\n",
              "      <td>1.099351e+05</td>\n",
              "      <td>1.532964e-01</td>\n",
              "      <td>0.000512</td>\n",
              "      <td>0.001693</td>\n",
              "      <td>-1.185904e-05</td>\n",
              "      <td>3.417943e-03</td>\n",
              "      <td>-6.927081e-04</td>\n",
              "      <td>5.545145e-01</td>\n",
              "      <td>7.432522e+00</td>\n",
              "      <td>7.858884e-02</td>\n",
              "      <td>1.018851e+03</td>\n",
              "      <td>1.057428e+03</td>\n",
              "      <td>1.560274e+03</td>\n",
              "      <td>-0.000397</td>\n",
              "      <td>1.093977e-02</td>\n",
              "      <td>7.218716e-03</td>\n",
              "      <td>-3.721053e-03</td>\n",
              "    </tr>\n",
              "    <tr>\n",
              "      <th>bedrooms</th>\n",
              "      <td>1.738008e+06</td>\n",
              "      <td>-3.500165e-01</td>\n",
              "      <td>-0.000315</td>\n",
              "      <td>-0.000012</td>\n",
              "      <td>6.225532e-01</td>\n",
              "      <td>2.777788e-01</td>\n",
              "      <td>8.094039e-01</td>\n",
              "      <td>2.483063e+02</td>\n",
              "      <td>-2.082256e+01</td>\n",
              "      <td>-2.796548e+00</td>\n",
              "      <td>2.700257e+04</td>\n",
              "      <td>1.809632e+04</td>\n",
              "      <td>4.563106e+04</td>\n",
              "      <td>0.005973</td>\n",
              "      <td>-1.000298e-01</td>\n",
              "      <td>-4.507157e-02</td>\n",
              "      <td>5.495819e-02</td>\n",
              "    </tr>\n",
              "    <tr>\n",
              "      <th>bathrooms</th>\n",
              "      <td>5.087272e+06</td>\n",
              "      <td>-6.408459e-01</td>\n",
              "      <td>-0.001882</td>\n",
              "      <td>0.003418</td>\n",
              "      <td>2.777788e-01</td>\n",
              "      <td>7.136567e-01</td>\n",
              "      <td>7.051291e-01</td>\n",
              "      <td>2.713057e+02</td>\n",
              "      <td>-1.918931e+01</td>\n",
              "      <td>-3.176804e-01</td>\n",
              "      <td>6.897107e+04</td>\n",
              "      <td>4.828790e+04</td>\n",
              "      <td>8.902006e+04</td>\n",
              "      <td>-0.004094</td>\n",
              "      <td>3.042925e-01</td>\n",
              "      <td>2.655217e-01</td>\n",
              "      <td>-3.877077e-02</td>\n",
              "    </tr>\n",
              "    <tr>\n",
              "      <th>rooms</th>\n",
              "      <td>4.590194e+06</td>\n",
              "      <td>-4.969467e-02</td>\n",
              "      <td>-0.004326</td>\n",
              "      <td>-0.000693</td>\n",
              "      <td>8.094039e-01</td>\n",
              "      <td>7.051291e-01</td>\n",
              "      <td>2.298591e+00</td>\n",
              "      <td>5.360090e+02</td>\n",
              "      <td>-3.011851e+02</td>\n",
              "      <td>-1.036196e+01</td>\n",
              "      <td>1.045593e+05</td>\n",
              "      <td>7.112842e+04</td>\n",
              "      <td>1.423335e+05</td>\n",
              "      <td>0.043624</td>\n",
              "      <td>-7.428982e-01</td>\n",
              "      <td>-2.407733e-01</td>\n",
              "      <td>5.021249e-01</td>\n",
              "    </tr>\n",
              "    <tr>\n",
              "      <th>squareFootage</th>\n",
              "      <td>2.617412e+09</td>\n",
              "      <td>-4.003407e+02</td>\n",
              "      <td>-1.516513</td>\n",
              "      <td>0.554515</td>\n",
              "      <td>2.483063e+02</td>\n",
              "      <td>2.713057e+02</td>\n",
              "      <td>5.360090e+02</td>\n",
              "      <td>2.330747e+05</td>\n",
              "      <td>-3.741579e+04</td>\n",
              "      <td>-2.483134e+03</td>\n",
              "      <td>3.982398e+07</td>\n",
              "      <td>2.681910e+07</td>\n",
              "      <td>5.386340e+07</td>\n",
              "      <td>1.492542</td>\n",
              "      <td>-2.336767e+02</td>\n",
              "      <td>-1.074777e+01</td>\n",
              "      <td>2.229289e+02</td>\n",
              "    </tr>\n",
              "    <tr>\n",
              "      <th>lotSize</th>\n",
              "      <td>-1.751765e+09</td>\n",
              "      <td>-1.205270e+03</td>\n",
              "      <td>1.041180</td>\n",
              "      <td>7.432522</td>\n",
              "      <td>-2.082256e+01</td>\n",
              "      <td>-1.918931e+01</td>\n",
              "      <td>-3.011851e+02</td>\n",
              "      <td>-3.741579e+04</td>\n",
              "      <td>2.860322e+06</td>\n",
              "      <td>2.109140e+04</td>\n",
              "      <td>-2.213973e+07</td>\n",
              "      <td>-1.328492e+07</td>\n",
              "      <td>-1.982732e+07</td>\n",
              "      <td>17.237319</td>\n",
              "      <td>3.375897e+02</td>\n",
              "      <td>-5.211421e+01</td>\n",
              "      <td>-3.897039e+02</td>\n",
              "    </tr>\n",
              "    <tr>\n",
              "      <th>yearBuilt</th>\n",
              "      <td>-8.486537e+06</td>\n",
              "      <td>-5.841399e+01</td>\n",
              "      <td>-0.005666</td>\n",
              "      <td>0.078589</td>\n",
              "      <td>-2.796548e+00</td>\n",
              "      <td>-3.176804e-01</td>\n",
              "      <td>-1.036196e+01</td>\n",
              "      <td>-2.483134e+03</td>\n",
              "      <td>2.109140e+04</td>\n",
              "      <td>7.380648e+02</td>\n",
              "      <td>-8.623130e+05</td>\n",
              "      <td>-5.155086e+05</td>\n",
              "      <td>-1.122768e+06</td>\n",
              "      <td>-0.194342</td>\n",
              "      <td>1.100226e+01</td>\n",
              "      <td>3.455405e+00</td>\n",
              "      <td>-7.546855e+00</td>\n",
              "    </tr>\n",
              "    <tr>\n",
              "      <th>lastSaleAmount</th>\n",
              "      <td>2.212316e+12</td>\n",
              "      <td>1.031264e+05</td>\n",
              "      <td>-801.542955</td>\n",
              "      <td>1018.851260</td>\n",
              "      <td>2.700257e+04</td>\n",
              "      <td>6.897107e+04</td>\n",
              "      <td>1.045593e+05</td>\n",
              "      <td>3.982398e+07</td>\n",
              "      <td>-2.213973e+07</td>\n",
              "      <td>-8.623130e+05</td>\n",
              "      <td>2.472781e+11</td>\n",
              "      <td>1.739313e+10</td>\n",
              "      <td>2.078330e+10</td>\n",
              "      <td>10814.505343</td>\n",
              "      <td>8.798497e+04</td>\n",
              "      <td>3.258268e+05</td>\n",
              "      <td>2.378418e+05</td>\n",
              "    </tr>\n",
              "    <tr>\n",
              "      <th>priorSaleAmount</th>\n",
              "      <td>1.325445e+11</td>\n",
              "      <td>1.703101e+04</td>\n",
              "      <td>-782.699168</td>\n",
              "      <td>1057.428405</td>\n",
              "      <td>1.809632e+04</td>\n",
              "      <td>4.828790e+04</td>\n",
              "      <td>7.112842e+04</td>\n",
              "      <td>2.681910e+07</td>\n",
              "      <td>-1.328492e+07</td>\n",
              "      <td>-5.155086e+05</td>\n",
              "      <td>1.739313e+10</td>\n",
              "      <td>2.787445e+10</td>\n",
              "      <td>1.526768e+10</td>\n",
              "      <td>83.538958</td>\n",
              "      <td>1.848249e+05</td>\n",
              "      <td>1.261125e+05</td>\n",
              "      <td>-5.871240e+04</td>\n",
              "    </tr>\n",
              "    <tr>\n",
              "      <th>estimated_value</th>\n",
              "      <td>1.377924e+12</td>\n",
              "      <td>1.689981e+05</td>\n",
              "      <td>-729.799293</td>\n",
              "      <td>1560.273672</td>\n",
              "      <td>4.563106e+04</td>\n",
              "      <td>8.902006e+04</td>\n",
              "      <td>1.423335e+05</td>\n",
              "      <td>5.386340e+07</td>\n",
              "      <td>-1.982732e+07</td>\n",
              "      <td>-1.122768e+06</td>\n",
              "      <td>2.078330e+10</td>\n",
              "      <td>1.526768e+10</td>\n",
              "      <td>2.607382e+10</td>\n",
              "      <td>108.338161</td>\n",
              "      <td>-5.900107e+04</td>\n",
              "      <td>3.101527e+04</td>\n",
              "      <td>9.001633e+04</td>\n",
              "    </tr>\n",
              "    <tr>\n",
              "      <th>week_daylastSaleDate</th>\n",
              "      <td>-1.855648e+05</td>\n",
              "      <td>-4.844325e-02</td>\n",
              "      <td>-0.000390</td>\n",
              "      <td>-0.000397</td>\n",
              "      <td>5.972539e-03</td>\n",
              "      <td>-4.094095e-03</td>\n",
              "      <td>4.362416e-02</td>\n",
              "      <td>1.492542e+00</td>\n",
              "      <td>1.723732e+01</td>\n",
              "      <td>-1.943420e-01</td>\n",
              "      <td>1.081451e+04</td>\n",
              "      <td>8.353896e+01</td>\n",
              "      <td>1.083382e+02</td>\n",
              "      <td>2.047438</td>\n",
              "      <td>-1.633410e-01</td>\n",
              "      <td>-2.096359e-01</td>\n",
              "      <td>-4.629489e-02</td>\n",
              "    </tr>\n",
              "    <tr>\n",
              "      <th>year_priorSaleDate</th>\n",
              "      <td>-1.425652e+07</td>\n",
              "      <td>1.941176e+00</td>\n",
              "      <td>0.016949</td>\n",
              "      <td>0.010940</td>\n",
              "      <td>-1.000298e-01</td>\n",
              "      <td>3.042925e-01</td>\n",
              "      <td>-7.428982e-01</td>\n",
              "      <td>-2.336767e+02</td>\n",
              "      <td>3.375897e+02</td>\n",
              "      <td>1.100226e+01</td>\n",
              "      <td>8.798497e+04</td>\n",
              "      <td>1.848249e+05</td>\n",
              "      <td>-5.900107e+04</td>\n",
              "      <td>-0.163341</td>\n",
              "      <td>3.894055e+01</td>\n",
              "      <td>1.005478e+01</td>\n",
              "      <td>-2.888577e+01</td>\n",
              "    </tr>\n",
              "    <tr>\n",
              "      <th>year_lastSaleDate</th>\n",
              "      <td>5.356827e+07</td>\n",
              "      <td>1.231320e+00</td>\n",
              "      <td>0.004860</td>\n",
              "      <td>0.007219</td>\n",
              "      <td>-4.507157e-02</td>\n",
              "      <td>2.655217e-01</td>\n",
              "      <td>-2.407733e-01</td>\n",
              "      <td>-1.074777e+01</td>\n",
              "      <td>-5.211421e+01</td>\n",
              "      <td>3.455405e+00</td>\n",
              "      <td>3.258268e+05</td>\n",
              "      <td>1.261125e+05</td>\n",
              "      <td>3.101527e+04</td>\n",
              "      <td>-0.209636</td>\n",
              "      <td>1.005478e+01</td>\n",
              "      <td>1.998153e+01</td>\n",
              "      <td>9.926747e+00</td>\n",
              "    </tr>\n",
              "    <tr>\n",
              "      <th>year_between_last_sales</th>\n",
              "      <td>6.782480e+07</td>\n",
              "      <td>-7.098558e-01</td>\n",
              "      <td>-0.012089</td>\n",
              "      <td>-0.003721</td>\n",
              "      <td>5.495819e-02</td>\n",
              "      <td>-3.877077e-02</td>\n",
              "      <td>5.021249e-01</td>\n",
              "      <td>2.229289e+02</td>\n",
              "      <td>-3.897039e+02</td>\n",
              "      <td>-7.546855e+00</td>\n",
              "      <td>2.378418e+05</td>\n",
              "      <td>-5.871240e+04</td>\n",
              "      <td>9.001633e+04</td>\n",
              "      <td>-0.046295</td>\n",
              "      <td>-2.888577e+01</td>\n",
              "      <td>9.926747e+00</td>\n",
              "      <td>3.881251e+01</td>\n",
              "    </tr>\n",
              "  </tbody>\n",
              "</table>\n",
              "</div>\n",
              "      <button class=\"colab-df-convert\" onclick=\"convertToInteractive('df-93e64b9d-2b56-45df-8b65-fc92e5205584')\"\n",
              "              title=\"Convert this dataframe to an interactive table.\"\n",
              "              style=\"display:none;\">\n",
              "        \n",
              "  <svg xmlns=\"http://www.w3.org/2000/svg\" height=\"24px\"viewBox=\"0 0 24 24\"\n",
              "       width=\"24px\">\n",
              "    <path d=\"M0 0h24v24H0V0z\" fill=\"none\"/>\n",
              "    <path d=\"M18.56 5.44l.94 2.06.94-2.06 2.06-.94-2.06-.94-.94-2.06-.94 2.06-2.06.94zm-11 1L8.5 8.5l.94-2.06 2.06-.94-2.06-.94L8.5 2.5l-.94 2.06-2.06.94zm10 10l.94 2.06.94-2.06 2.06-.94-2.06-.94-.94-2.06-.94 2.06-2.06.94z\"/><path d=\"M17.41 7.96l-1.37-1.37c-.4-.4-.92-.59-1.43-.59-.52 0-1.04.2-1.43.59L10.3 9.45l-7.72 7.72c-.78.78-.78 2.05 0 2.83L4 21.41c.39.39.9.59 1.41.59.51 0 1.02-.2 1.41-.59l7.78-7.78 2.81-2.81c.8-.78.8-2.07 0-2.86zM5.41 20L4 18.59l7.72-7.72 1.47 1.35L5.41 20z\"/>\n",
              "  </svg>\n",
              "      </button>\n",
              "      \n",
              "  <style>\n",
              "    .colab-df-container {\n",
              "      display:flex;\n",
              "      flex-wrap:wrap;\n",
              "      gap: 12px;\n",
              "    }\n",
              "\n",
              "    .colab-df-convert {\n",
              "      background-color: #E8F0FE;\n",
              "      border: none;\n",
              "      border-radius: 50%;\n",
              "      cursor: pointer;\n",
              "      display: none;\n",
              "      fill: #1967D2;\n",
              "      height: 32px;\n",
              "      padding: 0 0 0 0;\n",
              "      width: 32px;\n",
              "    }\n",
              "\n",
              "    .colab-df-convert:hover {\n",
              "      background-color: #E2EBFA;\n",
              "      box-shadow: 0px 1px 2px rgba(60, 64, 67, 0.3), 0px 1px 3px 1px rgba(60, 64, 67, 0.15);\n",
              "      fill: #174EA6;\n",
              "    }\n",
              "\n",
              "    [theme=dark] .colab-df-convert {\n",
              "      background-color: #3B4455;\n",
              "      fill: #D2E3FC;\n",
              "    }\n",
              "\n",
              "    [theme=dark] .colab-df-convert:hover {\n",
              "      background-color: #434B5C;\n",
              "      box-shadow: 0px 1px 3px 1px rgba(0, 0, 0, 0.15);\n",
              "      filter: drop-shadow(0px 1px 2px rgba(0, 0, 0, 0.3));\n",
              "      fill: #FFFFFF;\n",
              "    }\n",
              "  </style>\n",
              "\n",
              "      <script>\n",
              "        const buttonEl =\n",
              "          document.querySelector('#df-93e64b9d-2b56-45df-8b65-fc92e5205584 button.colab-df-convert');\n",
              "        buttonEl.style.display =\n",
              "          google.colab.kernel.accessAllowed ? 'block' : 'none';\n",
              "\n",
              "        async function convertToInteractive(key) {\n",
              "          const element = document.querySelector('#df-93e64b9d-2b56-45df-8b65-fc92e5205584');\n",
              "          const dataTable =\n",
              "            await google.colab.kernel.invokeFunction('convertToInteractive',\n",
              "                                                     [key], {});\n",
              "          if (!dataTable) return;\n",
              "\n",
              "          const docLinkHtml = 'Like what you see? Visit the ' +\n",
              "            '<a target=\"_blank\" href=https://colab.research.google.com/notebooks/data_table.ipynb>data table notebook</a>'\n",
              "            + ' to learn more about interactive tables.';\n",
              "          element.innerHTML = '';\n",
              "          dataTable['output_type'] = 'display_data';\n",
              "          await google.colab.output.renderOutput(dataTable, element);\n",
              "          const docLink = document.createElement('div');\n",
              "          docLink.innerHTML = docLinkHtml;\n",
              "          element.appendChild(docLink);\n",
              "        }\n",
              "      </script>\n",
              "    </div>\n",
              "  </div>\n",
              "  "
            ]
          },
          "metadata": {},
          "execution_count": 107
        }
      ]
    },
    {
      "cell_type": "code",
      "source": [
        "X"
      ],
      "metadata": {
        "colab": {
          "base_uri": "https://localhost:8080/",
          "height": 424
        },
        "id": "9G8N6KoH_cg3",
        "outputId": "0c7f346c-8449-49b7-ce45-3ee8c64f4102"
      },
      "execution_count": null,
      "outputs": [
        {
          "output_type": "execute_result",
          "data": {
            "text/plain": [
              "       bedrooms  bathrooms  rooms  squareFootage  lotSize  yearBuilt  \\\n",
              "0             3        2.0      6           1378     9968     2003.0   \n",
              "3             4        3.0      0           2400    11500     1956.0   \n",
              "4             3        4.0      8           2305     5600     1998.0   \n",
              "5             3        5.0      7           2051     6045     1996.0   \n",
              "6             4        4.0      8           2051     6315     1997.0   \n",
              "...         ...        ...    ...            ...      ...        ...   \n",
              "14989         2        2.0      6           1145     4690     1924.0   \n",
              "14990         2        2.0      5           1401     4690     1910.0   \n",
              "14993         3        2.0      6           1913     4760     1909.0   \n",
              "14994         3        2.0      7           1913     4990     1925.0   \n",
              "14996         3        3.0     11           2937     4500     1890.0   \n",
              "\n",
              "       priorSaleAmount  cluster  \n",
              "0             165700.0        1  \n",
              "3                  0.0        3  \n",
              "4                  0.0        3  \n",
              "5             339000.0        0  \n",
              "6             345000.0        0  \n",
              "...                ...      ...  \n",
              "14989         182900.0        1  \n",
              "14990         360000.0        0  \n",
              "14993         535000.0        4  \n",
              "14994         142000.0        1  \n",
              "14996         557500.0        4  \n",
              "\n",
              "[10080 rows x 8 columns]"
            ],
            "text/html": [
              "\n",
              "  <div id=\"df-81918dd6-64ce-4c21-bc30-c5327f5bbab1\">\n",
              "    <div class=\"colab-df-container\">\n",
              "      <div>\n",
              "<style scoped>\n",
              "    .dataframe tbody tr th:only-of-type {\n",
              "        vertical-align: middle;\n",
              "    }\n",
              "\n",
              "    .dataframe tbody tr th {\n",
              "        vertical-align: top;\n",
              "    }\n",
              "\n",
              "    .dataframe thead th {\n",
              "        text-align: right;\n",
              "    }\n",
              "</style>\n",
              "<table border=\"1\" class=\"dataframe\">\n",
              "  <thead>\n",
              "    <tr style=\"text-align: right;\">\n",
              "      <th></th>\n",
              "      <th>bedrooms</th>\n",
              "      <th>bathrooms</th>\n",
              "      <th>rooms</th>\n",
              "      <th>squareFootage</th>\n",
              "      <th>lotSize</th>\n",
              "      <th>yearBuilt</th>\n",
              "      <th>priorSaleAmount</th>\n",
              "      <th>cluster</th>\n",
              "    </tr>\n",
              "  </thead>\n",
              "  <tbody>\n",
              "    <tr>\n",
              "      <th>0</th>\n",
              "      <td>3</td>\n",
              "      <td>2.0</td>\n",
              "      <td>6</td>\n",
              "      <td>1378</td>\n",
              "      <td>9968</td>\n",
              "      <td>2003.0</td>\n",
              "      <td>165700.0</td>\n",
              "      <td>1</td>\n",
              "    </tr>\n",
              "    <tr>\n",
              "      <th>3</th>\n",
              "      <td>4</td>\n",
              "      <td>3.0</td>\n",
              "      <td>0</td>\n",
              "      <td>2400</td>\n",
              "      <td>11500</td>\n",
              "      <td>1956.0</td>\n",
              "      <td>0.0</td>\n",
              "      <td>3</td>\n",
              "    </tr>\n",
              "    <tr>\n",
              "      <th>4</th>\n",
              "      <td>3</td>\n",
              "      <td>4.0</td>\n",
              "      <td>8</td>\n",
              "      <td>2305</td>\n",
              "      <td>5600</td>\n",
              "      <td>1998.0</td>\n",
              "      <td>0.0</td>\n",
              "      <td>3</td>\n",
              "    </tr>\n",
              "    <tr>\n",
              "      <th>5</th>\n",
              "      <td>3</td>\n",
              "      <td>5.0</td>\n",
              "      <td>7</td>\n",
              "      <td>2051</td>\n",
              "      <td>6045</td>\n",
              "      <td>1996.0</td>\n",
              "      <td>339000.0</td>\n",
              "      <td>0</td>\n",
              "    </tr>\n",
              "    <tr>\n",
              "      <th>6</th>\n",
              "      <td>4</td>\n",
              "      <td>4.0</td>\n",
              "      <td>8</td>\n",
              "      <td>2051</td>\n",
              "      <td>6315</td>\n",
              "      <td>1997.0</td>\n",
              "      <td>345000.0</td>\n",
              "      <td>0</td>\n",
              "    </tr>\n",
              "    <tr>\n",
              "      <th>...</th>\n",
              "      <td>...</td>\n",
              "      <td>...</td>\n",
              "      <td>...</td>\n",
              "      <td>...</td>\n",
              "      <td>...</td>\n",
              "      <td>...</td>\n",
              "      <td>...</td>\n",
              "      <td>...</td>\n",
              "    </tr>\n",
              "    <tr>\n",
              "      <th>14989</th>\n",
              "      <td>2</td>\n",
              "      <td>2.0</td>\n",
              "      <td>6</td>\n",
              "      <td>1145</td>\n",
              "      <td>4690</td>\n",
              "      <td>1924.0</td>\n",
              "      <td>182900.0</td>\n",
              "      <td>1</td>\n",
              "    </tr>\n",
              "    <tr>\n",
              "      <th>14990</th>\n",
              "      <td>2</td>\n",
              "      <td>2.0</td>\n",
              "      <td>5</td>\n",
              "      <td>1401</td>\n",
              "      <td>4690</td>\n",
              "      <td>1910.0</td>\n",
              "      <td>360000.0</td>\n",
              "      <td>0</td>\n",
              "    </tr>\n",
              "    <tr>\n",
              "      <th>14993</th>\n",
              "      <td>3</td>\n",
              "      <td>2.0</td>\n",
              "      <td>6</td>\n",
              "      <td>1913</td>\n",
              "      <td>4760</td>\n",
              "      <td>1909.0</td>\n",
              "      <td>535000.0</td>\n",
              "      <td>4</td>\n",
              "    </tr>\n",
              "    <tr>\n",
              "      <th>14994</th>\n",
              "      <td>3</td>\n",
              "      <td>2.0</td>\n",
              "      <td>7</td>\n",
              "      <td>1913</td>\n",
              "      <td>4990</td>\n",
              "      <td>1925.0</td>\n",
              "      <td>142000.0</td>\n",
              "      <td>1</td>\n",
              "    </tr>\n",
              "    <tr>\n",
              "      <th>14996</th>\n",
              "      <td>3</td>\n",
              "      <td>3.0</td>\n",
              "      <td>11</td>\n",
              "      <td>2937</td>\n",
              "      <td>4500</td>\n",
              "      <td>1890.0</td>\n",
              "      <td>557500.0</td>\n",
              "      <td>4</td>\n",
              "    </tr>\n",
              "  </tbody>\n",
              "</table>\n",
              "<p>10080 rows × 8 columns</p>\n",
              "</div>\n",
              "      <button class=\"colab-df-convert\" onclick=\"convertToInteractive('df-81918dd6-64ce-4c21-bc30-c5327f5bbab1')\"\n",
              "              title=\"Convert this dataframe to an interactive table.\"\n",
              "              style=\"display:none;\">\n",
              "        \n",
              "  <svg xmlns=\"http://www.w3.org/2000/svg\" height=\"24px\"viewBox=\"0 0 24 24\"\n",
              "       width=\"24px\">\n",
              "    <path d=\"M0 0h24v24H0V0z\" fill=\"none\"/>\n",
              "    <path d=\"M18.56 5.44l.94 2.06.94-2.06 2.06-.94-2.06-.94-.94-2.06-.94 2.06-2.06.94zm-11 1L8.5 8.5l.94-2.06 2.06-.94-2.06-.94L8.5 2.5l-.94 2.06-2.06.94zm10 10l.94 2.06.94-2.06 2.06-.94-2.06-.94-.94-2.06-.94 2.06-2.06.94z\"/><path d=\"M17.41 7.96l-1.37-1.37c-.4-.4-.92-.59-1.43-.59-.52 0-1.04.2-1.43.59L10.3 9.45l-7.72 7.72c-.78.78-.78 2.05 0 2.83L4 21.41c.39.39.9.59 1.41.59.51 0 1.02-.2 1.41-.59l7.78-7.78 2.81-2.81c.8-.78.8-2.07 0-2.86zM5.41 20L4 18.59l7.72-7.72 1.47 1.35L5.41 20z\"/>\n",
              "  </svg>\n",
              "      </button>\n",
              "      \n",
              "  <style>\n",
              "    .colab-df-container {\n",
              "      display:flex;\n",
              "      flex-wrap:wrap;\n",
              "      gap: 12px;\n",
              "    }\n",
              "\n",
              "    .colab-df-convert {\n",
              "      background-color: #E8F0FE;\n",
              "      border: none;\n",
              "      border-radius: 50%;\n",
              "      cursor: pointer;\n",
              "      display: none;\n",
              "      fill: #1967D2;\n",
              "      height: 32px;\n",
              "      padding: 0 0 0 0;\n",
              "      width: 32px;\n",
              "    }\n",
              "\n",
              "    .colab-df-convert:hover {\n",
              "      background-color: #E2EBFA;\n",
              "      box-shadow: 0px 1px 2px rgba(60, 64, 67, 0.3), 0px 1px 3px 1px rgba(60, 64, 67, 0.15);\n",
              "      fill: #174EA6;\n",
              "    }\n",
              "\n",
              "    [theme=dark] .colab-df-convert {\n",
              "      background-color: #3B4455;\n",
              "      fill: #D2E3FC;\n",
              "    }\n",
              "\n",
              "    [theme=dark] .colab-df-convert:hover {\n",
              "      background-color: #434B5C;\n",
              "      box-shadow: 0px 1px 3px 1px rgba(0, 0, 0, 0.15);\n",
              "      filter: drop-shadow(0px 1px 2px rgba(0, 0, 0, 0.3));\n",
              "      fill: #FFFFFF;\n",
              "    }\n",
              "  </style>\n",
              "\n",
              "      <script>\n",
              "        const buttonEl =\n",
              "          document.querySelector('#df-81918dd6-64ce-4c21-bc30-c5327f5bbab1 button.colab-df-convert');\n",
              "        buttonEl.style.display =\n",
              "          google.colab.kernel.accessAllowed ? 'block' : 'none';\n",
              "\n",
              "        async function convertToInteractive(key) {\n",
              "          const element = document.querySelector('#df-81918dd6-64ce-4c21-bc30-c5327f5bbab1');\n",
              "          const dataTable =\n",
              "            await google.colab.kernel.invokeFunction('convertToInteractive',\n",
              "                                                     [key], {});\n",
              "          if (!dataTable) return;\n",
              "\n",
              "          const docLinkHtml = 'Like what you see? Visit the ' +\n",
              "            '<a target=\"_blank\" href=https://colab.research.google.com/notebooks/data_table.ipynb>data table notebook</a>'\n",
              "            + ' to learn more about interactive tables.';\n",
              "          element.innerHTML = '';\n",
              "          dataTable['output_type'] = 'display_data';\n",
              "          await google.colab.output.renderOutput(dataTable, element);\n",
              "          const docLink = document.createElement('div');\n",
              "          docLink.innerHTML = docLinkHtml;\n",
              "          element.appendChild(docLink);\n",
              "        }\n",
              "      </script>\n",
              "    </div>\n",
              "  </div>\n",
              "  "
            ]
          },
          "metadata": {},
          "execution_count": 108
        }
      ]
    },
    {
      "cell_type": "code",
      "source": [
        "X.columns"
      ],
      "metadata": {
        "colab": {
          "base_uri": "https://localhost:8080/"
        },
        "id": "aQd6_7IkEdCL",
        "outputId": "f71d060c-3595-4453-e954-a7ce9ea2a444"
      },
      "execution_count": null,
      "outputs": [
        {
          "output_type": "execute_result",
          "data": {
            "text/plain": [
              "Index(['bedrooms', 'bathrooms', 'rooms', 'squareFootage', 'lotSize',\n",
              "       'yearBuilt', 'priorSaleAmount', 'cluster'],\n",
              "      dtype='object')"
            ]
          },
          "metadata": {},
          "execution_count": 109
        }
      ]
    },
    {
      "cell_type": "code",
      "source": [
        "for i in X.columns:\n",
        "  print('====')\n",
        "  print (i)\n",
        "  X.loc[:, i].hist()\n",
        "  print ('mean:' , X.loc[:, i].mean())\n",
        "  print ('std:' , X.loc[:, i].std())\n",
        "  plt.show()"
      ],
      "metadata": {
        "colab": {
          "base_uri": "https://localhost:8080/",
          "height": 1000
        },
        "id": "79HJX-DyEdFG",
        "outputId": "28c67faf-caf0-469a-b244-6fcede58a186"
      },
      "execution_count": null,
      "outputs": [
        {
          "output_type": "stream",
          "name": "stdout",
          "text": [
            "====\n",
            "bedrooms\n",
            "mean: 2.5930555555555554\n",
            "std: 0.7890204170127862\n"
          ]
        },
        {
          "output_type": "display_data",
          "data": {
            "text/plain": [
              "<Figure size 432x288 with 1 Axes>"
            ],
            "image/png": "[encoded data removed]"
          },
          "metadata": {
            "needs_background": "light"
          }
        },
        {
          "output_type": "stream",
          "name": "stdout",
          "text": [
            "====\n",
            "bathrooms\n",
            "mean: 1.9818948412698412\n",
            "std: 0.8447820387405519\n"
          ]
        },
        {
          "output_type": "display_data",
          "data": {
            "text/plain": [
              "<Figure size 432x288 with 1 Axes>"
            ],
            "image/png": "[encoded data removed]"
          },
          "metadata": {
            "needs_background": "light"
          }
        },
        {
          "output_type": "stream",
          "name": "stdout",
          "text": [
            "====\n",
            "rooms\n",
            "mean: 5.80545634920635\n",
            "std: 1.5161105237513364\n"
          ]
        },
        {
          "output_type": "display_data",
          "data": {
            "text/plain": [
              "<Figure size 432x288 with 1 Axes>"
            ],
            "image/png": "[encoded data removed]"
          },
          "metadata": {
            "needs_background": "light"
          }
        },
        {
          "output_type": "stream",
          "name": "stdout",
          "text": [
            "====\n",
            "squareFootage\n",
            "mean: 1303.269742063492\n",
            "std: 482.7781563471877\n"
          ]
        },
        {
          "output_type": "display_data",
          "data": {
            "text/plain": [
              "<Figure size 432x288 with 1 Axes>"
            ],
            "image/png": "[encoded data removed]"
          },
          "metadata": {
            "needs_background": "light"
          }
        },
        {
          "output_type": "stream",
          "name": "stdout",
          "text": [
            "====\n",
            "lotSize\n",
            "mean: 5451.996924603174\n",
            "std: 1691.248786686502\n"
          ]
        },
        {
          "output_type": "display_data",
          "data": {
            "text/plain": [
              "<Figure size 432x288 with 1 Axes>"
            ],
            "image/png": "[encoded data removed]"
          },
          "metadata": {
            "needs_background": "light"
          }
        },
        {
          "output_type": "stream",
          "name": "stdout",
          "text": [
            "====\n",
            "yearBuilt\n",
            "mean: 1926.6827380952382\n",
            "std: 27.167348554939316\n"
          ]
        },
        {
          "output_type": "display_data",
          "data": {
            "text/plain": [
              "<Figure size 432x288 with 1 Axes>"
            ],
            "image/png": "[encoded data removed]"
          },
          "metadata": {
            "needs_background": "light"
          }
        },
        {
          "output_type": "stream",
          "name": "stdout",
          "text": [
            "====\n",
            "priorSaleAmount\n",
            "mean: 214427.44553571427\n",
            "std: 166956.44577454453\n"
          ]
        },
        {
          "output_type": "display_data",
          "data": {
            "text/plain": [
              "<Figure size 432x288 with 1 Axes>"
            ],
            "image/png": "[encoded data removed]"
          },
          "metadata": {
            "needs_background": "light"
          }
        },
        {
          "output_type": "stream",
          "name": "stdout",
          "text": [
            "====\n",
            "cluster\n",
            "mean: 1.4735119047619047\n",
            "std: 1.361342013034624\n"
          ]
        },
        {
          "output_type": "display_data",
          "data": {
            "text/plain": [
              "<Figure size 432x288 with 1 Axes>"
            ],
            "image/png": "[encoded data removed]"
          },
          "metadata": {
            "needs_background": "light"
          }
        }
      ]
    },
    {
      "cell_type": "code",
      "source": [
        "#Outliers\n",
        "#1. Three Sigma Rule:\n",
        "#2. Boxplot Rule:"
      ],
      "metadata": {
        "id": "QoCW9WIpEdIM"
      },
      "execution_count": null,
      "outputs": []
    },
    {
      "cell_type": "code",
      "source": [
        "X2=X[X.bedrooms<7]\n",
        "\n",
        "X2.bedrooms.hist()"
      ],
      "metadata": {
        "colab": {
          "base_uri": "https://localhost:8080/",
          "height": 282
        },
        "id": "bLeZxYurGlA_",
        "outputId": "5015ca69-9cc3-4195-acde-fb4f1ea8e9c6"
      },
      "execution_count": null,
      "outputs": [
        {
          "output_type": "execute_result",
          "data": {
            "text/plain": [
              "<matplotlib.axes._subplots.AxesSubplot at 0x7f7f3d2a5110>"
            ]
          },
          "metadata": {},
          "execution_count": 114
        },
        {
          "output_type": "display_data",
          "data": {
            "text/plain": [
              "<Figure size 432x288 with 1 Axes>"
            ],
            "image/png": "[encoded data removed]"
          },
          "metadata": {
            "needs_background": "light"
          }
        }
      ]
    },
    {
      "cell_type": "markdown",
      "source": [
        "#Dimensionality Reduction"
      ],
      "metadata": {
        "id": "RLXF7iUoJEy7"
      }
    },
    {
      "cell_type": "code",
      "source": [
        "from sklearn.decomposition import PCA"
      ],
      "metadata": {
        "id": "Jj4S-oBtJPm1"
      },
      "execution_count": null,
      "outputs": []
    },
    {
      "cell_type": "code",
      "source": [
        "pca=PCA(4)"
      ],
      "metadata": {
        "id": "6RnScomtJfFf"
      },
      "execution_count": null,
      "outputs": []
    },
    {
      "cell_type": "code",
      "source": [
        "X_transformed=pca.fit_transform(X)"
      ],
      "metadata": {
        "id": "_HgNasCNJfIc"
      },
      "execution_count": null,
      "outputs": []
    },
    {
      "cell_type": "code",
      "source": [
        "X_transformed.shape"
      ],
      "metadata": {
        "colab": {
          "base_uri": "https://localhost:8080/"
        },
        "id": "OpaweytqKtBL",
        "outputId": "05a46f91-7a4f-4cde-d155-d31e045c9f6e"
      },
      "execution_count": null,
      "outputs": [
        {
          "output_type": "execute_result",
          "data": {
            "text/plain": [
              "(10080, 4)"
            ]
          },
          "metadata": {},
          "execution_count": 122
        }
      ]
    },
    {
      "cell_type": "code",
      "source": [
        "pca.components_"
      ],
      "metadata": {
        "colab": {
          "base_uri": "https://localhost:8080/"
        },
        "id": "zHgcbvdoJrEK",
        "outputId": "522215e3-ea3e-4b19-82f8-ea22ef1a2d72"
      },
      "execution_count": null,
      "outputs": [
        {
          "output_type": "execute_result",
          "data": {
            "text/plain": [
              "array([[ 6.49216001e-07,  1.73234190e-06,  2.55176150e-06,\n",
              "         9.62145959e-04, -4.76647728e-04, -1.84943595e-05,\n",
              "         9.99999423e-01, -1.27275704e-06],\n",
              "       [-5.03224880e-06,  6.08721474e-07, -9.51812689e-05,\n",
              "        -9.31032196e-03,  9.99929808e-01,  7.31090573e-03,\n",
              "         4.85707965e-04,  5.40876397e-05],\n",
              "       [ 1.11458664e-03,  1.08596977e-03,  2.24628120e-03,\n",
              "         9.99914145e-01,  9.37433431e-03, -8.68305616e-03,\n",
              "        -9.57764311e-04,  2.08377778e-04],\n",
              "       [-6.32567023e-04,  4.49018256e-03, -5.40138288e-03,\n",
              "         8.75868124e-03, -7.22976026e-03,  9.99910537e-01,\n",
              "         6.62651034e-06,  4.43880577e-04]])"
            ]
          },
          "metadata": {},
          "execution_count": 121
        }
      ]
    },
    {
      "cell_type": "code",
      "source": [
        "lg = LinearRegression()\n",
        "X_train, X_test, y_train, y_test=train_test_split(X_transformed, y)\n",
        "lg.fit(X_train, y_train)\n"
      ],
      "metadata": {
        "colab": {
          "base_uri": "https://localhost:8080/"
        },
        "id": "jmcKBNg9LIl1",
        "outputId": "5b667a43-cb72-4a1c-edd9-decf18d396a2"
      },
      "execution_count": null,
      "outputs": [
        {
          "output_type": "execute_result",
          "data": {
            "text/plain": [
              "LinearRegression()"
            ]
          },
          "metadata": {},
          "execution_count": 125
        }
      ]
    },
    {
      "cell_type": "code",
      "source": [
        "lg.score(X_test, y_test)"
      ],
      "metadata": {
        "colab": {
          "base_uri": "https://localhost:8080/"
        },
        "id": "ghyciPI2Lpcq",
        "outputId": "fdc5f1cd-45ee-4849-d7fc-029c9da976a7"
      },
      "execution_count": null,
      "outputs": [
        {
          "output_type": "execute_result",
          "data": {
            "text/plain": [
              "0.6073579568873244"
            ]
          },
          "metadata": {},
          "execution_count": 126
        }
      ]
    }
  ]
}