{
  "nbformat": 4,
  "nbformat_minor": 0,
  "metadata": {
    "colab": {
      "provenance": [],
      "authorship_tag": "ABX9TyPotWagg+hJFsU/cj3M5B/J",
      "include_colab_link": true
    },
    "kernelspec": {
      "name": "python3",
      "display_name": "Python 3"
    },
    "language_info": {
      "name": "python"
    }
  },
  "cells": [
    {
      "cell_type": "markdown",
      "metadata": {
        "id": "view-in-github",
        "colab_type": "text"
      },
      "source": [
        "<a href=\"https://colab.research.google.com/github/GeneGenius/DataScienceJourney/blob/main/Linear_Regression_with_Tensor_Flow_Keras.ipynb\" target=\"_parent\"><img src=\"https://colab.research.google.com/assets/colab-badge.svg\" alt=\"Open In Colab\"/></a>"
      ]
    },
    {
      "cell_type": "markdown",
      "source": [
        "\n",
        "\n",
        "\n",
        "Linear Regression with Tensor Flow Keras"
      ],
      "metadata": {
        "id": "Mg-dbK8QxJp_"
      }
    },
    {
      "cell_type": "code",
      "execution_count": null,
      "metadata": {
        "id": "OcE28D3ME755"
      },
      "outputs": [],
      "source": [
        "#Importig libraries\n",
        "import pandas as pd\n",
        "import tensorflow as tf\n",
        "from matplotlib import pyplot as plt"
      ]
    },
    {
      "cell_type": "code",
      "source": [
        "#Define the functions that build and ttrain. a model\n",
        "def build_model(my_learning_rate):\n",
        "  \"\"\"Create and compile a simple linear regression model.\"\"\"\n",
        "  #Most simple tf.keras models are sequenttial.\n",
        "  #A sequetial model conttais one or more layers\n",
        "  model = tf.keras.models.Sequential()\n",
        "\n",
        "  #Describe the topography of the model\n",
        "  #The topograpy of a simple liear regression model is a single node in a single layer\n",
        "  model.add(tf.keras.layers.Dense(units=1, \n",
        "                                   input_shape=(1,)))\n",
        "  \n",
        "  #Compile the model topography into code that\n",
        "  #TensorFLow can efficiently execute.  Configure training to minimize the model's mean squared error\n",
        "\n",
        "  model.compile(optimizer=tf.keras.optimizers.RMSprop(lr=my_learning_rate),\n",
        "                loss=\"mean_squared_error\",\n",
        "                metrics=[tf.keras.metrics.RootMeanSquaredError()])\n",
        "  \n",
        "  return model\n",
        "\n",
        "def train_model(model, feature, label, epochs, batch_size):\n",
        "  \"\"\"Train the model by feeding it data\"\"\"\n",
        "\n",
        "  #Feed the feature values and label values to the model. The model will train for the specified number\n",
        "  #of epochs, gradually learning how the feature values relate to the label values.\n",
        "  history =model.fit(x=feature,\n",
        "                     y=label,\n",
        "                     batch_size=batch_size,\n",
        "                     epochs=epochs)\n",
        "  \n",
        "  #Gather the trained model's weight and bias\n",
        "  trained_weight =model.get_weights()[0]\n",
        "  trained_bias = model.get_weights()[1]\n",
        "\n",
        "  #The list of epochs is stored separately from the rest of history\n",
        "  epochs =history.epoch\n",
        "\n",
        "  #Gather history of each epoch\n",
        "  hist =pd.DataFrame(history.history)\n",
        "\n",
        "  #Specifically gather the model's root mean\n",
        "  #squared error at each epoch\n",
        "  rmse =hist[\"root_mean_squared_error\"]\n",
        "\n",
        "  return trained_weight, trained_bias, epochs, rmse\n",
        "\n",
        "print(\"Defined build_model and train_model\")\n",
        "\n",
        "\n",
        "\n",
        "\n"
      ],
      "metadata": {
        "colab": {
          "base_uri": "https://localhost:8080/"
        },
        "id": "eFcyPpf4FHyH",
        "outputId": "a4671ddd-dbbe-4204-8c86-b9011bbdd8e3"
      },
      "execution_count": null,
      "outputs": [
        {
          "output_type": "stream",
          "name": "stdout",
          "text": [
            "Defined build_model and train_model\n"
          ]
        }
      ]
    },
    {
      "cell_type": "code",
      "source": [
        "#Define the plotting functions\n",
        "def plot_the_model(trained_weight, trained_bias,feature,label):\n",
        "  \"\"\"Plot the trained model against the training feature and label.\"\"\"\n",
        "\n",
        "  #Label the axes.\n",
        "  plt.xlabel(\"feature\")\n",
        "  plt.ylabel(\"label\")\n",
        "\n",
        "  #Plot the feature values vs. label values\n",
        "  plt.scatter(feature, label)\n",
        "\n",
        "  #Create a red line represeting the model. The red line starts \n",
        "  #at cordinattes (x0, y0) and ends at cordinates (x1,y1)\n",
        "\n",
        "  x0 = 0\n",
        "  y0 = trained_bias\n",
        "  x1 = feature[-1]\n",
        "  y1 = trained_bias + (trained_weight * x1)\n",
        "  plt.plot([x0, x1], [y0, y1], c=\"r\")\n",
        "\n",
        "  #Render the scatter plot and the red line\n",
        "  plt.show()\n",
        "\n",
        "def plot_the_loss_curve(epochs, rmse):\n",
        "  \"\"\"Plot the loss curve, which shows loss vs. epoch.\"\"\"\n",
        "\n",
        "  plt.figure()\n",
        "  plt.xlabel(\"Epoch\")\n",
        "  plt.ylabel(\"Root Mean Squared Error\")\n",
        "\n",
        "  plt.plot(epochs, rmse, label=\"Loss\")\n",
        "  plt.legend()\n",
        "  plt.ylim([rmse.min()*0.97, rmse.max()])\n",
        "  plt.show()\n",
        "\n",
        "print(\"Defined the plot_the_model and plot_the_loss_curve functions\")\n",
        "\n"
      ],
      "metadata": {
        "colab": {
          "base_uri": "https://localhost:8080/"
        },
        "id": "aF7FhSwBFIFp",
        "outputId": "eb8eb8c6-748d-4c9d-dde7-3b1a81111aa1"
      },
      "execution_count": null,
      "outputs": [
        {
          "output_type": "stream",
          "name": "stdout",
          "text": [
            "Defined the plot_the_model and plot_the_loss_curve functions\n"
          ]
        }
      ]
    },
    {
      "cell_type": "code",
      "source": [
        "#Dataset\n",
        "my_feature = ([1.0, 2.0,  3.0,  4.0,  5.0,  6.0,  7.0,  8.0,  9.0, 10.0, 11.0, 12.0])\n",
        "my_label   = ([5.0, 8.8,  9.6, 14.2, 18.8, 19.5, 21.4, 26.8, 28.9, 32.0, 33.8, 38.2])"
      ],
      "metadata": {
        "id": "GAiXGwgJW4VL"
      },
      "execution_count": null,
      "outputs": []
    },
    {
      "cell_type": "code",
      "source": [
        "learning_rate=0.01\n",
        "epochs=10\n",
        "my_batch_size=12\n",
        "\n",
        "my_model = build_model(learning_rate)\n",
        "trained_weight, trained_bias, epochs, rmse = train_model(my_model, my_feature, \n",
        "                                                         my_label, epochs,\n",
        "                                                         my_batch_size)\n",
        "plot_the_model(trained_weight, trained_bias, my_feature, my_label)\n",
        "plot_the_loss_curve(epochs, rmse)"
      ],
      "metadata": {
        "colab": {
          "base_uri": "https://localhost:8080/",
          "height": 982
        },
        "id": "pW-BaL2KW4hU",
        "outputId": "8c2f5ef6-17f8-4b17-8a19-cf3d65984e6f"
      },
      "execution_count": null,
      "outputs": [
        {
          "output_type": "stream",
          "name": "stderr",
          "text": [
            "/usr/local/lib/python3.8/dist-packages/keras/optimizers/optimizer_v2/rmsprop.py:135: UserWarning: The `lr` argument is deprecated, use `learning_rate` instead.\n",
            "  super(RMSprop, self).__init__(name, **kwargs)\n"
          ]
        },
        {
          "output_type": "stream",
          "name": "stdout",
          "text": [
            "Epoch 1/10\n",
            "1/1 [==============================] - 1s 865ms/step - loss: 211.3573 - root_mean_squared_error: 14.5381\n",
            "Epoch 2/10\n",
            "1/1 [==============================] - 0s 10ms/step - loss: 203.8505 - root_mean_squared_error: 14.2776\n",
            "Epoch 3/10\n",
            "1/1 [==============================] - 0s 16ms/step - loss: 198.5358 - root_mean_squared_error: 14.0903\n",
            "Epoch 4/10\n",
            "1/1 [==============================] - 0s 12ms/step - loss: 194.1630 - root_mean_squared_error: 13.9342\n",
            "Epoch 5/10\n",
            "1/1 [==============================] - 0s 16ms/step - loss: 190.3375 - root_mean_squared_error: 13.7963\n",
            "Epoch 6/10\n",
            "1/1 [==============================] - 0s 10ms/step - loss: 186.8768 - root_mean_squared_error: 13.6703\n",
            "Epoch 7/10\n",
            "1/1 [==============================] - 0s 21ms/step - loss: 183.6796 - root_mean_squared_error: 13.5528\n",
            "Epoch 8/10\n",
            "1/1 [==============================] - 0s 10ms/step - loss: 180.6827 - root_mean_squared_error: 13.4418\n",
            "Epoch 9/10\n",
            "1/1 [==============================] - 0s 18ms/step - loss: 177.8441 - root_mean_squared_error: 13.3358\n",
            "Epoch 10/10\n",
            "1/1 [==============================] - 0s 20ms/step - loss: 175.1342 - root_mean_squared_error: 13.2338\n"
          ]
        },
        {
          "output_type": "stream",
          "name": "stderr",
          "text": [
            "/usr/local/lib/python3.8/dist-packages/numpy/core/shape_base.py:65: VisibleDeprecationWarning: Creating an ndarray from ragged nested sequences (which is a list-or-tuple of lists-or-tuples-or ndarrays with different lengths or shapes) is deprecated. If you meant to do this, you must specify 'dtype=object' when creating the ndarray.\n",
            "  ary = asanyarray(ary)\n"
          ]
        },
        {
          "output_type": "display_data",
          "data": {
            "text/plain": [
              "<Figure size 432x288 with 1 Axes>"
            ],
            "image/png": "[encoded data removed]"
          },
          "metadata": {
            "needs_background": "light"
          }
        },
        {
          "output_type": "display_data",
          "data": {
            "text/plain": [
              "<Figure size 432x288 with 1 Axes>"
            ],
            "image/png": "[encoded data removed]"
          },
          "metadata": {
            "needs_background": "light"
          }
        }
      ]
    },
    {
      "cell_type": "code",
      "source": [
        "#Increasing the number of epochs, can influence the converggence of the gradient descent annd can also cause overfitting of the training data\n",
        "\n",
        "learning_rate=0.1\n",
        "epochs=100   \n",
        "my_batch_size=12\n",
        "\n",
        "my_model = build_model(learning_rate)\n",
        "trained_weight, trained_bias, epochs, rmse = train_model(my_model, my_feature, \n",
        "                                                        my_label, epochs,\n",
        "                                                        my_batch_size)\n",
        "plot_the_model(trained_weight, trained_bias, my_feature, my_label)\n",
        "plot_the_loss_curve(epochs, rmse)"
      ],
      "metadata": {
        "colab": {
          "base_uri": "https://localhost:8080/",
          "height": 1000
        },
        "id": "xJzFhuRZW4kM",
        "outputId": "8d9ee21f-664e-453a-fccf-eb05d0ab2d7b"
      },
      "execution_count": null,
      "outputs": [
        {
          "output_type": "stream",
          "name": "stdout",
          "text": [
            "Epoch 1/100\n"
          ]
        },
        {
          "output_type": "stream",
          "name": "stderr",
          "text": [
            "/usr/local/lib/python3.8/dist-packages/keras/optimizers/optimizer_v2/rmsprop.py:135: UserWarning: The `lr` argument is deprecated, use `learning_rate` instead.\n",
            "  super(RMSprop, self).__init__(name, **kwargs)\n"
          ]
        },
        {
          "output_type": "stream",
          "name": "stdout",
          "text": [
            "1/1 [==============================] - 0s 317ms/step - loss: 220.8056 - root_mean_squared_error: 14.8595\n",
            "Epoch 2/100\n",
            "1/1 [==============================] - 0s 9ms/step - loss: 150.1892 - root_mean_squared_error: 12.2552\n",
            "Epoch 3/100\n",
            "1/1 [==============================] - 0s 9ms/step - loss: 111.2853 - root_mean_squared_error: 10.5492\n",
            "Epoch 4/100\n",
            "1/1 [==============================] - 0s 10ms/step - loss: 85.0358 - root_mean_squared_error: 9.2215\n",
            "Epoch 5/100\n",
            "1/1 [==============================] - 0s 8ms/step - loss: 65.8913 - root_mean_squared_error: 8.1173\n",
            "Epoch 6/100\n",
            "1/1 [==============================] - 0s 9ms/step - loss: 51.3713 - root_mean_squared_error: 7.1674\n",
            "Epoch 7/100\n",
            "1/1 [==============================] - 0s 7ms/step - loss: 40.1190 - root_mean_squared_error: 6.3340\n",
            "Epoch 8/100\n",
            "1/1 [==============================] - 0s 10ms/step - loss: 31.2959 - root_mean_squared_error: 5.5943\n",
            "Epoch 9/100\n",
            "1/1 [==============================] - 0s 9ms/step - loss: 24.3392 - root_mean_squared_error: 4.9335\n",
            "Epoch 10/100\n",
            "1/1 [==============================] - 0s 8ms/step - loss: 18.8479 - root_mean_squared_error: 4.3414\n",
            "Epoch 11/100\n",
            "1/1 [==============================] - 0s 9ms/step - loss: 14.5228 - root_mean_squared_error: 3.8109\n",
            "Epoch 12/100\n",
            "1/1 [==============================] - 0s 10ms/step - loss: 11.1330 - root_mean_squared_error: 3.3366\n",
            "Epoch 13/100\n",
            "1/1 [==============================] - 0s 12ms/step - loss: 8.4956 - root_mean_squared_error: 2.9147\n",
            "Epoch 14/100\n",
            "1/1 [==============================] - 0s 9ms/step - loss: 6.4629 - root_mean_squared_error: 2.5422\n",
            "Epoch 15/100\n",
            "1/1 [==============================] - 0s 8ms/step - loss: 4.9141 - root_mean_squared_error: 2.2168\n",
            "Epoch 16/100\n",
            "1/1 [==============================] - 0s 13ms/step - loss: 3.7495 - root_mean_squared_error: 1.9364\n",
            "Epoch 17/100\n",
            "1/1 [==============================] - 0s 9ms/step - loss: 2.8871 - root_mean_squared_error: 1.6991\n",
            "Epoch 18/100\n",
            "1/1 [==============================] - 0s 8ms/step - loss: 2.2592 - root_mean_squared_error: 1.5031\n",
            "Epoch 19/100\n",
            "1/1 [==============================] - 0s 10ms/step - loss: 1.8107 - root_mean_squared_error: 1.3456\n",
            "Epoch 20/100\n",
            "1/1 [==============================] - 0s 13ms/step - loss: 1.4968 - root_mean_squared_error: 1.2235\n",
            "Epoch 21/100\n",
            "1/1 [==============================] - 0s 9ms/step - loss: 1.2821 - root_mean_squared_error: 1.1323\n",
            "Epoch 22/100\n",
            "1/1 [==============================] - 0s 8ms/step - loss: 1.1388 - root_mean_squared_error: 1.0671\n",
            "Epoch 23/100\n",
            "1/1 [==============================] - 0s 8ms/step - loss: 1.0456 - root_mean_squared_error: 1.0225\n",
            "Epoch 24/100\n",
            "1/1 [==============================] - 0s 13ms/step - loss: 0.9867 - root_mean_squared_error: 0.9933\n",
            "Epoch 25/100\n",
            "1/1 [==============================] - 0s 8ms/step - loss: 0.9505 - root_mean_squared_error: 0.9749\n",
            "Epoch 26/100\n",
            "1/1 [==============================] - 0s 8ms/step - loss: 0.9289 - root_mean_squared_error: 0.9638\n",
            "Epoch 27/100\n",
            "1/1 [==============================] - 0s 8ms/step - loss: 0.9165 - root_mean_squared_error: 0.9573\n",
            "Epoch 28/100\n",
            "1/1 [==============================] - 0s 8ms/step - loss: 0.9094 - root_mean_squared_error: 0.9536\n",
            "Epoch 29/100\n",
            "1/1 [==============================] - 0s 7ms/step - loss: 0.9055 - root_mean_squared_error: 0.9516\n",
            "Epoch 30/100\n",
            "1/1 [==============================] - 0s 16ms/step - loss: 0.9033 - root_mean_squared_error: 0.9504\n",
            "Epoch 31/100\n",
            "1/1 [==============================] - 0s 10ms/step - loss: 0.9020 - root_mean_squared_error: 0.9498\n",
            "Epoch 32/100\n",
            "1/1 [==============================] - 0s 12ms/step - loss: 0.9012 - root_mean_squared_error: 0.9493\n",
            "Epoch 33/100\n",
            "1/1 [==============================] - 0s 8ms/step - loss: 0.9005 - root_mean_squared_error: 0.9489\n",
            "Epoch 34/100\n",
            "1/1 [==============================] - 0s 8ms/step - loss: 0.8999 - root_mean_squared_error: 0.9486\n",
            "Epoch 35/100\n",
            "1/1 [==============================] - 0s 9ms/step - loss: 0.8994 - root_mean_squared_error: 0.9483\n",
            "Epoch 36/100\n",
            "1/1 [==============================] - 0s 8ms/step - loss: 0.8988 - root_mean_squared_error: 0.9481\n",
            "Epoch 37/100\n",
            "1/1 [==============================] - 0s 8ms/step - loss: 0.8982 - root_mean_squared_error: 0.9478\n",
            "Epoch 38/100\n",
            "1/1 [==============================] - 0s 9ms/step - loss: 0.8976 - root_mean_squared_error: 0.9474\n",
            "Epoch 39/100\n",
            "1/1 [==============================] - 0s 7ms/step - loss: 0.8970 - root_mean_squared_error: 0.9471\n",
            "Epoch 40/100\n",
            "1/1 [==============================] - 0s 9ms/step - loss: 0.8964 - root_mean_squared_error: 0.9468\n",
            "Epoch 41/100\n",
            "1/1 [==============================] - 0s 12ms/step - loss: 0.8958 - root_mean_squared_error: 0.9465\n",
            "Epoch 42/100\n",
            "1/1 [==============================] - 0s 12ms/step - loss: 0.8952 - root_mean_squared_error: 0.9461\n",
            "Epoch 43/100\n",
            "1/1 [==============================] - 0s 10ms/step - loss: 0.8945 - root_mean_squared_error: 0.9458\n",
            "Epoch 44/100\n",
            "1/1 [==============================] - 0s 14ms/step - loss: 0.8938 - root_mean_squared_error: 0.9454\n",
            "Epoch 45/100\n",
            "1/1 [==============================] - 0s 8ms/step - loss: 0.8932 - root_mean_squared_error: 0.9451\n",
            "Epoch 46/100\n",
            "1/1 [==============================] - 0s 12ms/step - loss: 0.8925 - root_mean_squared_error: 0.9447\n",
            "Epoch 47/100\n",
            "1/1 [==============================] - 0s 11ms/step - loss: 0.8918 - root_mean_squared_error: 0.9443\n",
            "Epoch 48/100\n",
            "1/1 [==============================] - 0s 9ms/step - loss: 0.8911 - root_mean_squared_error: 0.9440\n",
            "Epoch 49/100\n",
            "1/1 [==============================] - 0s 9ms/step - loss: 0.8903 - root_mean_squared_error: 0.9436\n",
            "Epoch 50/100\n",
            "1/1 [==============================] - 0s 9ms/step - loss: 0.8896 - root_mean_squared_error: 0.9432\n",
            "Epoch 51/100\n",
            "1/1 [==============================] - 0s 7ms/step - loss: 0.8889 - root_mean_squared_error: 0.9428\n",
            "Epoch 52/100\n",
            "1/1 [==============================] - 0s 7ms/step - loss: 0.8882 - root_mean_squared_error: 0.9424\n",
            "Epoch 53/100\n",
            "1/1 [==============================] - 0s 9ms/step - loss: 0.8875 - root_mean_squared_error: 0.9421\n",
            "Epoch 54/100\n",
            "1/1 [==============================] - 0s 9ms/step - loss: 0.8867 - root_mean_squared_error: 0.9417\n",
            "Epoch 55/100\n",
            "1/1 [==============================] - 0s 9ms/step - loss: 0.8860 - root_mean_squared_error: 0.9413\n",
            "Epoch 56/100\n",
            "1/1 [==============================] - 0s 9ms/step - loss: 0.8853 - root_mean_squared_error: 0.9409\n",
            "Epoch 57/100\n",
            "1/1 [==============================] - 0s 14ms/step - loss: 0.8846 - root_mean_squared_error: 0.9406\n",
            "Epoch 58/100\n",
            "1/1 [==============================] - 0s 9ms/step - loss: 0.8840 - root_mean_squared_error: 0.9402\n",
            "Epoch 59/100\n",
            "1/1 [==============================] - 0s 9ms/step - loss: 0.8833 - root_mean_squared_error: 0.9398\n",
            "Epoch 60/100\n",
            "1/1 [==============================] - 0s 9ms/step - loss: 0.8827 - root_mean_squared_error: 0.9395\n",
            "Epoch 61/100\n",
            "1/1 [==============================] - 0s 8ms/step - loss: 0.8820 - root_mean_squared_error: 0.9392\n",
            "Epoch 62/100\n",
            "1/1 [==============================] - 0s 8ms/step - loss: 0.8814 - root_mean_squared_error: 0.9388\n",
            "Epoch 63/100\n",
            "1/1 [==============================] - 0s 14ms/step - loss: 0.8808 - root_mean_squared_error: 0.9385\n",
            "Epoch 64/100\n",
            "1/1 [==============================] - 0s 10ms/step - loss: 0.8803 - root_mean_squared_error: 0.9382\n",
            "Epoch 65/100\n",
            "1/1 [==============================] - 0s 8ms/step - loss: 0.8798 - root_mean_squared_error: 0.9380\n",
            "Epoch 66/100\n",
            "1/1 [==============================] - 0s 9ms/step - loss: 0.8793 - root_mean_squared_error: 0.9377\n",
            "Epoch 67/100\n",
            "1/1 [==============================] - 0s 10ms/step - loss: 0.8788 - root_mean_squared_error: 0.9374\n",
            "Epoch 68/100\n",
            "1/1 [==============================] - 0s 11ms/step - loss: 0.8784 - root_mean_squared_error: 0.9372\n",
            "Epoch 69/100\n",
            "1/1 [==============================] - 0s 10ms/step - loss: 0.8779 - root_mean_squared_error: 0.9370\n",
            "Epoch 70/100\n",
            "1/1 [==============================] - 0s 11ms/step - loss: 0.8776 - root_mean_squared_error: 0.9368\n",
            "Epoch 71/100\n",
            "1/1 [==============================] - 0s 9ms/step - loss: 0.8772 - root_mean_squared_error: 0.9366\n",
            "Epoch 72/100\n",
            "1/1 [==============================] - 0s 10ms/step - loss: 0.8769 - root_mean_squared_error: 0.9364\n",
            "Epoch 73/100\n",
            "1/1 [==============================] - 0s 7ms/step - loss: 0.8767 - root_mean_squared_error: 0.9363\n",
            "Epoch 74/100\n",
            "1/1 [==============================] - 0s 8ms/step - loss: 0.8764 - root_mean_squared_error: 0.9362\n",
            "Epoch 75/100\n",
            "1/1 [==============================] - 0s 15ms/step - loss: 0.8762 - root_mean_squared_error: 0.9360\n",
            "Epoch 76/100\n",
            "1/1 [==============================] - 0s 9ms/step - loss: 0.8760 - root_mean_squared_error: 0.9359\n",
            "Epoch 77/100\n",
            "1/1 [==============================] - 0s 8ms/step - loss: 0.8758 - root_mean_squared_error: 0.9359\n",
            "Epoch 78/100\n",
            "1/1 [==============================] - 0s 8ms/step - loss: 0.8759 - root_mean_squared_error: 0.9359\n",
            "Epoch 79/100\n",
            "1/1 [==============================] - 0s 8ms/step - loss: 0.8773 - root_mean_squared_error: 0.9366\n",
            "Epoch 80/100\n",
            "1/1 [==============================] - 0s 8ms/step - loss: 0.8960 - root_mean_squared_error: 0.9466\n",
            "Epoch 81/100\n",
            "1/1 [==============================] - 0s 8ms/step - loss: 1.1368 - root_mean_squared_error: 1.0662\n",
            "Epoch 82/100\n",
            "1/1 [==============================] - 0s 8ms/step - loss: 2.5144 - root_mean_squared_error: 1.5857\n",
            "Epoch 83/100\n",
            "1/1 [==============================] - 0s 9ms/step - loss: 1.8862 - root_mean_squared_error: 1.3734\n",
            "Epoch 84/100\n",
            "1/1 [==============================] - 0s 9ms/step - loss: 1.1527 - root_mean_squared_error: 1.0736\n",
            "Epoch 85/100\n",
            "1/1 [==============================] - 0s 11ms/step - loss: 0.9527 - root_mean_squared_error: 0.9760\n",
            "Epoch 86/100\n",
            "1/1 [==============================] - 0s 8ms/step - loss: 0.9020 - root_mean_squared_error: 0.9497\n",
            "Epoch 87/100\n",
            "1/1 [==============================] - 0s 8ms/step - loss: 0.8871 - root_mean_squared_error: 0.9418\n",
            "Epoch 88/100\n",
            "1/1 [==============================] - 0s 9ms/step - loss: 0.8819 - root_mean_squared_error: 0.9391\n",
            "Epoch 89/100\n",
            "1/1 [==============================] - 0s 8ms/step - loss: 0.8799 - root_mean_squared_error: 0.9381\n",
            "Epoch 90/100\n",
            "1/1 [==============================] - 0s 15ms/step - loss: 0.8794 - root_mean_squared_error: 0.9377\n",
            "Epoch 91/100\n",
            "1/1 [==============================] - 0s 9ms/step - loss: 0.8797 - root_mean_squared_error: 0.9379\n",
            "Epoch 92/100\n",
            "1/1 [==============================] - 0s 10ms/step - loss: 0.8811 - root_mean_squared_error: 0.9387\n",
            "Epoch 93/100\n",
            "1/1 [==============================] - 0s 9ms/step - loss: 0.8845 - root_mean_squared_error: 0.9405\n",
            "Epoch 94/100\n",
            "1/1 [==============================] - 0s 9ms/step - loss: 0.8927 - root_mean_squared_error: 0.9449\n",
            "Epoch 95/100\n",
            "1/1 [==============================] - 0s 8ms/step - loss: 0.9137 - root_mean_squared_error: 0.9559\n",
            "Epoch 96/100\n",
            "1/1 [==============================] - 0s 12ms/step - loss: 0.9695 - root_mean_squared_error: 0.9846\n",
            "Epoch 97/100\n",
            "1/1 [==============================] - 0s 10ms/step - loss: 1.1097 - root_mean_squared_error: 1.0534\n",
            "Epoch 98/100\n",
            "1/1 [==============================] - 0s 10ms/step - loss: 1.3520 - root_mean_squared_error: 1.1627\n",
            "Epoch 99/100\n",
            "1/1 [==============================] - 0s 8ms/step - loss: 1.4714 - root_mean_squared_error: 1.2130\n",
            "Epoch 100/100\n",
            "1/1 [==============================] - 0s 8ms/step - loss: 1.3195 - root_mean_squared_error: 1.1487\n"
          ]
        },
        {
          "output_type": "stream",
          "name": "stderr",
          "text": [
            "/usr/local/lib/python3.8/dist-packages/numpy/core/shape_base.py:65: VisibleDeprecationWarning: Creating an ndarray from ragged nested sequences (which is a list-or-tuple of lists-or-tuples-or ndarrays with different lengths or shapes) is deprecated. If you meant to do this, you must specify 'dtype=object' when creating the ndarray.\n",
            "  ary = asanyarray(ary)\n"
          ]
        },
        {
          "output_type": "display_data",
          "data": {
            "text/plain": [
              "<Figure size 432x288 with 1 Axes>"
            ],
            "image/png": "[encoded data removed]"
          },
          "metadata": {
            "needs_background": "light"
          }
        },
        {
          "output_type": "display_data",
          "data": {
            "text/plain": [
              "<Figure size 432x288 with 1 Axes>"
            ],
            "image/png": "[encoded data removed]"
          },
          "metadata": {
            "needs_background": "light"
          }
        }
      ]
    },
    {
      "cell_type": "markdown",
      "source": [
        "#NB!  This model coverges when additional trainning doesnt improve it, so from the graph above, the number of epoch from 40 to 100 doesnt see ay significant change."
      ],
      "metadata": {
        "id": "75BFj_Lq8S6J"
      }
    },
    {
      "cell_type": "code",
      "source": [
        "#Increase the learning rate\n",
        "\n",
        "learning_rate=0.30\n",
        "epochs=10\n",
        "\n",
        "my_model = build_model(learning_rate)\n",
        "\n",
        "trained_weight, trained_bias, epochs, rmse = train_model(my_model, my_feature, my_label, epochs,\n",
        "                                                         my_batch_size)\n",
        "plot_the_model(trained_weight, trained_bias, my_feature, my_label)\n",
        "plot_the_loss_curve(epochs, rmse)"
      ],
      "metadata": {
        "colab": {
          "base_uri": "https://localhost:8080/",
          "height": 978
        },
        "id": "HnczZ12NW4qu",
        "outputId": "e1ae8186-70b9-47d3-ba4f-334ee91089a9"
      },
      "execution_count": null,
      "outputs": [
        {
          "output_type": "stream",
          "name": "stdout",
          "text": [
            "Epoch 1/10\n"
          ]
        },
        {
          "output_type": "stream",
          "name": "stderr",
          "text": [
            "/usr/local/lib/python3.8/dist-packages/keras/optimizers/optimizer_v2/rmsprop.py:135: UserWarning: The `lr` argument is deprecated, use `learning_rate` instead.\n",
            "  super(RMSprop, self).__init__(name, **kwargs)\n"
          ]
        },
        {
          "output_type": "stream",
          "name": "stdout",
          "text": [
            "1/1 [==============================] - 0s 307ms/step - loss: 467.2649 - root_mean_squared_error: 21.6163\n",
            "Epoch 2/10\n",
            "1/1 [==============================] - 0s 10ms/step - loss: 190.3225 - root_mean_squared_error: 13.7957\n",
            "Epoch 3/10\n",
            "1/1 [==============================] - 0s 9ms/step - loss: 89.1786 - root_mean_squared_error: 9.4434\n",
            "Epoch 4/10\n",
            "1/1 [==============================] - 0s 15ms/step - loss: 42.8809 - root_mean_squared_error: 6.5484\n",
            "Epoch 5/10\n",
            "1/1 [==============================] - 0s 9ms/step - loss: 20.5555 - root_mean_squared_error: 4.5338\n",
            "Epoch 6/10\n",
            "1/1 [==============================] - 0s 8ms/step - loss: 9.8050 - root_mean_squared_error: 3.1313\n",
            "Epoch 7/10\n",
            "1/1 [==============================] - 0s 10ms/step - loss: 4.7640 - root_mean_squared_error: 2.1827\n",
            "Epoch 8/10\n",
            "1/1 [==============================] - 0s 9ms/step - loss: 2.4958 - root_mean_squared_error: 1.5798\n",
            "Epoch 9/10\n",
            "1/1 [==============================] - 0s 9ms/step - loss: 1.5261 - root_mean_squared_error: 1.2353\n",
            "Epoch 10/10\n",
            "1/1 [==============================] - 0s 9ms/step - loss: 1.1350 - root_mean_squared_error: 1.0654\n"
          ]
        },
        {
          "output_type": "stream",
          "name": "stderr",
          "text": [
            "/usr/local/lib/python3.8/dist-packages/numpy/core/shape_base.py:65: VisibleDeprecationWarning: Creating an ndarray from ragged nested sequences (which is a list-or-tuple of lists-or-tuples-or ndarrays with different lengths or shapes) is deprecated. If you meant to do this, you must specify 'dtype=object' when creating the ndarray.\n",
            "  ary = asanyarray(ary)\n"
          ]
        },
        {
          "output_type": "display_data",
          "data": {
            "text/plain": [
              "<Figure size 432x288 with 1 Axes>"
            ],
            "image/png": "[encoded data removed]"
          },
          "metadata": {
            "needs_background": "light"
          }
        },
        {
          "output_type": "display_data",
          "data": {
            "text/plain": [
              "<Figure size 432x288 with 1 Axes>"
            ],
            "image/png": "[encoded data removed]"
          },
          "metadata": {
            "needs_background": "light"
          }
        }
      ]
    },
    {
      "cell_type": "markdown",
      "source": [
        "#Increasing the learning rate to an optimal value makes influences the coverges of the model under less epoch"
      ],
      "metadata": {
        "id": "-Fanqdpr98qK"
      }
    },
    {
      "cell_type": "code",
      "source": [
        "#@title Double-click to view a possible solution\n",
        "\n",
        "learning_rate=0.05\n",
        "epochs=125\n",
        "my_batch_size=1 # Wow, a batch size of 1 works!\n",
        "\n",
        "my_model = build_model(learning_rate)\n",
        "trained_weight, trained_bias, epochs, rmse = train_model(my_model, my_feature, \n",
        "                                                         my_label, epochs,\n",
        "                                                         my_batch_size)\n",
        "plot_the_model(trained_weight, trained_bias, my_feature, my_label)\n",
        "plot_the_loss_curve(epochs, rmse)"
      ],
      "metadata": {
        "colab": {
          "base_uri": "https://localhost:8080/",
          "height": 1000
        },
        "id": "WQbes0MrW4w7",
        "outputId": "122d5e09-c295-4986-89b2-b2d6eede219d"
      },
      "execution_count": null,
      "outputs": [
        {
          "output_type": "stream",
          "name": "stdout",
          "text": [
            "Epoch 1/125\n"
          ]
        },
        {
          "output_type": "stream",
          "name": "stderr",
          "text": [
            "/usr/local/lib/python3.8/dist-packages/keras/optimizers/optimizer_v2/rmsprop.py:135: UserWarning: The `lr` argument is deprecated, use `learning_rate` instead.\n",
            "  super(RMSprop, self).__init__(name, **kwargs)\n"
          ]
        },
        {
          "output_type": "stream",
          "name": "stdout",
          "text": [
            "12/12 [==============================] - 0s 2ms/step - loss: 406.6465 - root_mean_squared_error: 20.1655\n",
            "Epoch 2/125\n",
            "12/12 [==============================] - 0s 2ms/step - loss: 245.6308 - root_mean_squared_error: 15.6726\n",
            "Epoch 3/125\n",
            "12/12 [==============================] - 0s 2ms/step - loss: 144.5089 - root_mean_squared_error: 12.0212\n",
            "Epoch 4/125\n",
            "12/12 [==============================] - 0s 2ms/step - loss: 81.9564 - root_mean_squared_error: 9.0530\n",
            "Epoch 5/125\n",
            "12/12 [==============================] - 0s 2ms/step - loss: 41.7195 - root_mean_squared_error: 6.4591\n",
            "Epoch 6/125\n",
            "12/12 [==============================] - 0s 2ms/step - loss: 15.2411 - root_mean_squared_error: 3.9040\n",
            "Epoch 7/125\n",
            "12/12 [==============================] - 0s 1ms/step - loss: 3.7627 - root_mean_squared_error: 1.9398\n",
            "Epoch 8/125\n",
            "12/12 [==============================] - 0s 2ms/step - loss: 1.4196 - root_mean_squared_error: 1.1915\n",
            "Epoch 9/125\n",
            "12/12 [==============================] - 0s 2ms/step - loss: 1.2832 - root_mean_squared_error: 1.1328\n",
            "Epoch 10/125\n",
            "12/12 [==============================] - 0s 2ms/step - loss: 1.2011 - root_mean_squared_error: 1.0959\n",
            "Epoch 11/125\n",
            "12/12 [==============================] - 0s 2ms/step - loss: 1.4560 - root_mean_squared_error: 1.2066\n",
            "Epoch 12/125\n",
            "12/12 [==============================] - 0s 2ms/step - loss: 1.3075 - root_mean_squared_error: 1.1434\n",
            "Epoch 13/125\n",
            "12/12 [==============================] - 0s 2ms/step - loss: 1.2369 - root_mean_squared_error: 1.1122\n",
            "Epoch 14/125\n",
            "12/12 [==============================] - 0s 2ms/step - loss: 1.1771 - root_mean_squared_error: 1.0849\n",
            "Epoch 15/125\n",
            "12/12 [==============================] - 0s 2ms/step - loss: 1.1199 - root_mean_squared_error: 1.0583\n",
            "Epoch 16/125\n",
            "12/12 [==============================] - 0s 2ms/step - loss: 0.9713 - root_mean_squared_error: 0.9855\n",
            "Epoch 17/125\n",
            "12/12 [==============================] - 0s 1ms/step - loss: 1.0538 - root_mean_squared_error: 1.0265\n",
            "Epoch 18/125\n",
            "12/12 [==============================] - 0s 2ms/step - loss: 1.1591 - root_mean_squared_error: 1.0766\n",
            "Epoch 19/125\n",
            "12/12 [==============================] - 0s 2ms/step - loss: 1.1080 - root_mean_squared_error: 1.0526\n",
            "Epoch 20/125\n",
            "12/12 [==============================] - 0s 2ms/step - loss: 1.2004 - root_mean_squared_error: 1.0956\n",
            "Epoch 21/125\n",
            "12/12 [==============================] - 0s 2ms/step - loss: 1.1364 - root_mean_squared_error: 1.0660\n",
            "Epoch 22/125\n",
            "12/12 [==============================] - 0s 1ms/step - loss: 1.1087 - root_mean_squared_error: 1.0530\n",
            "Epoch 23/125\n",
            "12/12 [==============================] - 0s 2ms/step - loss: 1.0751 - root_mean_squared_error: 1.0369\n",
            "Epoch 24/125\n",
            "12/12 [==============================] - 0s 2ms/step - loss: 1.3025 - root_mean_squared_error: 1.1413\n",
            "Epoch 25/125\n",
            "12/12 [==============================] - 0s 2ms/step - loss: 1.2475 - root_mean_squared_error: 1.1169\n",
            "Epoch 26/125\n",
            "12/12 [==============================] - 0s 2ms/step - loss: 0.8501 - root_mean_squared_error: 0.9220\n",
            "Epoch 27/125\n",
            "12/12 [==============================] - 0s 2ms/step - loss: 1.2335 - root_mean_squared_error: 1.1106\n",
            "Epoch 28/125\n",
            "12/12 [==============================] - 0s 2ms/step - loss: 1.0474 - root_mean_squared_error: 1.0234\n",
            "Epoch 29/125\n",
            "12/12 [==============================] - 0s 2ms/step - loss: 1.2953 - root_mean_squared_error: 1.1381\n",
            "Epoch 30/125\n",
            "12/12 [==============================] - 0s 2ms/step - loss: 0.9823 - root_mean_squared_error: 0.9911\n",
            "Epoch 31/125\n",
            "12/12 [==============================] - 0s 2ms/step - loss: 1.2653 - root_mean_squared_error: 1.1248\n",
            "Epoch 32/125\n",
            "12/12 [==============================] - 0s 2ms/step - loss: 1.0310 - root_mean_squared_error: 1.0154\n",
            "Epoch 33/125\n",
            "12/12 [==============================] - 0s 2ms/step - loss: 0.9623 - root_mean_squared_error: 0.9810\n",
            "Epoch 34/125\n",
            "12/12 [==============================] - 0s 2ms/step - loss: 0.9753 - root_mean_squared_error: 0.9876\n",
            "Epoch 35/125\n",
            "12/12 [==============================] - 0s 2ms/step - loss: 1.1822 - root_mean_squared_error: 1.0873\n",
            "Epoch 36/125\n",
            "12/12 [==============================] - 0s 2ms/step - loss: 0.9351 - root_mean_squared_error: 0.9670\n",
            "Epoch 37/125\n",
            "12/12 [==============================] - 0s 2ms/step - loss: 1.0968 - root_mean_squared_error: 1.0473\n",
            "Epoch 38/125\n",
            "12/12 [==============================] - 0s 2ms/step - loss: 1.2790 - root_mean_squared_error: 1.1309\n",
            "Epoch 39/125\n",
            "12/12 [==============================] - 0s 2ms/step - loss: 1.1355 - root_mean_squared_error: 1.0656\n",
            "Epoch 40/125\n",
            "12/12 [==============================] - 0s 2ms/step - loss: 1.1376 - root_mean_squared_error: 1.0666\n",
            "Epoch 41/125\n",
            "12/12 [==============================] - 0s 2ms/step - loss: 1.1233 - root_mean_squared_error: 1.0598\n",
            "Epoch 42/125\n",
            "12/12 [==============================] - 0s 2ms/step - loss: 1.1077 - root_mean_squared_error: 1.0525\n",
            "Epoch 43/125\n",
            "12/12 [==============================] - 0s 2ms/step - loss: 1.2653 - root_mean_squared_error: 1.1249\n",
            "Epoch 44/125\n",
            "12/12 [==============================] - 0s 3ms/step - loss: 1.2321 - root_mean_squared_error: 1.1100\n",
            "Epoch 45/125\n",
            "12/12 [==============================] - 0s 2ms/step - loss: 1.0966 - root_mean_squared_error: 1.0472\n",
            "Epoch 46/125\n",
            "12/12 [==============================] - 0s 2ms/step - loss: 1.3094 - root_mean_squared_error: 1.1443\n",
            "Epoch 47/125\n",
            "12/12 [==============================] - 0s 2ms/step - loss: 1.1176 - root_mean_squared_error: 1.0572\n",
            "Epoch 48/125\n",
            "12/12 [==============================] - 0s 2ms/step - loss: 1.2086 - root_mean_squared_error: 1.0993\n",
            "Epoch 49/125\n",
            "12/12 [==============================] - 0s 2ms/step - loss: 1.1267 - root_mean_squared_error: 1.0615\n",
            "Epoch 50/125\n",
            "12/12 [==============================] - 0s 2ms/step - loss: 1.2192 - root_mean_squared_error: 1.1042\n",
            "Epoch 51/125\n",
            "12/12 [==============================] - 0s 2ms/step - loss: 1.1278 - root_mean_squared_error: 1.0620\n",
            "Epoch 52/125\n",
            "12/12 [==============================] - 0s 2ms/step - loss: 1.0233 - root_mean_squared_error: 1.0116\n",
            "Epoch 53/125\n",
            "12/12 [==============================] - 0s 2ms/step - loss: 0.9935 - root_mean_squared_error: 0.9968\n",
            "Epoch 54/125\n",
            "12/12 [==============================] - 0s 3ms/step - loss: 1.2189 - root_mean_squared_error: 1.1040\n",
            "Epoch 55/125\n",
            "12/12 [==============================] - 0s 2ms/step - loss: 1.2231 - root_mean_squared_error: 1.1060\n",
            "Epoch 56/125\n",
            "12/12 [==============================] - 0s 2ms/step - loss: 0.9816 - root_mean_squared_error: 0.9907\n",
            "Epoch 57/125\n",
            "12/12 [==============================] - 0s 3ms/step - loss: 1.0229 - root_mean_squared_error: 1.0114\n",
            "Epoch 58/125\n",
            "12/12 [==============================] - 0s 2ms/step - loss: 1.1309 - root_mean_squared_error: 1.0634\n",
            "Epoch 59/125\n",
            "12/12 [==============================] - 0s 3ms/step - loss: 1.1453 - root_mean_squared_error: 1.0702\n",
            "Epoch 60/125\n",
            "12/12 [==============================] - 0s 3ms/step - loss: 1.2161 - root_mean_squared_error: 1.1028\n",
            "Epoch 61/125\n",
            "12/12 [==============================] - 0s 2ms/step - loss: 1.2532 - root_mean_squared_error: 1.1194\n",
            "Epoch 62/125\n",
            "12/12 [==============================] - 0s 3ms/step - loss: 1.1895 - root_mean_squared_error: 1.0907\n",
            "Epoch 63/125\n",
            "12/12 [==============================] - 0s 2ms/step - loss: 1.1116 - root_mean_squared_error: 1.0543\n",
            "Epoch 64/125\n",
            "12/12 [==============================] - 0s 2ms/step - loss: 1.1285 - root_mean_squared_error: 1.0623\n",
            "Epoch 65/125\n",
            "12/12 [==============================] - 0s 2ms/step - loss: 1.0907 - root_mean_squared_error: 1.0444\n",
            "Epoch 66/125\n",
            "12/12 [==============================] - 0s 2ms/step - loss: 1.1596 - root_mean_squared_error: 1.0768\n",
            "Epoch 67/125\n",
            "12/12 [==============================] - 0s 2ms/step - loss: 1.2466 - root_mean_squared_error: 1.1165\n",
            "Epoch 68/125\n",
            "12/12 [==============================] - 0s 2ms/step - loss: 1.2870 - root_mean_squared_error: 1.1345\n",
            "Epoch 69/125\n",
            "12/12 [==============================] - 0s 3ms/step - loss: 1.1886 - root_mean_squared_error: 1.0902\n",
            "Epoch 70/125\n",
            "12/12 [==============================] - 0s 4ms/step - loss: 1.0169 - root_mean_squared_error: 1.0084\n",
            "Epoch 71/125\n",
            "12/12 [==============================] - 0s 2ms/step - loss: 1.1646 - root_mean_squared_error: 1.0792\n",
            "Epoch 72/125\n",
            "12/12 [==============================] - 0s 2ms/step - loss: 1.1700 - root_mean_squared_error: 1.0816\n",
            "Epoch 73/125\n",
            "12/12 [==============================] - 0s 2ms/step - loss: 1.0656 - root_mean_squared_error: 1.0323\n",
            "Epoch 74/125\n",
            "12/12 [==============================] - 0s 3ms/step - loss: 1.1170 - root_mean_squared_error: 1.0569\n",
            "Epoch 75/125\n",
            "12/12 [==============================] - 0s 2ms/step - loss: 1.1242 - root_mean_squared_error: 1.0603\n",
            "Epoch 76/125\n",
            "12/12 [==============================] - 0s 3ms/step - loss: 1.1723 - root_mean_squared_error: 1.0827\n",
            "Epoch 77/125\n",
            "12/12 [==============================] - 0s 2ms/step - loss: 0.9308 - root_mean_squared_error: 0.9648\n",
            "Epoch 78/125\n",
            "12/12 [==============================] - 0s 3ms/step - loss: 0.8384 - root_mean_squared_error: 0.9156\n",
            "Epoch 79/125\n",
            "12/12 [==============================] - 0s 2ms/step - loss: 1.2291 - root_mean_squared_error: 1.1087\n",
            "Epoch 80/125\n",
            "12/12 [==============================] - 0s 2ms/step - loss: 0.8713 - root_mean_squared_error: 0.9334\n",
            "Epoch 81/125\n",
            "12/12 [==============================] - 0s 2ms/step - loss: 1.1845 - root_mean_squared_error: 1.0884\n",
            "Epoch 82/125\n",
            "12/12 [==============================] - 0s 2ms/step - loss: 1.0671 - root_mean_squared_error: 1.0330\n",
            "Epoch 83/125\n",
            "12/12 [==============================] - 0s 2ms/step - loss: 1.2504 - root_mean_squared_error: 1.1182\n",
            "Epoch 84/125\n",
            "12/12 [==============================] - 0s 2ms/step - loss: 1.1689 - root_mean_squared_error: 1.0812\n",
            "Epoch 85/125\n",
            "12/12 [==============================] - 0s 3ms/step - loss: 1.1459 - root_mean_squared_error: 1.0705\n",
            "Epoch 86/125\n",
            "12/12 [==============================] - 0s 3ms/step - loss: 1.3076 - root_mean_squared_error: 1.1435\n",
            "Epoch 87/125\n",
            "12/12 [==============================] - 0s 2ms/step - loss: 1.1337 - root_mean_squared_error: 1.0647\n",
            "Epoch 88/125\n",
            "12/12 [==============================] - 0s 2ms/step - loss: 1.2128 - root_mean_squared_error: 1.1013\n",
            "Epoch 89/125\n",
            "12/12 [==============================] - 0s 3ms/step - loss: 1.1408 - root_mean_squared_error: 1.0681\n",
            "Epoch 90/125\n",
            "12/12 [==============================] - 0s 2ms/step - loss: 1.1166 - root_mean_squared_error: 1.0567\n",
            "Epoch 91/125\n",
            "12/12 [==============================] - 0s 2ms/step - loss: 1.0549 - root_mean_squared_error: 1.0271\n",
            "Epoch 92/125\n",
            "12/12 [==============================] - 0s 4ms/step - loss: 1.0398 - root_mean_squared_error: 1.0197\n",
            "Epoch 93/125\n",
            "12/12 [==============================] - 0s 2ms/step - loss: 0.9923 - root_mean_squared_error: 0.9961\n",
            "Epoch 94/125\n",
            "12/12 [==============================] - 0s 2ms/step - loss: 1.1787 - root_mean_squared_error: 1.0857\n",
            "Epoch 95/125\n",
            "12/12 [==============================] - 0s 2ms/step - loss: 1.3321 - root_mean_squared_error: 1.1542\n",
            "Epoch 96/125\n",
            "12/12 [==============================] - 0s 2ms/step - loss: 1.1806 - root_mean_squared_error: 1.0866\n",
            "Epoch 97/125\n",
            "12/12 [==============================] - 0s 2ms/step - loss: 1.2008 - root_mean_squared_error: 1.0958\n",
            "Epoch 98/125\n",
            "12/12 [==============================] - 0s 2ms/step - loss: 0.9524 - root_mean_squared_error: 0.9759\n",
            "Epoch 99/125\n",
            "12/12 [==============================] - 0s 2ms/step - loss: 1.3323 - root_mean_squared_error: 1.1543\n",
            "Epoch 100/125\n",
            "12/12 [==============================] - 0s 2ms/step - loss: 1.1568 - root_mean_squared_error: 1.0756\n",
            "Epoch 101/125\n",
            "12/12 [==============================] - 0s 1ms/step - loss: 1.1041 - root_mean_squared_error: 1.0508\n",
            "Epoch 102/125\n",
            "12/12 [==============================] - 0s 2ms/step - loss: 1.2582 - root_mean_squared_error: 1.1217\n",
            "Epoch 103/125\n",
            "12/12 [==============================] - 0s 2ms/step - loss: 1.1595 - root_mean_squared_error: 1.0768\n",
            "Epoch 104/125\n",
            "12/12 [==============================] - 0s 2ms/step - loss: 1.1810 - root_mean_squared_error: 1.0867\n",
            "Epoch 105/125\n",
            "12/12 [==============================] - 0s 2ms/step - loss: 1.1184 - root_mean_squared_error: 1.0575\n",
            "Epoch 106/125\n",
            "12/12 [==============================] - 0s 2ms/step - loss: 1.2357 - root_mean_squared_error: 1.1116\n",
            "Epoch 107/125\n",
            "12/12 [==============================] - 0s 2ms/step - loss: 1.2294 - root_mean_squared_error: 1.1088\n",
            "Epoch 108/125\n",
            "12/12 [==============================] - 0s 2ms/step - loss: 1.0157 - root_mean_squared_error: 1.0078\n",
            "Epoch 109/125\n",
            "12/12 [==============================] - 0s 2ms/step - loss: 1.1231 - root_mean_squared_error: 1.0598\n",
            "Epoch 110/125\n",
            "12/12 [==============================] - 0s 2ms/step - loss: 1.1095 - root_mean_squared_error: 1.0534\n",
            "Epoch 111/125\n",
            "12/12 [==============================] - 0s 2ms/step - loss: 1.1204 - root_mean_squared_error: 1.0585\n",
            "Epoch 112/125\n",
            "12/12 [==============================] - 0s 2ms/step - loss: 1.2773 - root_mean_squared_error: 1.1302\n",
            "Epoch 113/125\n",
            "12/12 [==============================] - 0s 3ms/step - loss: 1.1196 - root_mean_squared_error: 1.0581\n",
            "Epoch 114/125\n",
            "12/12 [==============================] - 0s 2ms/step - loss: 1.1970 - root_mean_squared_error: 1.0941\n",
            "Epoch 115/125\n",
            "12/12 [==============================] - 0s 1ms/step - loss: 1.1635 - root_mean_squared_error: 1.0787\n",
            "Epoch 116/125\n",
            "12/12 [==============================] - 0s 2ms/step - loss: 1.2466 - root_mean_squared_error: 1.1165\n",
            "Epoch 117/125\n",
            "12/12 [==============================] - 0s 2ms/step - loss: 1.2259 - root_mean_squared_error: 1.1072\n",
            "Epoch 118/125\n",
            "12/12 [==============================] - 0s 2ms/step - loss: 1.2242 - root_mean_squared_error: 1.1064\n",
            "Epoch 119/125\n",
            "12/12 [==============================] - 0s 2ms/step - loss: 1.1314 - root_mean_squared_error: 1.0637\n",
            "Epoch 120/125\n",
            "12/12 [==============================] - 0s 2ms/step - loss: 1.1198 - root_mean_squared_error: 1.0582\n",
            "Epoch 121/125\n",
            "12/12 [==============================] - 0s 2ms/step - loss: 1.2778 - root_mean_squared_error: 1.1304\n",
            "Epoch 122/125\n",
            "12/12 [==============================] - 0s 2ms/step - loss: 1.1323 - root_mean_squared_error: 1.0641\n",
            "Epoch 123/125\n",
            "12/12 [==============================] - 0s 2ms/step - loss: 1.1965 - root_mean_squared_error: 1.0939\n",
            "Epoch 124/125\n",
            "12/12 [==============================] - 0s 2ms/step - loss: 1.2272 - root_mean_squared_error: 1.1078\n",
            "Epoch 125/125\n",
            "12/12 [==============================] - 0s 2ms/step - loss: 1.1498 - root_mean_squared_error: 1.0723\n"
          ]
        },
        {
          "output_type": "stream",
          "name": "stderr",
          "text": [
            "/usr/local/lib/python3.8/dist-packages/numpy/core/shape_base.py:65: VisibleDeprecationWarning: Creating an ndarray from ragged nested sequences (which is a list-or-tuple of lists-or-tuples-or ndarrays with different lengths or shapes) is deprecated. If you meant to do this, you must specify 'dtype=object' when creating the ndarray.\n",
            "  ary = asanyarray(ary)\n"
          ]
        },
        {
          "output_type": "display_data",
          "data": {
            "text/plain": [
              "<Figure size 432x288 with 1 Axes>"
            ],
            "image/png": "[encoded data removed]"
          },
          "metadata": {
            "needs_background": "light"
          }
        },
        {
          "output_type": "display_data",
          "data": {
            "text/plain": [
              "<Figure size 432x288 with 1 Axes>"
            ],
            "image/png": "[encoded data removed]"
          },
          "metadata": {
            "needs_background": "light"
          }
        }
      ]
    },
    {
      "cell_type": "markdown",
      "source": [
        "#There is a high chance of overfitting occuring when the model learns so well from the train dataset but however can fail when applied to unseen data"
      ],
      "metadata": {
        "id": "ie2aEfumHe3B"
      }
    }
  ]
}