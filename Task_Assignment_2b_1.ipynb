{
  "nbformat": 4,
  "nbformat_minor": 0,
  "metadata": {
    "colab": {
      "name": " Task Assignment 2b.ipynb",
      "provenance": [],
      "collapsed_sections": []
    },
    "kernelspec": {
      "name": "python3",
      "display_name": "Python 3"
    }
  },
  "cells": [
    {
      "cell_type": "markdown",
      "metadata": {
        "id": "5vUAqqKGSL4P"
      },
      "source": [
        "For this second work, the labeling for the e-mail number 2 and email number 4 was changed and the building classifier process and tesitng repeated.\n",
        "\n",
        "**FINDINGS**\n",
        "\n",
        "I realized that there was no major change in the results as it was similar to the initial document (sample given). For my work, I changed the labeling in the text and hosted it on Amazon S3 for the analysis."
      ]
    },
    {
      "cell_type": "code",
      "metadata": {
        "colab": {
          "base_uri": "https://localhost:8080/"
        },
        "id": "KkTa0AFJX8iX",
        "outputId": "be84b702-7f82-43cf-e6ba-639c4a664b0d"
      },
      "source": [
        "pip install wget"
      ],
      "execution_count": null,
      "outputs": [
        {
          "output_type": "stream",
          "text": [
            "Collecting wget\n",
            "  Downloading https://files.pythonhosted.org/packages/47/6a/62e288da7bcda82b935ff0c6cfe542970f04e29c756b0e147251b2fb251f/wget-3.2.zip\n",
            "Building wheels for collected packages: wget\n",
            "  Building wheel for wget (setup.py) ... \u001b[?25l\u001b[?25hdone\n",
            "  Created wheel for wget: filename=wget-3.2-cp37-none-any.whl size=9681 sha256=5c39d1c8a0784728a01d9fffa58262343b7fb5ea8f80af2fa63a29a2063dfc5a\n",
            "  Stored in directory: /root/.cache/pip/wheels/40/15/30/7d8f7cea2902b4db79e3fea550d7d7b85ecb27ef992b618f3f\n",
            "Successfully built wget\n",
            "Installing collected packages: wget\n",
            "Successfully installed wget-3.2\n"
          ],
          "name": "stdout"
        }
      ]
    },
    {
      "cell_type": "code",
      "metadata": {
        "id": "jC0WDn3QYNC0"
      },
      "source": [
        "#Importing the  data\n",
        "import collections\n",
        "import wget\n",
        "text_file = wget.download(url=\"https://txtminer.s3.amazonaws.com/data-spam.txt\")\n"
      ],
      "execution_count": null,
      "outputs": []
    },
    {
      "cell_type": "code",
      "metadata": {
        "colab": {
          "base_uri": "https://localhost:8080/"
        },
        "id": "rFSxd6P4YZdj",
        "outputId": "c91e3741-9778-4a58-8011-f2255dfcbbda"
      },
      "source": [
        "documents=[]\n",
        "with open(text_file, \"r\") as f:\n",
        "  for line in f.readlines():\n",
        "   #print(line)       \n",
        "    label = line[0]\n",
        "    text = line[1:].strip()\n",
        "    documents.append((label, text))\n",
        "documents[:7]"
      ],
      "execution_count": null,
      "outputs": [
        {
          "output_type": "execute_result",
          "data": {
            "text/plain": [
              "[('0',\n",
              "  'One of a kind Money maker! Try it for free! From nobody Tue Apr 11 08:39:19 2017 Content-Type: text/html; \\tcharset=\"iso-8859-1\" Content-Transfer-Encoding: 7bit  <body lang=EN-US>  <div class=Section1>   <p class=MsoBodyText style=\\'text-align:justify\\'><b>CONSANTLY</b> being bombarded by so-called “FREE” money-making systems that teases you with limited information, and when it’s all said and done, blind-sides you by demanding your money/credit card information upfront in some slick way,<b> after-the-fact</b>! Yes, I too was as skeptical about such offers and the Internet in general with all its hype, as you probably are. Fortunate for me, my main business slowed-down (<i>I have been self-employed all my life</i>), so I looked for something to fit my lifestyle and some other way to assist me in paying my bills, without working myself to death or loosing more money; then, this proposal to try something new without any upfront investment (<i>great! because I had none</i>) interested me to click on the link provided. And I don’t regret at all that I did! I am very happy, and happy enough to recommend it to you as a system that is true to its word. I mean absolutely no upfront money. You join only if (<i>when</i>) you make money. You also get to track the results of your time and efforts instantly and updated daily! I especially liked this idea of personal control with real-time, staying informed statistics.</p>  <p class=MsoBodyText style=\\'text-align:justify\\'><b>This system is quite simply the most logical, opened, and fair of any others that I’ve seen before. Why? Because from the start, you get all the specific facts you need to seriously consider if this is right for you.\\xa0 No teasing. No grand testimonies! No kidding! Just the facts! Unlike in other programs that give you “no idea” of their overall plan before first forking over your money/credit card; or worst yet, joining and finding-out too late, after wasting valuable time trying to figure them out, this system is straightforward and informative, providing you with the two things you really must know: “<u>What’s it all about</u>?” and “<u>How does it work</u>?”. These are the ultimate deal makers or deal breakers that need to be immediately disclosed, well before discovering that maybe you don’t want to do that; by then you are “hooked” and now locked into a frustrating battle to try to get your money back! </b></p>  <p class=MsoBodyText style=\\'text-align:justify\\'>I call this my “Platinum Choice” because it stands alone as a true, superior deal that is totally different from previously misleading, “hook-first” programs that promise lofty mega-money jackpots, but really just want your money upfront to line their own pockets! You’ve seen the headlines: “<u>Join free and Make $10,000 every week for life</u>” yeah, right!</p>  <p class=MsoBodyText style=\\'text-align:justify\\'>I did not make millions yet, but the whole thing was launched just a few weeks ago and I am more than happy with my earnings, so far. I must tell you, I wouldn’t be able to do anything without corporate help – which was unusually thorough, timely, and motivating. </p>  <p class=MsoBodyText style=\\'text-align:justify\\'>You have to see this in action for yourself and make up your own mind; just go to my site and fill out the form as soon as you can. You will get your own site in a few minutes. Then you are ready to try whether you can make some decent money with this system and the Internet’s explosive potential - fully loaded with hi-tech software, free corporate help, on-time member’s support and even protective safeguards! </p>  <p class=MsoBodyText style=\\'text-align:justify\\'>Get it now, and you can call me at any time with questions. It really could help you like it is helping me to finally be able to pay my bills, and keep my free time free.\\xa0 Good luck!</p>  <p class=MsoBodyText style=\\'text-align:justify\\'><a href=\"http://www.mindupmerchants.com/default.asp?ID=5581\">http://www.mindupmerchants.com/default.asp?ID=5581</a></p>  <p class=MsoBodyText style=\\'text-align:justify\\'>Ben Green, (775) 322-3323 </p>  <p class=MsoBodyText>P.S.Free POP3 email is ofered for members now!</p> </div>  </body>'),\n",
              " ('1',\n",
              "  'link to my webcam you wanted  Wanna see sexually curious teens playing with each other?  http://www.site-personals.com <-- click here=)  me and my horny girlfriends are waiting for you... we are probably eating each other out on webcam in our dormitory as ur reading this! (inbetween classes of course *wink*)  see you soon baby, -Veronica                       mcmfkhcpedgetqj'),\n",
              " ('1',\n",
              "  \"Re: How to manage multiple Internet connections? From nobody Tue Apr 11 08:39:19 2017 Content-Type: text/plain; charset=us-ascii Content-Disposition: inline Content-Transfer-Encoding: quoted-printable  On Sat,15.May.10, 16:47:07, Merciadri Luca wrote: > > > > But will probably not work in you case, as it was meant to combine two= =20 > > (or more?) network ports from the same computer connected to the same= =20 > > switch. > >  =20 > The description says >=20 > =3D=3D > The Linux bonding driver provides a method for aggregating > multiple network interfaces into a single logical > bonded <http://en.wikipedia.com/wiki/Link_aggregation> interface. > =3D=3D >=20 > Strictly speaking, this is what I want. Now, your interpretation seems > to be based on the definition of a link aggregation, which I am not > really familiar with. Basically, I want to merge connections into one, > or at least divide and use them separately, in an easy way. This is not > a so-rare situation, is it? E.g. you might be wandering in some zone > where you can use the WiFi, but where it is sometimes unavailable, say > at specific regions. If you manage to use another connection, for > example the one that is given by your mobile phone/smartphone /via/ > Bluetooth (which is then connected to the internet through other > protocols), it should be possible to switch between these two > connections, or to use them simultaneously, if, say, WiFi 's range is > too small or WiFi's bandwidth too small compared to the smartphone's > one. (Okay, this is not a really realistic example.) >=20 > You might also share an internet connection with your neighbour, > legally, and use it a lot when he does not need it. Then, if you already > use ethernet, you can use both connections. But how?  Bonding is not suitable for you because it works too low-level (it is=20 layer 2), unless you have two links from the same provider, using some=20 technology that can be bonded (like ADSL).  AFAIU what you need is BGP[1], but I can't give you any tips as this is=20 way out of my league ;)  Probably a good start (whatever technology you end up using) is a=20 GNU/Linux (preferably Debian) machine connected to both internet links=20 and your internal network since consumer gateways don't even have more=20 than one WAN port[2].  [1] http://en.wikipedia.org/wiki/Border_Gateway_Protocol [2] some of them could be used for this with custom firmware, but this=20 is off-topic  Regards, Andrei P.S. There is no need to CC me as I am subscribed to the list ;) --=20 Offtopic discussions among Debian users and developers: http://lists.alioth.debian.org/mailman/listinfo/d-community-offtopic\"),\n",
              " ('1',\n",
              "  '[SPAM]  Give her 3 hour rodeo Enhance your desire, pleasure and performance! 100% GUARANTEED TO SEE AN  INCREASE IN SIZE AND WIDTH http://pg.exqumloaf.com/'),\n",
              " ('0',\n",
              "  \"Best Price on the netf5f8m1  (suddenlysusan@Stoolmail.zzn.com) on Tuesday, July 30, 2002 at 17:07:56 : Why Spend upwards of $4000 on a DVD Burner when we will show you an alternative that will do the exact same thing for just a fraction of the cost? Copy your DVD's NOW. Best Price on the net. Click here: http://002@www.dvdcopyxp.com/cgi-bin/enter.cgi?marketing_id=dcx009 Click to remove http://003@www.spambites.com/cgi-bin/enter.cgi?spambytes_id=100115\"),\n",
              " ('1',\n",
              "  \"linux.ie mailing list memberships reminder This is a reminder, sent out once a month, about your linux.ie mailing list memberships.  It includes your subscription info and how to use it to change it or unsubscribe from a list.  You can visit the URLs to change your membership status or configuration, including unsubscribing, setting digest-style delivery or disabling delivery altogether (e.g., for a vacation), and so on.  In addition to the URL interfaces, you can also use email to make such changes.  For more info, send a message to the '-request' address of the list (for example, webdev-request@linux.ie) containing just the word 'help' in the message body, and an email message will be sent to you with instructions.  If you have questions, problems, comments, etc, send them to listmaster@tuatha.org.  Thanks!  Passwords for jm-webdev@jmason.org:  List                                     Password // URL ----                                     --------   webdev@linux.ie                          foo        http://www.linux.ie/mailman/options/webdev/jm-webdev@jmason.org\"),\n",
              " ('1',\n",
              "  'Re: Apple Sauced...again At 1:16 AM -0400 on 10/3/02, Gary Lawrence Murphy wrote:   >   \"The first question I ask myself when something doesn\\'t seem to be >   beautiful is why do I think it\\'s not beautiful. And very shortly you >   discover that there is no reason.\" -- John Cage  \"When I\\'m working on a problem, I never think about beauty. I think only how to solve the problem. But when I have finished, if the solution is not beautiful, I know it is wrong.\"  -- R. Buckminster Fuller  \"Simplicity is the highest goal, achievable when you have overcome all difficulties.\" -- Frederic Chopin  \"Externalities are the last refuge of the dirigistes.\" -- Friedrich Hayek  --  ----------------- R. A. Hettinga <mailto: rah@ibuc.com> The Internet Bearer Underwriting Corporation <http://www.ibuc.com/> 44 Farquhar Street, Boston, MA 02131 USA \"The stoical scheme of supplying our wants by lopping off our desires is like cutting off our feet when we want shoes.\"  -- Jonathan Swift')]"
            ]
          },
          "metadata": {
            "tags": []
          },
          "execution_count": 5
        }
      ]
    },
    {
      "cell_type": "code",
      "metadata": {
        "colab": {
          "base_uri": "https://localhost:8080/",
          "height": 419
        },
        "id": "EQUXJ4oTuDvL",
        "outputId": "cbe60839-093c-450c-81bc-0176e3f5a5f5"
      },
      "source": [
        "import pandas as pd\n",
        "df = pd.DataFrame(documents, columns=['label', 'text'])\n",
        "df"
      ],
      "execution_count": null,
      "outputs": [
        {
          "output_type": "execute_result",
          "data": {
            "text/html": [
              "<div>\n",
              "<style scoped>\n",
              "    .dataframe tbody tr th:only-of-type {\n",
              "        vertical-align: middle;\n",
              "    }\n",
              "\n",
              "    .dataframe tbody tr th {\n",
              "        vertical-align: top;\n",
              "    }\n",
              "\n",
              "    .dataframe thead th {\n",
              "        text-align: right;\n",
              "    }\n",
              "</style>\n",
              "<table border=\"1\" class=\"dataframe\">\n",
              "  <thead>\n",
              "    <tr style=\"text-align: right;\">\n",
              "      <th></th>\n",
              "      <th>label</th>\n",
              "      <th>text</th>\n",
              "    </tr>\n",
              "  </thead>\n",
              "  <tbody>\n",
              "    <tr>\n",
              "      <th>0</th>\n",
              "      <td>0</td>\n",
              "      <td>One of a kind Money maker! Try it for free! Fr...</td>\n",
              "    </tr>\n",
              "    <tr>\n",
              "      <th>1</th>\n",
              "      <td>1</td>\n",
              "      <td>link to my webcam you wanted  Wanna see sexual...</td>\n",
              "    </tr>\n",
              "    <tr>\n",
              "      <th>2</th>\n",
              "      <td>1</td>\n",
              "      <td>Re: How to manage multiple Internet connection...</td>\n",
              "    </tr>\n",
              "    <tr>\n",
              "      <th>3</th>\n",
              "      <td>1</td>\n",
              "      <td>[SPAM]  Give her 3 hour rodeo Enhance your des...</td>\n",
              "    </tr>\n",
              "    <tr>\n",
              "      <th>4</th>\n",
              "      <td>0</td>\n",
              "      <td>Best Price on the netf5f8m1  (suddenlysusan@St...</td>\n",
              "    </tr>\n",
              "    <tr>\n",
              "      <th>...</th>\n",
              "      <td>...</td>\n",
              "      <td>...</td>\n",
              "    </tr>\n",
              "    <tr>\n",
              "      <th>4322</th>\n",
              "      <td>0</td>\n",
              "      <td>Aldebaran's Spring Special Offer From nobody T...</td>\n",
              "    </tr>\n",
              "    <tr>\n",
              "      <th>4323</th>\n",
              "      <td>1</td>\n",
              "      <td>RE: [ILUG] What HOWTOs for SOHO system Hi Derm...</td>\n",
              "    </tr>\n",
              "    <tr>\n",
              "      <th>4324</th>\n",
              "      <td>1</td>\n",
              "      <td>[Spambayes] hammie.py vs. GBayes.py      Guido...</td>\n",
              "    </tr>\n",
              "    <tr>\n",
              "      <th>4325</th>\n",
              "      <td>0</td>\n",
              "      <td>[SPAM]  Photos of Exposed Pink &lt;HTML&gt;&lt;HEAD&gt;&lt;TI...</td>\n",
              "    </tr>\n",
              "    <tr>\n",
              "      <th>4326</th>\n",
              "      <td>0</td>\n",
              "      <td>[SPAM]  For hibody@csmining.org &lt;html&gt; &lt;head&gt; ...</td>\n",
              "    </tr>\n",
              "  </tbody>\n",
              "</table>\n",
              "<p>4327 rows × 2 columns</p>\n",
              "</div>"
            ],
            "text/plain": [
              "     label                                               text\n",
              "0        0  One of a kind Money maker! Try it for free! Fr...\n",
              "1        1  link to my webcam you wanted  Wanna see sexual...\n",
              "2        1  Re: How to manage multiple Internet connection...\n",
              "3        1  [SPAM]  Give her 3 hour rodeo Enhance your des...\n",
              "4        0  Best Price on the netf5f8m1  (suddenlysusan@St...\n",
              "...    ...                                                ...\n",
              "4322     0  Aldebaran's Spring Special Offer From nobody T...\n",
              "4323     1  RE: [ILUG] What HOWTOs for SOHO system Hi Derm...\n",
              "4324     1  [Spambayes] hammie.py vs. GBayes.py      Guido...\n",
              "4325     0  [SPAM]  Photos of Exposed Pink <HTML><HEAD><TI...\n",
              "4326     0  [SPAM]  For hibody@csmining.org <html> <head> ...\n",
              "\n",
              "[4327 rows x 2 columns]"
            ]
          },
          "metadata": {
            "tags": []
          },
          "execution_count": 44
        }
      ]
    },
    {
      "cell_type": "code",
      "metadata": {
        "colab": {
          "base_uri": "https://localhost:8080/",
          "height": 279
        },
        "id": "Ofkbzr2hwFFq",
        "outputId": "93188a3e-2b14-44a9-ef78-39e340322f93"
      },
      "source": [
        "df['label'].value_counts().plot(kind='bar')"
      ],
      "execution_count": null,
      "outputs": [
        {
          "output_type": "execute_result",
          "data": {
            "text/plain": [
              "<matplotlib.axes._subplots.AxesSubplot at 0x7f7d46357390>"
            ]
          },
          "metadata": {
            "tags": []
          },
          "execution_count": 46
        },
        {
          "output_type": "display_data",
          "data": {
            "image/png": "[encoded data removed]",
            "text/plain": [
              "<Figure size 432x288 with 1 Axes>"
            ]
          },
          "metadata": {
            "tags": [],
            "needs_background": "light"
          }
        }
      ]
    },
    {
      "cell_type": "code",
      "metadata": {
        "colab": {
          "base_uri": "https://localhost:8080/",
          "height": 173
        },
        "id": "qlH2m6mPx1hF",
        "outputId": "76185afa-a0ef-4d4c-9655-dccb930439e7"
      },
      "source": [
        "df.describe()"
      ],
      "execution_count": null,
      "outputs": [
        {
          "output_type": "execute_result",
          "data": {
            "text/html": [
              "<div>\n",
              "<style scoped>\n",
              "    .dataframe tbody tr th:only-of-type {\n",
              "        vertical-align: middle;\n",
              "    }\n",
              "\n",
              "    .dataframe tbody tr th {\n",
              "        vertical-align: top;\n",
              "    }\n",
              "\n",
              "    .dataframe thead th {\n",
              "        text-align: right;\n",
              "    }\n",
              "</style>\n",
              "<table border=\"1\" class=\"dataframe\">\n",
              "  <thead>\n",
              "    <tr style=\"text-align: right;\">\n",
              "      <th></th>\n",
              "      <th>label</th>\n",
              "      <th>text</th>\n",
              "    </tr>\n",
              "  </thead>\n",
              "  <tbody>\n",
              "    <tr>\n",
              "      <th>count</th>\n",
              "      <td>4327</td>\n",
              "      <td>4327</td>\n",
              "    </tr>\n",
              "    <tr>\n",
              "      <th>unique</th>\n",
              "      <td>2</td>\n",
              "      <td>4112</td>\n",
              "    </tr>\n",
              "    <tr>\n",
              "      <th>top</th>\n",
              "      <td>1</td>\n",
              "      <td>Re: ARRRGHHH Had GPG working, now it doesnt. I...</td>\n",
              "    </tr>\n",
              "    <tr>\n",
              "      <th>freq</th>\n",
              "      <td>2951</td>\n",
              "      <td>4</td>\n",
              "    </tr>\n",
              "  </tbody>\n",
              "</table>\n",
              "</div>"
            ],
            "text/plain": [
              "       label                                               text\n",
              "count   4327                                               4327\n",
              "unique     2                                               4112\n",
              "top        1  Re: ARRRGHHH Had GPG working, now it doesnt. I...\n",
              "freq    2951                                                  4"
            ]
          },
          "metadata": {
            "tags": []
          },
          "execution_count": 47
        }
      ]
    },
    {
      "cell_type": "code",
      "metadata": {
        "colab": {
          "base_uri": "https://localhost:8080/"
        },
        "id": "NdFexa0TyFV7",
        "outputId": "7727a980-dfc6-43c0-b017-95d1fdebddb4"
      },
      "source": [
        "df.info()"
      ],
      "execution_count": null,
      "outputs": [
        {
          "output_type": "stream",
          "text": [
            "<class 'pandas.core.frame.DataFrame'>\n",
            "RangeIndex: 4327 entries, 0 to 4326\n",
            "Data columns (total 2 columns):\n",
            " #   Column  Non-Null Count  Dtype \n",
            "---  ------  --------------  ----- \n",
            " 0   label   4327 non-null   object\n",
            " 1   text    4327 non-null   object\n",
            "dtypes: object(2)\n",
            "memory usage: 67.7+ KB\n"
          ],
          "name": "stdout"
        }
      ]
    },
    {
      "cell_type": "code",
      "metadata": {
        "colab": {
          "base_uri": "https://localhost:8080/"
        },
        "id": "qtdfiv9_wdCr",
        "outputId": "17ead2fe-8f52-468e-cd4c-8d06d2d7e732"
      },
      "source": [
        "from sklearn.feature_extraction.text import CountVectorizer\n",
        "Vectorizer = CountVectorizer()\n",
        "X=Vectorizer.fit_transform(df['text'])\n",
        "X"
      ],
      "execution_count": null,
      "outputs": [
        {
          "output_type": "execute_result",
          "data": {
            "text/plain": [
              "<4327x95966 sparse matrix of type '<class 'numpy.int64'>'\n",
              "\twith 782280 stored elements in Compressed Sparse Row format>"
            ]
          },
          "metadata": {
            "tags": []
          },
          "execution_count": 49
        }
      ]
    },
    {
      "cell_type": "markdown",
      "metadata": {
        "id": "DG5IYHqB7Tc1"
      },
      "source": [
        "**This is training and testing of the dataset using the first 10 emails**\n",
        "\n",
        "\n"
      ]
    },
    {
      "cell_type": "code",
      "metadata": {
        "colab": {
          "base_uri": "https://localhost:8080/"
        },
        "id": "l5DR_d-yzCXG",
        "outputId": "d3eff72e-60d3-47ca-ae32-a97ebdc380da"
      },
      "source": [
        "from sklearn.model_selection import  train_test_split\n",
        "X_train, X_test, y_train, y_test = train_test_split(X, df['label'], train_size=10, random_state=42)\n",
        "\n",
        "print('Train data size', X_train.shape)\n",
        "print('Test data size', X_train.shape)"
      ],
      "execution_count": null,
      "outputs": [
        {
          "output_type": "stream",
          "text": [
            "Train data size (10, 95966)\n",
            "Test data size (10, 95966)\n"
          ],
          "name": "stdout"
        }
      ]
    },
    {
      "cell_type": "markdown",
      "metadata": {
        "id": "YLegNNMj9DN2"
      },
      "source": [
        "Decision Tree is used to classify the dataset\n",
        "\n",
        "\n"
      ]
    },
    {
      "cell_type": "code",
      "metadata": {
        "colab": {
          "base_uri": "https://localhost:8080/"
        },
        "id": "VHWVI6dL2pY4",
        "outputId": "f395bf77-4615-4dca-8a9e-4723c9778a2a"
      },
      "source": [
        "from sklearn.tree import  DecisionTreeClassifier\n",
        "from sklearn.metrics import classification_report\n",
        "\n",
        "clf = DecisionTreeClassifier().fit(X_train, y_train)\n",
        "\n",
        "predicted=clf.predict(X_test)\n",
        "report = classification_report(y_true=y_test, y_pred=predicted, target_names=['spam','ham'])\n",
        "print(report)"
      ],
      "execution_count": null,
      "outputs": [
        {
          "output_type": "stream",
          "text": [
            "              precision    recall  f1-score   support\n",
            "\n",
            "        spam       0.66      0.21      0.31      1374\n",
            "         ham       0.72      0.95      0.82      2943\n",
            "\n",
            "    accuracy                           0.71      4317\n",
            "   macro avg       0.69      0.58      0.57      4317\n",
            "weighted avg       0.70      0.71      0.66      4317\n",
            "\n"
          ],
          "name": "stdout"
        }
      ]
    },
    {
      "cell_type": "markdown",
      "metadata": {
        "id": "VXhYnTgq9SsC"
      },
      "source": [
        "Naive Bayes is used to classify the dataset. "
      ]
    },
    {
      "cell_type": "code",
      "metadata": {
        "colab": {
          "base_uri": "https://localhost:8080/"
        },
        "id": "KBUDcM0l8ywy",
        "outputId": "a2bea799-c328-4eef-a5b7-6b3352f8b3ca"
      },
      "source": [
        "from sklearn.naive_bayes import MultinomialNB\n",
        "from sklearn.metrics import classification_report\n",
        "\n",
        "clf = MultinomialNB()\n",
        "clf.fit(X_train, y_train)\n",
        "\n",
        "predicted =clf.predict(X_test)\n",
        "report = classification_report(y_true=y_test, y_pred=predicted, target_names=['spam', 'ham'])\n",
        "print(report)"
      ],
      "execution_count": null,
      "outputs": [
        {
          "output_type": "stream",
          "text": [
            "              precision    recall  f1-score   support\n",
            "\n",
            "        spam       0.91      0.51      0.66      1374\n",
            "         ham       0.81      0.97      0.89      2943\n",
            "\n",
            "    accuracy                           0.83      4317\n",
            "   macro avg       0.86      0.74      0.77      4317\n",
            "weighted avg       0.84      0.83      0.81      4317\n",
            "\n"
          ],
          "name": "stdout"
        }
      ]
    },
    {
      "cell_type": "markdown",
      "metadata": {
        "id": "IQVGdLlyCCDR"
      },
      "source": [
        "**[This is training and testing of the dataset using the first 20 emails](https://)**"
      ]
    },
    {
      "cell_type": "code",
      "metadata": {
        "colab": {
          "base_uri": "https://localhost:8080/"
        },
        "id": "gZWgLQFABIrb",
        "outputId": "3ffca4d6-e587-4b6a-d552-81113cd5d6da"
      },
      "source": [
        "from sklearn.model_selection import  train_test_split\n",
        "X_train, X_test, y_train, y_test = train_test_split(X, df['label'], train_size=20, random_state=42)\n",
        "\n",
        "print('Train data size', X_train.shape)\n",
        "print('Test data size', X_train.shape)"
      ],
      "execution_count": null,
      "outputs": [
        {
          "output_type": "stream",
          "text": [
            "Train data size (20, 95966)\n",
            "Test data size (20, 95966)\n"
          ],
          "name": "stdout"
        }
      ]
    },
    {
      "cell_type": "markdown",
      "metadata": {
        "id": "_WZRTILEBeKB"
      },
      "source": [
        "Decision Tree is used to classify the dataset\n"
      ]
    },
    {
      "cell_type": "code",
      "metadata": {
        "colab": {
          "base_uri": "https://localhost:8080/"
        },
        "id": "2XkwJQy1BPJe",
        "outputId": "e78643d0-64ef-4c82-d6f5-ce4f4d808f5f"
      },
      "source": [
        "from sklearn.tree import  DecisionTreeClassifier\n",
        "from sklearn.metrics import classification_report\n",
        "\n",
        "clf = DecisionTreeClassifier().fit(X_train, y_train)\n",
        "\n",
        "predicted=clf.predict(X_test)\n",
        "report = classification_report(y_true=y_test, y_pred=predicted, target_names=['spam','ham'])\n",
        "print(report)"
      ],
      "execution_count": null,
      "outputs": [
        {
          "output_type": "stream",
          "text": [
            "              precision    recall  f1-score   support\n",
            "\n",
            "        spam       0.89      0.51      0.65      1372\n",
            "         ham       0.81      0.97      0.88      2935\n",
            "\n",
            "    accuracy                           0.82      4307\n",
            "   macro avg       0.85      0.74      0.77      4307\n",
            "weighted avg       0.83      0.82      0.81      4307\n",
            "\n"
          ],
          "name": "stdout"
        }
      ]
    },
    {
      "cell_type": "markdown",
      "metadata": {
        "id": "MDhD2cokBhTc"
      },
      "source": [
        "Naive Bayes is used to classify the dataset\n"
      ]
    },
    {
      "cell_type": "code",
      "metadata": {
        "colab": {
          "base_uri": "https://localhost:8080/"
        },
        "id": "L6seKZ1NBZiA",
        "outputId": "1658c4a5-a9bf-4760-b713-af8a80a0d8d4"
      },
      "source": [
        "from sklearn.naive_bayes import MultinomialNB\n",
        "from sklearn.metrics import classification_report\n",
        "\n",
        "clf = MultinomialNB()\n",
        "clf.fit(X_train, y_train)\n",
        "\n",
        "predicted =clf.predict(X_test)\n",
        "report = classification_report(y_true=y_test, y_pred=predicted, target_names=['spam', 'ham'])\n",
        "print(report)"
      ],
      "execution_count": null,
      "outputs": [
        {
          "output_type": "stream",
          "text": [
            "              precision    recall  f1-score   support\n",
            "\n",
            "        spam       0.91      0.46      0.61      1372\n",
            "         ham       0.79      0.98      0.88      2935\n",
            "\n",
            "    accuracy                           0.81      4307\n",
            "   macro avg       0.85      0.72      0.74      4307\n",
            "weighted avg       0.83      0.81      0.79      4307\n",
            "\n"
          ],
          "name": "stdout"
        }
      ]
    },
    {
      "cell_type": "markdown",
      "metadata": {
        "id": "xmsS8JMJIfd4"
      },
      "source": [
        "**This is training and testing of the dataset using the first 80 emails**"
      ]
    },
    {
      "cell_type": "code",
      "metadata": {
        "colab": {
          "base_uri": "https://localhost:8080/"
        },
        "id": "Ne9HCnZtcmun",
        "outputId": "feba6bca-1a3f-468b-9a57-eb7d4efcbce1"
      },
      "source": [
        "from sklearn.model_selection import  train_test_split\n",
        "X_train, X_test, y_train, y_test = train_test_split(X, df['label'], train_size=80, random_state=42)\n",
        "\n",
        "print('Train data size', X_train.shape)\n",
        "print('Test data size', X_train.shape)"
      ],
      "execution_count": null,
      "outputs": [
        {
          "output_type": "stream",
          "text": [
            "Train data size (80, 95966)\n",
            "Test data size (80, 95966)\n"
          ],
          "name": "stdout"
        }
      ]
    },
    {
      "cell_type": "code",
      "metadata": {
        "id": "Tog0OHfe_FuY",
        "colab": {
          "base_uri": "https://localhost:8080/"
        },
        "outputId": "277312ae-db86-49ed-b58f-56f82b3ed33a"
      },
      "source": [
        "from sklearn.tree import  DecisionTreeClassifier\n",
        "from sklearn.metrics import classification_report\n",
        "\n",
        "clf = DecisionTreeClassifier().fit(X_train, y_train)\n",
        "\n",
        "predicted=clf.predict(X_test)\n",
        "report = classification_report(y_true=y_test, y_pred=predicted, target_names=['spam','ham'])\n",
        "print(report)"
      ],
      "execution_count": null,
      "outputs": [
        {
          "output_type": "stream",
          "text": [
            "              precision    recall  f1-score   support\n",
            "\n",
            "        spam       0.87      0.57      0.69      1355\n",
            "         ham       0.83      0.96      0.89      2892\n",
            "\n",
            "    accuracy                           0.83      4247\n",
            "   macro avg       0.85      0.76      0.79      4247\n",
            "weighted avg       0.84      0.83      0.82      4247\n",
            "\n"
          ],
          "name": "stdout"
        }
      ]
    },
    {
      "cell_type": "code",
      "metadata": {
        "id": "EAQe3mJigXY_",
        "colab": {
          "base_uri": "https://localhost:8080/"
        },
        "outputId": "20089e81-5acc-4742-ad35-37e6f0a51147"
      },
      "source": [
        "from sklearn.naive_bayes import MultinomialNB\n",
        "from sklearn.metrics import classification_report\n",
        "\n",
        "clf = MultinomialNB()\n",
        "clf.fit(X_train, y_train)\n",
        "\n",
        "predicted =clf.predict(X_test)\n",
        "report = classification_report(y_true=y_test, y_pred=predicted, target_names=['spam', 'ham'])\n",
        "print(report)"
      ],
      "execution_count": null,
      "outputs": [
        {
          "output_type": "stream",
          "text": [
            "              precision    recall  f1-score   support\n",
            "\n",
            "        spam       0.99      0.30      0.46      1355\n",
            "         ham       0.75      1.00      0.86      2892\n",
            "\n",
            "    accuracy                           0.77      4247\n",
            "   macro avg       0.87      0.65      0.66      4247\n",
            "weighted avg       0.83      0.77      0.73      4247\n",
            "\n"
          ],
          "name": "stdout"
        }
      ]
    }
  ]
}