{
  "nbformat": 4,
  "nbformat_minor": 0,
  "metadata": {
    "colab": {
      "provenance": [],
      "authorship_tag": "ABX9TyMRdSCLmOygWK2aR8z7eAY0",
      "include_colab_link": true
    },
    "kernelspec": {
      "name": "python3",
      "display_name": "Python 3"
    },
    "language_info": {
      "name": "python"
    }
  },
  "cells": [
    {
      "cell_type": "markdown",
      "metadata": {
        "id": "view-in-github",
        "colab_type": "text"
      },
      "source": [
        "<a href=\"https://colab.research.google.com/github/GeneGenius/DataScienceJourney/blob/main/Validation_and_Test_sets.ipynb\" target=\"_parent\"><img src=\"https://colab.research.google.com/assets/colab-badge.svg\" alt=\"Open In Colab\"/></a>"
      ]
    },
    {
      "cell_type": "markdown",
      "source": [
        "**Validation set is required to tune the parameters of a classifier. While the test set is used for the final evaluation of the best model**"
      ],
      "metadata": {
        "id": "heQwrwQX-40a"
      }
    },
    {
      "cell_type": "code",
      "execution_count": 1,
      "metadata": {
        "id": "_LxIjWNUUr8x"
      },
      "outputs": [],
      "source": [
        "#@title Import modules\n",
        "import numpy as np\n",
        "import pandas as pd\n",
        "import tensorflow as tf\n",
        "from matplotlib import pyplot as plt\n",
        "\n",
        "pd.options.display.max_rows = 10\n",
        "pd.options.display.float_format = \"{:.1f}\".format"
      ]
    },
    {
      "cell_type": "code",
      "source": [
        "train_df = pd.read_csv(\"https://download.mlcc.google.com/mledu-datasets/california_housing_train.csv\")\n",
        "test_df = pd.read_csv(\"https://download.mlcc.google.com/mledu-datasets/california_housing_test.csv\")"
      ],
      "metadata": {
        "id": "1rUrwSLHo-3C"
      },
      "execution_count": 2,
      "outputs": []
    },
    {
      "cell_type": "code",
      "source": [
        "scale_factor = 1000.0\n",
        "\n",
        "#Scale the training set's label\n",
        "train_df[\"median_house_value\"] /= scale_factor\n",
        "\n",
        "#Scale the test set's label\n",
        "test_df[\"median_house_value\"] /= scale_factor"
      ],
      "metadata": {
        "id": "A-IyErp0rWEr"
      },
      "execution_count": 3,
      "outputs": []
    },
    {
      "cell_type": "code",
      "source": [
        "#@title Define the function that build and train a model\n",
        "def build_model (my_learning_rate):\n",
        "  \"\"\"Create ad compile a simple linear reggression model\"\"\"\n",
        "\n",
        "  #Most simple tf.keras models are sequential \n",
        "  model = tf.keras.models.Sequential()\n",
        "\n",
        "  #add one linear layer to the model to yield a simple linear regressor\n",
        "  model.add(tf.keras.layers.Dense(units =1, input_shape=(1,)))\n",
        "\n",
        "  #Compile the model topography. into code that TF can efficienntly execute. \n",
        "  #Configure the training to minimize the model's mean squared error\n",
        "  model.compile(optimizer =tf.keras.optimizers.experimental.RMSprop(lr=my_learning_rate), loss=\"mean_squared_error\",\n",
        "                metrics=[tf.keras.metrics.RootMeanSquaredError()])\n",
        "  \n",
        "  return model\n",
        "\n",
        "def train_model(model, df, feature, label, my_epochs, \n",
        "                my_batch_size=None, my_validation_split=0.1):\n",
        "  \"\"\"Feed a dataset innto the model in order to train it\"\"\"\n",
        "\n",
        "  history = model.fit(x=df[feature],\n",
        "                      y=df[label],\n",
        "                      batch_size=my_batch_size,\n",
        "                      epochs=my_epochs,\n",
        "                      validation_split=my_validation_split)\n",
        "  \n",
        "  #Gather. the model train's weigght and bias\n",
        "\n",
        "  trained_weight =model.get_weights()[0]\n",
        "  trained_bias =model.get_weights()[1]\n",
        "\n",
        "  #The list of epochs is stored separately from the rest of history\n",
        "  epochs =history.epoch\n",
        "\n",
        "  #Isolate. the rmse for each epoch\n",
        "  hist =pd.DataFrame(history.history)\n",
        "  rmse =hist[\"root_mean_squared_error\"]\n",
        "  \n",
        "\n",
        "  return epochs, rmse, history.history\n",
        "\n",
        "print(\"Defined the build_model and train_model functions\")\n",
        "\n",
        "  "
      ],
      "metadata": {
        "id": "I4NZhIb_rWJ3",
        "colab": {
          "base_uri": "https://localhost:8080/"
        },
        "outputId": "d56b421c-9032-4197-801e-79063c8592fe"
      },
      "execution_count": 4,
      "outputs": [
        {
          "output_type": "stream",
          "name": "stdout",
          "text": [
            "Defined the build_model and train_model functions\n"
          ]
        }
      ]
    },
    {
      "cell_type": "code",
      "source": [
        "#@title Define the plotting function\n",
        "\n",
        "def plot_the_loss_curve(epochs, mae_training, mae_validation):\n",
        "  \"\"\"Plot a curve of loss vs. epoch\"\"\"\n",
        "\n",
        "  plt.figure()\n",
        "  plt.xlabel(\"Epoch\")\n",
        "  plt.ylabel(\"Root Mean Squared Error\")\n",
        "\n",
        "  plt.plot(epochs[1:], mae_training[1:], label = \"Training Loss\")\n",
        "  plt.plot(epochs[1:], mae_validation[1:], label =\"Validation Loss\")\n",
        "  plt.legend()\n",
        "\n",
        "\n",
        "  merged_mae_lists = mae_training[1:] + mae_validation[1:]\n",
        "  highest_loss =max(merged_mae_lists)\n",
        "  lowest_loss = min(merged_mae_lists)\n",
        "  delta = highest_loss - lowest_loss\n",
        "  print(delta)\n",
        "\n",
        "  top_of_y_axis = highest_loss + (delta*0.05)\n",
        "  bottom_of_y_axis = lowest_loss - (delta*0.05)\n",
        "\n",
        "  plt.ylim([bottom_of_y_axis, top_of_y_axis])\n",
        "  plt.show()\n",
        "\n",
        "\n",
        "  print(\"Defined the plot_the_loss_curve function.\")"
      ],
      "metadata": {
        "id": "kqd0qYblrWYN"
      },
      "execution_count": 5,
      "outputs": []
    },
    {
      "cell_type": "code",
      "source": [
        "#Hyperparameters\n",
        "learning_rate = 0.1\n",
        "epochs = 30\n",
        "batch_size = 100\n",
        "\n",
        "#split. the orig training set into a reduced training set and validation set\n",
        "validation_split = 0.2\n",
        "\n",
        "my_feature = \"median_income\"\n",
        "my_label = \"median_house_value\"\n",
        "\n",
        "\n",
        "my_model = build_model(learning_rate)\n",
        "epochs, rmse, history = train_model(my_model, train_df, my_feature,\n",
        "                                    my_label, epochs, batch_size, validation_split)\n",
        "\n",
        "plot_the_loss_curve(epochs, history[\"root_mean_squared_error\"],\n",
        "                    history[\"val_root_mean_squared_error\"])"
      ],
      "metadata": {
        "colab": {
          "base_uri": "https://localhost:8080/",
          "height": 1000
        },
        "id": "_ScYvlngSY66",
        "outputId": "10aeae13-337e-4ce3-ddfc-34061b0de21b"
      },
      "execution_count": 6,
      "outputs": [
        {
          "output_type": "stream",
          "name": "stderr",
          "text": [
            "WARNING:absl:`lr` is deprecated, please use `learning_rate` instead, or use the legacy optimizer, e.g.,tf.keras.optimizers.legacy.RMSprop.\n"
          ]
        },
        {
          "output_type": "stream",
          "name": "stdout",
          "text": [
            "Epoch 1/30\n",
            "136/136 [==============================] - 2s 9ms/step - loss: 50692.1562 - root_mean_squared_error: 225.1492 - val_loss: 76061.1328 - val_root_mean_squared_error: 275.7918\n",
            "Epoch 2/30\n",
            "136/136 [==============================] - 1s 5ms/step - loss: 50400.6211 - root_mean_squared_error: 224.5008 - val_loss: 75668.7188 - val_root_mean_squared_error: 275.0795\n",
            "Epoch 3/30\n",
            "136/136 [==============================] - 1s 6ms/step - loss: 50108.1445 - root_mean_squared_error: 223.8485 - val_loss: 75277.2891 - val_root_mean_squared_error: 274.3671\n",
            "Epoch 4/30\n",
            "136/136 [==============================] - 1s 9ms/step - loss: 49819.7969 - root_mean_squared_error: 223.2035 - val_loss: 74888.2656 - val_root_mean_squared_error: 273.6572\n",
            "Epoch 5/30\n",
            "136/136 [==============================] - 1s 7ms/step - loss: 49529.1445 - root_mean_squared_error: 222.5514 - val_loss: 74497.3516 - val_root_mean_squared_error: 272.9420\n",
            "Epoch 6/30\n",
            "136/136 [==============================] - 1s 6ms/step - loss: 49238.4648 - root_mean_squared_error: 221.8974 - val_loss: 74108.7422 - val_root_mean_squared_error: 272.2292\n",
            "Epoch 7/30\n",
            "136/136 [==============================] - 1s 8ms/step - loss: 48950.7773 - root_mean_squared_error: 221.2482 - val_loss: 73721.4062 - val_root_mean_squared_error: 271.5169\n",
            "Epoch 8/30\n",
            "136/136 [==============================] - 1s 5ms/step - loss: 48665.0352 - root_mean_squared_error: 220.6015 - val_loss: 73336.2812 - val_root_mean_squared_error: 270.8067\n",
            "Epoch 9/30\n",
            "136/136 [==============================] - 1s 6ms/step - loss: 48378.6953 - root_mean_squared_error: 219.9516 - val_loss: 72951.9141 - val_root_mean_squared_error: 270.0961\n",
            "Epoch 10/30\n",
            "136/136 [==============================] - 1s 8ms/step - loss: 48094.3359 - root_mean_squared_error: 219.3042 - val_loss: 72566.6172 - val_root_mean_squared_error: 269.3819\n",
            "Epoch 11/30\n",
            "136/136 [==============================] - 1s 6ms/step - loss: 47810.0547 - root_mean_squared_error: 218.6551 - val_loss: 72183.7344 - val_root_mean_squared_error: 268.6703\n",
            "Epoch 12/30\n",
            "136/136 [==============================] - 1s 6ms/step - loss: 47528.0977 - root_mean_squared_error: 218.0094 - val_loss: 71803.7812 - val_root_mean_squared_error: 267.9623\n",
            "Epoch 13/30\n",
            "136/136 [==============================] - 0s 3ms/step - loss: 47246.0898 - root_mean_squared_error: 217.3617 - val_loss: 71423.2500 - val_root_mean_squared_error: 267.2513\n",
            "Epoch 14/30\n",
            "136/136 [==============================] - 0s 2ms/step - loss: 46963.9805 - root_mean_squared_error: 216.7117 - val_loss: 71042.8906 - val_root_mean_squared_error: 266.5387\n",
            "Epoch 15/30\n",
            "136/136 [==============================] - 0s 2ms/step - loss: 46683.4688 - root_mean_squared_error: 216.0636 - val_loss: 70665.2500 - val_root_mean_squared_error: 265.8294\n",
            "Epoch 16/30\n",
            "136/136 [==============================] - 0s 3ms/step - loss: 46405.1094 - root_mean_squared_error: 215.4185 - val_loss: 70287.9844 - val_root_mean_squared_error: 265.1188\n",
            "Epoch 17/30\n",
            "136/136 [==============================] - 0s 3ms/step - loss: 46127.3047 - root_mean_squared_error: 214.7727 - val_loss: 69912.8984 - val_root_mean_squared_error: 264.4105\n",
            "Epoch 18/30\n",
            "136/136 [==============================] - 1s 4ms/step - loss: 45849.4492 - root_mean_squared_error: 214.1248 - val_loss: 69539.3984 - val_root_mean_squared_error: 263.7032\n",
            "Epoch 19/30\n",
            "136/136 [==============================] - 1s 4ms/step - loss: 45575.1758 - root_mean_squared_error: 213.4834 - val_loss: 69165.6953 - val_root_mean_squared_error: 262.9937\n",
            "Epoch 20/30\n",
            "136/136 [==============================] - 1s 7ms/step - loss: 45299.3047 - root_mean_squared_error: 212.8363 - val_loss: 68793.6641 - val_root_mean_squared_error: 262.2855\n",
            "Epoch 21/30\n",
            "136/136 [==============================] - 1s 4ms/step - loss: 45025.3164 - root_mean_squared_error: 212.1917 - val_loss: 68422.8672 - val_root_mean_squared_error: 261.5776\n",
            "Epoch 22/30\n",
            "136/136 [==============================] - 1s 4ms/step - loss: 44750.5938 - root_mean_squared_error: 211.5434 - val_loss: 68051.2969 - val_root_mean_squared_error: 260.8664\n",
            "Epoch 23/30\n",
            "136/136 [==============================] - 0s 3ms/step - loss: 44479.4219 - root_mean_squared_error: 210.9014 - val_loss: 67682.8906 - val_root_mean_squared_error: 260.1594\n",
            "Epoch 24/30\n",
            "136/136 [==============================] - 0s 3ms/step - loss: 44208.2539 - root_mean_squared_error: 210.2576 - val_loss: 67314.6250 - val_root_mean_squared_error: 259.4506\n",
            "Epoch 25/30\n",
            "136/136 [==============================] - 0s 3ms/step - loss: 43937.2109 - root_mean_squared_error: 209.6120 - val_loss: 66948.3828 - val_root_mean_squared_error: 258.7439\n",
            "Epoch 26/30\n",
            "136/136 [==============================] - 0s 1ms/step - loss: 43667.7461 - root_mean_squared_error: 208.9683 - val_loss: 66583.9375 - val_root_mean_squared_error: 258.0386\n",
            "Epoch 27/30\n",
            "136/136 [==============================] - 0s 2ms/step - loss: 43400.6484 - root_mean_squared_error: 208.3282 - val_loss: 66218.8281 - val_root_mean_squared_error: 257.3302\n",
            "Epoch 28/30\n",
            "136/136 [==============================] - 0s 1ms/step - loss: 43133.6797 - root_mean_squared_error: 207.6865 - val_loss: 65856.3906 - val_root_mean_squared_error: 256.6250\n",
            "Epoch 29/30\n",
            "136/136 [==============================] - 0s 1ms/step - loss: 42866.6367 - root_mean_squared_error: 207.0426 - val_loss: 65493.7305 - val_root_mean_squared_error: 255.9174\n",
            "Epoch 30/30\n",
            "136/136 [==============================] - 0s 1ms/step - loss: 42600.9844 - root_mean_squared_error: 206.4001 - val_loss: 65132.2031 - val_root_mean_squared_error: 255.2101\n",
            "68.679443359375\n"
          ]
        },
        {
          "output_type": "display_data",
          "data": {
            "text/plain": [
              "<Figure size 432x288 with 1 Axes>"
            ],
            "image/png": "[encoded data removed]"
          },
          "metadata": {
            "needs_background": "light"
          }
        },
        {
          "output_type": "stream",
          "name": "stdout",
          "text": [
            "Defined the plot_the_loss_curve function.\n"
          ]
        }
      ]
    },
    {
      "cell_type": "code",
      "source": [
        "train_df.head(n=1000)"
      ],
      "metadata": {
        "colab": {
          "base_uri": "https://localhost:8080/",
          "height": 424
        },
        "id": "aM1SWR68SZGn",
        "outputId": "42ec876f-06ff-412d-9a4f-d693c1bd8d5e"
      },
      "execution_count": 7,
      "outputs": [
        {
          "output_type": "execute_result",
          "data": {
            "text/plain": [
              "     longitude  latitude  housing_median_age  total_rooms  total_bedrooms  \\\n",
              "0       -114.3      34.2                15.0       5612.0          1283.0   \n",
              "1       -114.5      34.4                19.0       7650.0          1901.0   \n",
              "2       -114.6      33.7                17.0        720.0           174.0   \n",
              "3       -114.6      33.6                14.0       1501.0           337.0   \n",
              "4       -114.6      33.6                20.0       1454.0           326.0   \n",
              "..         ...       ...                 ...          ...             ...   \n",
              "995     -117.1      32.5                 8.0       6533.0          1217.0   \n",
              "996     -117.1      34.6                 6.0       5110.0          1044.0   \n",
              "997     -117.1      34.2                22.0       4397.0           931.0   \n",
              "998     -117.1      34.0                24.0       4144.0           826.0   \n",
              "999     -117.1      33.6                 6.0       1868.0           289.0   \n",
              "\n",
              "     population  households  median_income  median_house_value  \n",
              "0        1015.0       472.0            1.5                66.9  \n",
              "1        1129.0       463.0            1.8                80.1  \n",
              "2         333.0       117.0            1.7                85.7  \n",
              "3         515.0       226.0            3.2                73.4  \n",
              "4         624.0       262.0            1.9                65.5  \n",
              "..          ...         ...            ...                 ...  \n",
              "995      4797.0      1177.0            4.0               144.4  \n",
              "996      1938.0       724.0            3.2               112.8  \n",
              "997      1145.0       445.0            4.5               108.4  \n",
              "998      2127.0       772.0            2.5                96.0  \n",
              "999       750.0       247.0            4.4               307.6  \n",
              "\n",
              "[1000 rows x 9 columns]"
            ],
            "text/html": [
              "\n",
              "  <div id=\"df-163ac7e3-ea71-4859-9d7b-6dae048575d1\">\n",
              "    <div class=\"colab-df-container\">\n",
              "      <div>\n",
              "<style scoped>\n",
              "    .dataframe tbody tr th:only-of-type {\n",
              "        vertical-align: middle;\n",
              "    }\n",
              "\n",
              "    .dataframe tbody tr th {\n",
              "        vertical-align: top;\n",
              "    }\n",
              "\n",
              "    .dataframe thead th {\n",
              "        text-align: right;\n",
              "    }\n",
              "</style>\n",
              "<table border=\"1\" class=\"dataframe\">\n",
              "  <thead>\n",
              "    <tr style=\"text-align: right;\">\n",
              "      <th></th>\n",
              "      <th>longitude</th>\n",
              "      <th>latitude</th>\n",
              "      <th>housing_median_age</th>\n",
              "      <th>total_rooms</th>\n",
              "      <th>total_bedrooms</th>\n",
              "      <th>population</th>\n",
              "      <th>households</th>\n",
              "      <th>median_income</th>\n",
              "      <th>median_house_value</th>\n",
              "    </tr>\n",
              "  </thead>\n",
              "  <tbody>\n",
              "    <tr>\n",
              "      <th>0</th>\n",
              "      <td>-114.3</td>\n",
              "      <td>34.2</td>\n",
              "      <td>15.0</td>\n",
              "      <td>5612.0</td>\n",
              "      <td>1283.0</td>\n",
              "      <td>1015.0</td>\n",
              "      <td>472.0</td>\n",
              "      <td>1.5</td>\n",
              "      <td>66.9</td>\n",
              "    </tr>\n",
              "    <tr>\n",
              "      <th>1</th>\n",
              "      <td>-114.5</td>\n",
              "      <td>34.4</td>\n",
              "      <td>19.0</td>\n",
              "      <td>7650.0</td>\n",
              "      <td>1901.0</td>\n",
              "      <td>1129.0</td>\n",
              "      <td>463.0</td>\n",
              "      <td>1.8</td>\n",
              "      <td>80.1</td>\n",
              "    </tr>\n",
              "    <tr>\n",
              "      <th>2</th>\n",
              "      <td>-114.6</td>\n",
              "      <td>33.7</td>\n",
              "      <td>17.0</td>\n",
              "      <td>720.0</td>\n",
              "      <td>174.0</td>\n",
              "      <td>333.0</td>\n",
              "      <td>117.0</td>\n",
              "      <td>1.7</td>\n",
              "      <td>85.7</td>\n",
              "    </tr>\n",
              "    <tr>\n",
              "      <th>3</th>\n",
              "      <td>-114.6</td>\n",
              "      <td>33.6</td>\n",
              "      <td>14.0</td>\n",
              "      <td>1501.0</td>\n",
              "      <td>337.0</td>\n",
              "      <td>515.0</td>\n",
              "      <td>226.0</td>\n",
              "      <td>3.2</td>\n",
              "      <td>73.4</td>\n",
              "    </tr>\n",
              "    <tr>\n",
              "      <th>4</th>\n",
              "      <td>-114.6</td>\n",
              "      <td>33.6</td>\n",
              "      <td>20.0</td>\n",
              "      <td>1454.0</td>\n",
              "      <td>326.0</td>\n",
              "      <td>624.0</td>\n",
              "      <td>262.0</td>\n",
              "      <td>1.9</td>\n",
              "      <td>65.5</td>\n",
              "    </tr>\n",
              "    <tr>\n",
              "      <th>...</th>\n",
              "      <td>...</td>\n",
              "      <td>...</td>\n",
              "      <td>...</td>\n",
              "      <td>...</td>\n",
              "      <td>...</td>\n",
              "      <td>...</td>\n",
              "      <td>...</td>\n",
              "      <td>...</td>\n",
              "      <td>...</td>\n",
              "    </tr>\n",
              "    <tr>\n",
              "      <th>995</th>\n",
              "      <td>-117.1</td>\n",
              "      <td>32.5</td>\n",
              "      <td>8.0</td>\n",
              "      <td>6533.0</td>\n",
              "      <td>1217.0</td>\n",
              "      <td>4797.0</td>\n",
              "      <td>1177.0</td>\n",
              "      <td>4.0</td>\n",
              "      <td>144.4</td>\n",
              "    </tr>\n",
              "    <tr>\n",
              "      <th>996</th>\n",
              "      <td>-117.1</td>\n",
              "      <td>34.6</td>\n",
              "      <td>6.0</td>\n",
              "      <td>5110.0</td>\n",
              "      <td>1044.0</td>\n",
              "      <td>1938.0</td>\n",
              "      <td>724.0</td>\n",
              "      <td>3.2</td>\n",
              "      <td>112.8</td>\n",
              "    </tr>\n",
              "    <tr>\n",
              "      <th>997</th>\n",
              "      <td>-117.1</td>\n",
              "      <td>34.2</td>\n",
              "      <td>22.0</td>\n",
              "      <td>4397.0</td>\n",
              "      <td>931.0</td>\n",
              "      <td>1145.0</td>\n",
              "      <td>445.0</td>\n",
              "      <td>4.5</td>\n",
              "      <td>108.4</td>\n",
              "    </tr>\n",
              "    <tr>\n",
              "      <th>998</th>\n",
              "      <td>-117.1</td>\n",
              "      <td>34.0</td>\n",
              "      <td>24.0</td>\n",
              "      <td>4144.0</td>\n",
              "      <td>826.0</td>\n",
              "      <td>2127.0</td>\n",
              "      <td>772.0</td>\n",
              "      <td>2.5</td>\n",
              "      <td>96.0</td>\n",
              "    </tr>\n",
              "    <tr>\n",
              "      <th>999</th>\n",
              "      <td>-117.1</td>\n",
              "      <td>33.6</td>\n",
              "      <td>6.0</td>\n",
              "      <td>1868.0</td>\n",
              "      <td>289.0</td>\n",
              "      <td>750.0</td>\n",
              "      <td>247.0</td>\n",
              "      <td>4.4</td>\n",
              "      <td>307.6</td>\n",
              "    </tr>\n",
              "  </tbody>\n",
              "</table>\n",
              "<p>1000 rows × 9 columns</p>\n",
              "</div>\n",
              "      <button class=\"colab-df-convert\" onclick=\"convertToInteractive('df-163ac7e3-ea71-4859-9d7b-6dae048575d1')\"\n",
              "              title=\"Convert this dataframe to an interactive table.\"\n",
              "              style=\"display:none;\">\n",
              "        \n",
              "  <svg xmlns=\"http://www.w3.org/2000/svg\" height=\"24px\"viewBox=\"0 0 24 24\"\n",
              "       width=\"24px\">\n",
              "    <path d=\"M0 0h24v24H0V0z\" fill=\"none\"/>\n",
              "    <path d=\"M18.56 5.44l.94 2.06.94-2.06 2.06-.94-2.06-.94-.94-2.06-.94 2.06-2.06.94zm-11 1L8.5 8.5l.94-2.06 2.06-.94-2.06-.94L8.5 2.5l-.94 2.06-2.06.94zm10 10l.94 2.06.94-2.06 2.06-.94-2.06-.94-.94-2.06-.94 2.06-2.06.94z\"/><path d=\"M17.41 7.96l-1.37-1.37c-.4-.4-.92-.59-1.43-.59-.52 0-1.04.2-1.43.59L10.3 9.45l-7.72 7.72c-.78.78-.78 2.05 0 2.83L4 21.41c.39.39.9.59 1.41.59.51 0 1.02-.2 1.41-.59l7.78-7.78 2.81-2.81c.8-.78.8-2.07 0-2.86zM5.41 20L4 18.59l7.72-7.72 1.47 1.35L5.41 20z\"/>\n",
              "  </svg>\n",
              "      </button>\n",
              "      \n",
              "  <style>\n",
              "    .colab-df-container {\n",
              "      display:flex;\n",
              "      flex-wrap:wrap;\n",
              "      gap: 12px;\n",
              "    }\n",
              "\n",
              "    .colab-df-convert {\n",
              "      background-color: #E8F0FE;\n",
              "      border: none;\n",
              "      border-radius: 50%;\n",
              "      cursor: pointer;\n",
              "      display: none;\n",
              "      fill: #1967D2;\n",
              "      height: 32px;\n",
              "      padding: 0 0 0 0;\n",
              "      width: 32px;\n",
              "    }\n",
              "\n",
              "    .colab-df-convert:hover {\n",
              "      background-color: #E2EBFA;\n",
              "      box-shadow: 0px 1px 2px rgba(60, 64, 67, 0.3), 0px 1px 3px 1px rgba(60, 64, 67, 0.15);\n",
              "      fill: #174EA6;\n",
              "    }\n",
              "\n",
              "    [theme=dark] .colab-df-convert {\n",
              "      background-color: #3B4455;\n",
              "      fill: #D2E3FC;\n",
              "    }\n",
              "\n",
              "    [theme=dark] .colab-df-convert:hover {\n",
              "      background-color: #434B5C;\n",
              "      box-shadow: 0px 1px 3px 1px rgba(0, 0, 0, 0.15);\n",
              "      filter: drop-shadow(0px 1px 2px rgba(0, 0, 0, 0.3));\n",
              "      fill: #FFFFFF;\n",
              "    }\n",
              "  </style>\n",
              "\n",
              "      <script>\n",
              "        const buttonEl =\n",
              "          document.querySelector('#df-163ac7e3-ea71-4859-9d7b-6dae048575d1 button.colab-df-convert');\n",
              "        buttonEl.style.display =\n",
              "          google.colab.kernel.accessAllowed ? 'block' : 'none';\n",
              "\n",
              "        async function convertToInteractive(key) {\n",
              "          const element = document.querySelector('#df-163ac7e3-ea71-4859-9d7b-6dae048575d1');\n",
              "          const dataTable =\n",
              "            await google.colab.kernel.invokeFunction('convertToInteractive',\n",
              "                                                     [key], {});\n",
              "          if (!dataTable) return;\n",
              "\n",
              "          const docLinkHtml = 'Like what you see? Visit the ' +\n",
              "            '<a target=\"_blank\" href=https://colab.research.google.com/notebooks/data_table.ipynb>data table notebook</a>'\n",
              "            + ' to learn more about interactive tables.';\n",
              "          element.innerHTML = '';\n",
              "          dataTable['output_type'] = 'display_data';\n",
              "          await google.colab.output.renderOutput(dataTable, element);\n",
              "          const docLink = document.createElement('div');\n",
              "          docLink.innerHTML = docLinkHtml;\n",
              "          element.appendChild(docLink);\n",
              "        }\n",
              "      </script>\n",
              "    </div>\n",
              "  </div>\n",
              "  "
            ]
          },
          "metadata": {},
          "execution_count": 7
        }
      ]
    },
    {
      "cell_type": "code",
      "source": [
        "#Sshuffle the data\n",
        "\n",
        "shuffled_train_df=train_df.reindex(np.random.permutation(train_df.index))"
      ],
      "metadata": {
        "id": "JFk3yrNqSZQP"
      },
      "execution_count": 8,
      "outputs": []
    },
    {
      "cell_type": "code",
      "source": [
        "# The following variables are the hyperparameters.\n",
        "learning_rate = 0.08\n",
        "epochs = 30\n",
        "batch_size = 100\n",
        "\n",
        "# Split the original training set into a reduced training set and a\n",
        "# validation set. \n",
        "validation_split = 0.15\n",
        "\n",
        "# Identify the feature and the label.\n",
        "my_feature = \"median_income\"    # the median income on a specific city block.\n",
        "my_label = \"median_house_value\" # the median house value on a specific city block.\n",
        "# That is, you're going to create a model that predicts house value based \n",
        "# solely on the neighborhood's median income.  \n",
        "epochs, rmse, history = train_model(my_model, shuffled_train_df, my_feature, \n",
        "                                      my_label, epochs, batch_size, \n",
        "                                      validation_split)\n",
        "\n",
        "plot_the_loss_curve(epochs, history[\"root_mean_squared_error\"], \n",
        "                    history[\"val_root_mean_squared_error\"])"
      ],
      "metadata": {
        "colab": {
          "base_uri": "https://localhost:8080/",
          "height": 1000
        },
        "id": "Kg14jaMMrOM4",
        "outputId": "ca269544-91e7-4f69-9488-ef423f6a5767"
      },
      "execution_count": 11,
      "outputs": [
        {
          "output_type": "stream",
          "name": "stdout",
          "text": [
            "Epoch 1/30\n",
            "145/145 [==============================] - 1s 2ms/step - loss: 38614.5156 - root_mean_squared_error: 196.5058 - val_loss: 39777.0664 - val_root_mean_squared_error: 199.4419\n",
            "Epoch 2/30\n",
            "145/145 [==============================] - 0s 1ms/step - loss: 38346.9609 - root_mean_squared_error: 195.8238 - val_loss: 39502.8906 - val_root_mean_squared_error: 198.7533\n",
            "Epoch 3/30\n",
            "145/145 [==============================] - 0s 2ms/step - loss: 38079.5078 - root_mean_squared_error: 195.1397 - val_loss: 39228.5156 - val_root_mean_squared_error: 198.0619\n",
            "Epoch 4/30\n",
            "145/145 [==============================] - 0s 1ms/step - loss: 37814.2188 - root_mean_squared_error: 194.4588 - val_loss: 38955.0195 - val_root_mean_squared_error: 197.3703\n",
            "Epoch 5/30\n",
            "145/145 [==============================] - 0s 1ms/step - loss: 37549.5625 - root_mean_squared_error: 193.7771 - val_loss: 38683.7539 - val_root_mean_squared_error: 196.6819\n",
            "Epoch 6/30\n",
            "145/145 [==============================] - 0s 1ms/step - loss: 37287.8711 - root_mean_squared_error: 193.1007 - val_loss: 38412.9883 - val_root_mean_squared_error: 195.9923\n",
            "Epoch 7/30\n",
            "145/145 [==============================] - 0s 1ms/step - loss: 37024.3516 - root_mean_squared_error: 192.4171 - val_loss: 38143.2656 - val_root_mean_squared_error: 195.3030\n",
            "Epoch 8/30\n",
            "145/145 [==============================] - 0s 2ms/step - loss: 36763.7227 - root_mean_squared_error: 191.7387 - val_loss: 37874.8594 - val_root_mean_squared_error: 194.6146\n",
            "Epoch 9/30\n",
            "145/145 [==============================] - 0s 2ms/step - loss: 36503.0586 - root_mean_squared_error: 191.0577 - val_loss: 37607.5312 - val_root_mean_squared_error: 193.9266\n",
            "Epoch 10/30\n",
            "145/145 [==============================] - 0s 1ms/step - loss: 36244.6367 - root_mean_squared_error: 190.3802 - val_loss: 37342.0352 - val_root_mean_squared_error: 193.2409\n",
            "Epoch 11/30\n",
            "145/145 [==============================] - 0s 2ms/step - loss: 35986.8555 - root_mean_squared_error: 189.7020 - val_loss: 37077.0664 - val_root_mean_squared_error: 192.5541\n",
            "Epoch 12/30\n",
            "145/145 [==============================] - 0s 1ms/step - loss: 35730.6172 - root_mean_squared_error: 189.0254 - val_loss: 36814.0781 - val_root_mean_squared_error: 191.8700\n",
            "Epoch 13/30\n",
            "145/145 [==============================] - 0s 1ms/step - loss: 35475.1133 - root_mean_squared_error: 188.3484 - val_loss: 36551.3750 - val_root_mean_squared_error: 191.1841\n",
            "Epoch 14/30\n",
            "145/145 [==============================] - 0s 1ms/step - loss: 35220.8672 - root_mean_squared_error: 187.6722 - val_loss: 36289.8750 - val_root_mean_squared_error: 190.4990\n",
            "Epoch 15/30\n",
            "145/145 [==============================] - 0s 1ms/step - loss: 34968.7812 - root_mean_squared_error: 186.9994 - val_loss: 36029.8672 - val_root_mean_squared_error: 189.8154\n",
            "Epoch 16/30\n",
            "145/145 [==============================] - 0s 1ms/step - loss: 34716.6406 - root_mean_squared_error: 186.3240 - val_loss: 35771.3633 - val_root_mean_squared_error: 189.1332\n",
            "Epoch 17/30\n",
            "145/145 [==============================] - 0s 2ms/step - loss: 34465.9414 - root_mean_squared_error: 185.6501 - val_loss: 35513.8125 - val_root_mean_squared_error: 188.4511\n",
            "Epoch 18/30\n",
            "145/145 [==============================] - 0s 2ms/step - loss: 34215.6836 - root_mean_squared_error: 184.9748 - val_loss: 35257.2383 - val_root_mean_squared_error: 187.7691\n",
            "Epoch 19/30\n",
            "145/145 [==============================] - 0s 2ms/step - loss: 33966.8008 - root_mean_squared_error: 184.3008 - val_loss: 35000.7539 - val_root_mean_squared_error: 187.0849\n",
            "Epoch 20/30\n",
            "145/145 [==============================] - 0s 2ms/step - loss: 33719.9570 - root_mean_squared_error: 183.6299 - val_loss: 34747.1484 - val_root_mean_squared_error: 186.4059\n",
            "Epoch 21/30\n",
            "145/145 [==============================] - 0s 2ms/step - loss: 33473.8047 - root_mean_squared_error: 182.9585 - val_loss: 34494.2070 - val_root_mean_squared_error: 185.7262\n",
            "Epoch 22/30\n",
            "145/145 [==============================] - 0s 2ms/step - loss: 33228.7266 - root_mean_squared_error: 182.2875 - val_loss: 34242.5078 - val_root_mean_squared_error: 185.0473\n",
            "Epoch 23/30\n",
            "145/145 [==============================] - 0s 2ms/step - loss: 32984.3633 - root_mean_squared_error: 181.6160 - val_loss: 33991.5820 - val_root_mean_squared_error: 184.3681\n",
            "Epoch 24/30\n",
            "145/145 [==============================] - 0s 2ms/step - loss: 32742.4824 - root_mean_squared_error: 180.9488 - val_loss: 33742.2109 - val_root_mean_squared_error: 183.6905\n",
            "Epoch 25/30\n",
            "145/145 [==============================] - 0s 1ms/step - loss: 32502.4180 - root_mean_squared_error: 180.2843 - val_loss: 33494.5117 - val_root_mean_squared_error: 183.0151\n",
            "Epoch 26/30\n",
            "145/145 [==============================] - 0s 2ms/step - loss: 32260.5938 - root_mean_squared_error: 179.6124 - val_loss: 33247.2266 - val_root_mean_squared_error: 182.3382\n",
            "Epoch 27/30\n",
            "145/145 [==============================] - 0s 1ms/step - loss: 32021.6074 - root_mean_squared_error: 178.9458 - val_loss: 33000.9375 - val_root_mean_squared_error: 181.6616\n",
            "Epoch 28/30\n",
            "145/145 [==============================] - 0s 2ms/step - loss: 31783.6113 - root_mean_squared_error: 178.2796 - val_loss: 32756.1387 - val_root_mean_squared_error: 180.9866\n",
            "Epoch 29/30\n",
            "145/145 [==============================] - 0s 2ms/step - loss: 31547.1387 - root_mean_squared_error: 177.6151 - val_loss: 32512.8965 - val_root_mean_squared_error: 180.3133\n",
            "Epoch 30/30\n",
            "145/145 [==============================] - 0s 2ms/step - loss: 31311.6543 - root_mean_squared_error: 176.9510 - val_loss: 32270.8809 - val_root_mean_squared_error: 179.6410\n",
            "21.802352905273438\n"
          ]
        },
        {
          "output_type": "display_data",
          "data": {
            "text/plain": [
              "<Figure size 432x288 with 1 Axes>"
            ],
            "image/png": "[encoded data removed]"
          },
          "metadata": {
            "needs_background": "light"
          }
        },
        {
          "output_type": "stream",
          "name": "stdout",
          "text": [
            "Defined the plot_the_loss_curve function.\n"
          ]
        }
      ]
    },
    {
      "cell_type": "code",
      "source": [
        "#@title Testing the Model\n",
        "\n",
        "x_test=test_df[my_feature]\n",
        "y_test=test_df[my_label]\n",
        "\n",
        "results = my_model.evaluate(x_test, y_test, batch_size = batch_size)"
      ],
      "metadata": {
        "id": "2pD8bEVzrOb8",
        "colab": {
          "base_uri": "https://localhost:8080/"
        },
        "outputId": "01865209-1c7e-491c-b54c-ad1c236e020a"
      },
      "execution_count": 12,
      "outputs": [
        {
          "output_type": "stream",
          "name": "stdout",
          "text": [
            "30/30 [==============================] - 0s 1ms/step - loss: 30825.6152 - root_mean_squared_error: 175.5723\n"
          ]
        }
      ]
    }
  ]
}